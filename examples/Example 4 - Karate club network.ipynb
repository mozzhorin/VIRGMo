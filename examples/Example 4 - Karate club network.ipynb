{
 "cells": [
  {
   "cell_type": "markdown",
   "metadata": {},
   "source": [
    "# Example 4. Karate club network"
   ]
  },
  {
   "cell_type": "markdown",
   "metadata": {},
   "source": [
    "In this example, we fit SBMs to the famous Zachary's Karate Club network[1]. The university's karate club has split up into two groups due to the internal conflict. The available information is the social interactions of 34 participants outside the club. The task is to separate the individuals into groups using this data, and the members of each faction are known. As the number of connections significantly varies among the persons, it was demonstrated that DCSBM better describes this network as the standard SBM, those treat the node's degree as the main feature[2].\n",
    "\n",
    "![](images/karate_dcsbm.png)\n",
    "#### Zachary's Karate club network divided into groups by DCSBM [2]\n",
    "\n",
    "[1] W. W. Zachary, An information flow model for conflict and fission in small groups, Journal of Anthropological Research 33, 452-473 (1977).\n",
    "\n",
    "[2] Brian Karrer and M. E. J. Newman, Stochastic blockmodels and community structure in networks, Phys. Rev. E 83, 016107 (2011)."
   ]
  },
  {
   "cell_type": "code",
   "execution_count": 1,
   "metadata": {},
   "outputs": [
    {
     "data": {
      "text/plain": [
       "<torch._C.Generator at 0x7f3a948c8690>"
      ]
     },
     "execution_count": 1,
     "metadata": {},
     "output_type": "execute_result"
    }
   ],
   "source": [
    "import torch\n",
    "import numpy as np\n",
    "np.set_printoptions(precision=2)\n",
    "import pandas as pd\n",
    "import matplotlib.pyplot as plt\n",
    "from virgmo.vi_sbm import VI_SBM, VI_DCSBM\n",
    "from virgmo.graph_models import SBM, DCSBM, EdgesDataset\n",
    "import seaborn as sns\n",
    "sns.reset_orig()\n",
    "torch.manual_seed(42)"
   ]
  },
  {
   "cell_type": "markdown",
   "metadata": {},
   "source": [
    "We start with the data import and aggregate the links into the adjacency matrix $A$. The true group assignments `z_true` are known."
   ]
  },
  {
   "cell_type": "code",
   "execution_count": 2,
   "metadata": {},
   "outputs": [],
   "source": [
    "karate = pd.read_csv('../data/karate', sep=' ')\n",
    "N = 34\n",
    "num_classes = 2\n",
    "A = torch.zeros((N,N))\n",
    "for e in np.array(karate):\n",
    "    A[e[0]-1,e[1]-1] = 1\n",
    "    A[e[1]-1,e[0]-1] = 1\n",
    "    \n",
    "z_true = torch.tensor([\n",
    "    [0,0,0,0,0,0,0,0,1,1,0,0,0,0,1,1,0,0,1,0,1,0,1,1,1,1,1,1,1,1,1,1,1,1],\n",
    "    [1,1,1,1,1,1,1,1,0,0,1,1,1,1,0,0,1,1,0,1,0,1,0,0,0,0,0,0,0,0,0,0,0,0]]).t()"
   ]
  },
  {
   "cell_type": "markdown",
   "metadata": {},
   "source": [
    "Here is the network's adjacency matrix $A$."
   ]
  },
  {
   "cell_type": "code",
   "execution_count": 26,
   "metadata": {},
   "outputs": [
    {
     "data": {
      "image/png": "[encoded data removed]",
      "text/plain": [
       "<Figure size 1800x900 with 3 Axes>"
      ]
     },
     "metadata": {},
     "output_type": "display_data"
    }
   ],
   "source": [
    "sns.reset_orig()\n",
    "class_sizes = lambda classes: np.array(pd.Series(classes.numpy()).value_counts().sort_index())\n",
    "cs = class_sizes(z_true.argmax(dim=1))\n",
    "order = z_true.argmax(dim=1).argsort()\n",
    "fig, axs = plt.subplots(1,2, figsize=(18,9))\n",
    "\n",
    "axs[0].imshow(A.numpy(), cmap='viridis')\n",
    "ax = axs[1].imshow(A[order,:][:,order].numpy(), cmap='viridis')\n",
    "acc = -0.5\n",
    "for i in cs[:-1]:\n",
    "    acc += i\n",
    "    axs[1].axvline(acc, color='r', linestyle='-', linewidth=1, alpha=0.9)\n",
    "    axs[1].axhline(acc, color='r', linestyle='-', linewidth=1, alpha=0.9)\n",
    "fig.subplots_adjust(right=0.8)\n",
    "cbar_ax = fig.add_axes([0.83, 0.188, 0.02, 0.615])\n",
    "fig.colorbar(ax, cax=cbar_ax, aspect=30)\n",
    "plt.savefig('../examples/images/ex4_A.pdf')\n",
    "plt.show()"
   ]
  },
  {
   "cell_type": "markdown",
   "metadata": {},
   "source": [
    "## SBM"
   ]
  },
  {
   "cell_type": "markdown",
   "metadata": {},
   "source": [
    "First, we try the standard SBM. The default prior distribution in `VIRGMo` is quite flat but for this example we may use a more sharp one. We assume that the sizes of both groups are similar, and the nodes are connected densely within the groups as outside."
   ]
  },
  {
   "cell_type": "code",
   "execution_count": 5,
   "metadata": {
    "scrolled": true
   },
   "outputs": [
    {
     "name": "stdout",
     "output_type": "stream",
     "text": [
      ">>>>>>> Start multi-training...\n",
      ">>> Trial 1/20 | Final loss: 426.49 | Trial time 8.72\n",
      ">>> Trial 2/20 | Final loss: 426.36 | Trial time 4.81\n",
      ">>> Trial 3/20 | Final loss: 425.73 | Trial time 6.60\n",
      ">>> Trial 4/20 | Final loss: 425.45 | Trial time 5.78\n",
      ">>> Trial 5/20 | Final loss: 488.18 | Trial time 6.08\n",
      ">>> Trial 6/20 | Final loss: 426.15 | Trial time 5.67\n",
      ">>> Trial 7/20 | Final loss: 425.63 | Trial time 5.62\n",
      ">>> Trial 8/20 | Final loss: 425.58 | Trial time 5.67\n",
      ">>> Trial 9/20 | Final loss: 425.49 | Trial time 5.66\n",
      ">>> Trial 10/20 | Final loss: 426.13 | Trial time 5.74\n",
      ">>> Trial 11/20 | Final loss: 425.86 | Trial time 6.83\n",
      ">>> Trial 12/20 | Final loss: 425.95 | Trial time 7.10\n",
      ">>> Trial 13/20 | Final loss: 425.58 | Trial time 5.25\n",
      ">>> Trial 14/20 | Final loss: 426.21 | Trial time 7.14\n",
      ">>> Trial 15/20 | Final loss: 425.59 | Trial time 6.45\n",
      ">>> Trial 16/20 | Final loss: 425.62 | Trial time 5.18\n",
      ">>> Trial 17/20 | Final loss: 425.83 | Trial time 9.08\n",
      ">>> Trial 18/20 | Final loss: 425.63 | Trial time 9.78\n",
      ">>> Trial 19/20 | Final loss: 426.30 | Trial time 8.92\n",
      ">>> Trial 20/20 | Final loss: 426.07 | Trial time 7.76\n"
     ]
    }
   ],
   "source": [
    "theta_p = torch.ones([num_classes])*5\n",
    "w_p = torch.tensor([\n",
    "        [[9., 1.], [1., 9.]],\n",
    "        [[1., 9.], [9., 1.]]\n",
    "        ])\n",
    "\n",
    "dataloader = DataLoader(EdgesDataset(A.float()), \n",
    "                        batch_size=N, shuffle=True, num_workers=0)\n",
    "\n",
    "vi = VI_SBM(num_nodes=N, num_classes=num_classes, \n",
    "                   priors={'theta_p':theta_p, \n",
    "                           'B_p':w_p},\n",
    "                   init_values={'etas':None, \n",
    "                                'thetas':None, \n",
    "                                'Bs':None})\n",
    "vi.multi_train(dataloader, epochs=20, lrs = [0.1, 0.05, 0.01], trials=20)"
   ]
  },
  {
   "cell_type": "code",
   "execution_count": 6,
   "metadata": {},
   "outputs": [],
   "source": [
    "best_trial = vi.get_multi_losses()[:,-1].argmin()   # With the smallest loss ar the end"
   ]
  },
  {
   "cell_type": "code",
   "execution_count": 7,
   "metadata": {},
   "outputs": [],
   "source": [
    "vi.load_state_dict(vi.state_dicts[best_trial])      # Load the parameters from the best trial\n",
    "q_eta, q_theta, q_B = vi.constrained_params()"
   ]
  },
  {
   "cell_type": "code",
   "execution_count": 8,
   "metadata": {},
   "outputs": [
    {
     "data": {
      "text/plain": [
       "tensor([0.7551, 0.2449])"
      ]
     },
     "execution_count": 8,
     "metadata": {},
     "output_type": "execute_result"
    }
   ],
   "source": [
    "vi.multi_results[1][best_trial]                     # Class probability of the best trial"
   ]
  },
  {
   "cell_type": "code",
   "execution_count": 9,
   "metadata": {},
   "outputs": [
    {
     "name": "stdout",
     "output_type": "stream",
     "text": [
      "True class probabilities: tensor([0.5294, 0.4706])\n"
     ]
    }
   ],
   "source": [
    "print('True class probabilities:', z_true.sum(dim=0).float()/34)"
   ]
  },
  {
   "cell_type": "markdown",
   "metadata": {},
   "source": [
    "We see that the standard SBM struggles to find the correct class probabilities $\\theta$. Let us look at the accuracy of the class assignments in all trials."
   ]
  },
  {
   "cell_type": "code",
   "execution_count": 10,
   "metadata": {},
   "outputs": [
    {
     "name": "stdout",
     "output_type": "stream",
     "text": [
      "0.5588235259056091\n",
      "0.5588235259056091\n",
      "0.5588235259056091\n",
      "0.5588235259056091\n",
      "0.529411792755127\n",
      "0.5588235259056091\n",
      "0.5588235259056091\n",
      "0.5588235259056091\n",
      "0.5588235259056091\n",
      "0.5588235259056091\n",
      "0.5588235259056091\n",
      "0.5588235259056091\n",
      "0.5588235259056091\n",
      "0.5588235259056091\n",
      "0.5588235259056091\n",
      "0.5588235259056091\n",
      "0.5588235259056091\n",
      "0.5588235259056091\n",
      "0.5588235259056091\n",
      "0.5588235259056091\n"
     ]
    }
   ],
   "source": [
    "for i in range(len(vi.multi_results[0])):\n",
    "    print(vi.class_accuracy(z_true,vi.multi_results[0][i]).item())"
   ]
  },
  {
   "cell_type": "markdown",
   "metadata": {},
   "source": [
    "It is clear that the standart SBM does not suit for this task. Next, we try the DCSBM."
   ]
  },
  {
   "cell_type": "markdown",
   "metadata": {},
   "source": [
    "## DCSBM"
   ]
  },
  {
   "cell_type": "markdown",
   "metadata": {},
   "source": [
    "Here, we use the same prior as for the SBM. As in the preivious examples we initialize $\\delta$ with the observed degree distributions."
   ]
  },
  {
   "cell_type": "code",
   "execution_count": 11,
   "metadata": {},
   "outputs": [],
   "source": [
    "theta_p = torch.ones([num_classes])*5\n",
    "w_p = torch.tensor([\n",
    "        [[9., 1.], [1., 9.]],\n",
    "        [[1., 9.], [9., 1.]]\n",
    "        ])"
   ]
  },
  {
   "cell_type": "code",
   "execution_count": 12,
   "metadata": {},
   "outputs": [
    {
     "name": "stdout",
     "output_type": "stream",
     "text": [
      "Contains infinities: False\n"
     ]
    }
   ],
   "source": [
    "delta_init = torch.ones([N,2])\n",
    "delta_mu = A.sum(dim=1)/A.sum(dim=1).mean()\n",
    "delta_init[:,0]=delta_mu.log().clone()\n",
    "print('Contains infinities:', bool(torch.isinf(delta_init).sum().item()))"
   ]
  },
  {
   "cell_type": "code",
   "execution_count": 13,
   "metadata": {
    "scrolled": true
   },
   "outputs": [
    {
     "name": "stdout",
     "output_type": "stream",
     "text": [
      ">>>>>>> Start multi-training...\n"
     ]
    },
    {
     "name": "stderr",
     "output_type": "stream",
     "text": [
      " /home/mo/anaconda3/lib/python3.7/site-packages/ipykernel_launcher.py:1: UserWarning:To copy construct from a tensor, it is recommended to use sourceTensor.clone().detach() or sourceTensor.clone().detach().requires_grad_(True), rather than torch.tensor(sourceTensor). \n"
     ]
    },
    {
     "name": "stdout",
     "output_type": "stream",
     "text": [
      ">>> Trial 1/10 | Final loss: 356.92 | Trial time 13.26\n",
      ">>> Trial 2/10 | Final loss: 354.96 | Trial time 9.82\n",
      ">>> Trial 3/10 | Final loss: 350.87 | Trial time 10.81\n",
      ">>> Trial 4/10 | Final loss: 355.56 | Trial time 13.27\n",
      ">>> Trial 5/10 | Final loss: 355.42 | Trial time 13.43\n",
      ">>> Trial 6/10 | Final loss: 358.47 | Trial time 10.75\n",
      ">>> Trial 7/10 | Final loss: 350.66 | Trial time 10.29\n",
      ">>> Trial 8/10 | Final loss: 354.65 | Trial time 14.32\n",
      ">>> Trial 9/10 | Final loss: 351.21 | Trial time 13.15\n",
      ">>> Trial 10/10 | Final loss: 353.98 | Trial time 12.62\n"
     ]
    }
   ],
   "source": [
    "dataloader = DataLoader(EdgesDataset(torch.tensor(A).float()), \n",
    "                        batch_size=N, shuffle=True, num_workers=0)\n",
    "\n",
    "vi = VI_DCSBM(num_nodes=N, num_classes=num_classes, \n",
    "                   priors={'theta_p':theta_p, \n",
    "                           'B_p':w_p,\n",
    "                           'delta_p':None},\n",
    "                   init_values={'etas':None, \n",
    "                                'thetas':None, \n",
    "                                'Bs':None,\n",
    "                                'deltas':delta_init})\n",
    "vi.multi_train(dataloader, epochs=20, lrs = [0.1, 0.05, 0.01], trials=10)"
   ]
  },
  {
   "cell_type": "code",
   "execution_count": 14,
   "metadata": {},
   "outputs": [],
   "source": [
    "best_trial = vi.get_multi_losses()[:,-1].argmin()   # With the smallest loss ar the end"
   ]
  },
  {
   "cell_type": "code",
   "execution_count": 15,
   "metadata": {},
   "outputs": [],
   "source": [
    "vi.load_state_dict(vi.state_dicts[best_trial])      # Load the parameters from the best trial\n",
    "q_eta, q_theta, q_B, q_delta = vi.constrained_params()"
   ]
  },
  {
   "cell_type": "code",
   "execution_count": 16,
   "metadata": {},
   "outputs": [
    {
     "data": {
      "text/plain": [
       "tensor([0.4748, 0.5252])"
      ]
     },
     "execution_count": 16,
     "metadata": {},
     "output_type": "execute_result"
    }
   ],
   "source": [
    "vi.multi_results[1][best_trial]                     # Class probability of the best trial"
   ]
  },
  {
   "cell_type": "code",
   "execution_count": 17,
   "metadata": {},
   "outputs": [],
   "source": [
    "theta_true = z_true.sum(dim=0).float()/34"
   ]
  },
  {
   "cell_type": "code",
   "execution_count": 18,
   "metadata": {},
   "outputs": [
    {
     "name": "stdout",
     "output_type": "stream",
     "text": [
      "True class probabilities: tensor([0.5294, 0.4706])\n"
     ]
    }
   ],
   "source": [
    "print('True class probabilities:', theta_true)"
   ]
  },
  {
   "cell_type": "markdown",
   "metadata": {},
   "source": [
    "Again, let us look at the class acuracy."
   ]
  },
  {
   "cell_type": "code",
   "execution_count": 19,
   "metadata": {},
   "outputs": [
    {
     "name": "stdout",
     "output_type": "stream",
     "text": [
      "1.0\n",
      "1.0\n",
      "1.0\n",
      "1.0\n",
      "1.0\n",
      "1.0\n",
      "1.0\n",
      "1.0\n",
      "1.0\n",
      "1.0\n"
     ]
    }
   ],
   "source": [
    "for i in range(len(vi.multi_results[0])):\n",
    "    print(vi.class_accuracy(z_true,vi.multi_results[0][i]).item())"
   ]
  },
  {
   "cell_type": "markdown",
   "metadata": {},
   "source": [
    "The class assignments of the DCSBM is correct in the majority of the trials. Further, we may inspect the estimated $\\theta$ and $B$ distributions."
   ]
  },
  {
   "cell_type": "code",
   "execution_count": 20,
   "metadata": {},
   "outputs": [],
   "source": [
    "permutation = [1,0]\n",
    "q_theta_perm = q_theta.detach()[permutation]\n",
    "num_samples = 1000\n",
    "theta_samples = Dirichlet(q_theta_perm).sample([num_samples])"
   ]
  },
  {
   "cell_type": "code",
   "execution_count": 23,
   "metadata": {},
   "outputs": [
    {
     "data": {
      "image/png": "[encoded data removed]",
      "text/plain": [
       "<Figure size 1296x288 with 2 Axes>"
      ]
     },
     "metadata": {},
     "output_type": "display_data"
    }
   ],
   "source": [
    "sns.set()\n",
    "fig, axs = plt.subplots(1, num_classes, figsize=(18,4), sharey=True)\n",
    "bins, alpha = 20, 0.8\n",
    "for i in range(num_classes):\n",
    "    axs[i].hist(theta_samples[:,i], bins=bins, alpha=alpha) \n",
    "    axs[i].vlines(theta_true[i], 0, num_samples*0.15, colors='r')\n",
    "fig.suptitle(r'Posterior class probabilities $\\theta$', fontsize=18)\n",
    "#plt.savefig('../examples/images/ex4_theta_dcsbm.pdf')\n",
    "plt.show()"
   ]
  },
  {
   "cell_type": "code",
   "execution_count": 24,
   "metadata": {
    "scrolled": false
   },
   "outputs": [
    {
     "data": {
      "image/png": "[encoded data removed]",
      "text/plain": [
       "<Figure size 1296x1296 with 4 Axes>"
      ]
     },
     "metadata": {},
     "output_type": "display_data"
    }
   ],
   "source": [
    "q_B_perm = q_B.detach()[permutation,:,:][:,permutation,:]\n",
    "B_samples = Beta(q_B_perm[:,:,0], q_B_perm[:,:,1]).sample([num_samples])\n",
    "\n",
    "fig, axs = plt.subplots(num_classes, num_classes, figsize=(18,18), sharey=True)\n",
    "bins, alpha = 20, 0.8\n",
    "for i in range(num_classes):\n",
    "    for j in range(num_classes):\n",
    "        axs[i,j].hist(B_samples[:,i, j], bins=bins, alpha=alpha) \n",
    "fig.suptitle(r'Posterior connection probabilities $B$', fontsize=18)\n",
    "#plt.savefig('../examples/images/ex4_B_dcsbm.pdf')\n",
    "plt.show()"
   ]
  },
  {
   "cell_type": "code",
   "execution_count": null,
   "metadata": {},
   "outputs": [],
   "source": []
  }
 ],
 "metadata": {
  "@webio": {
   "lastCommId": null,
   "lastKernelId": null
  },
  "kernelspec": {
   "display_name": "Python 3",
   "language": "python",
   "name": "python3"
  },
  "language_info": {
   "codemirror_mode": {
    "name": "ipython",
    "version": 3
   },
   "file_extension": ".py",
   "mimetype": "text/x-python",
   "name": "python",
   "nbconvert_exporter": "python",
   "pygments_lexer": "ipython3",
   "version": "3.7.3"
  }
 },
 "nbformat": 4,
 "nbformat_minor": 2
}
