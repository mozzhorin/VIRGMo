{
 "cells": [
  {
   "cell_type": "code",
   "execution_count": 1,
   "metadata": {},
   "outputs": [
    {
     "data": {
      "text/plain": [
       "<torch._C.Generator at 0x7f507584e110>"
      ]
     },
     "execution_count": 1,
     "metadata": {},
     "output_type": "execute_result"
    }
   ],
   "source": [
    "import sys\n",
    "sys.path.append('../src/')\n",
    "from vi_hrg_approx_vMF2D import *\n",
    "from utils import c2d, hyperdist, p_hd, polar2cart, warn_tensor\n",
    "from torch import autograd\n",
    "torch.manual_seed(4)"
   ]
  },
  {
   "cell_type": "code",
   "execution_count": 2,
   "metadata": {},
   "outputs": [],
   "source": [
    "def noise_r(x, R, rel_var=0.1, epsilon=1e-4):\n",
    "    rs = torch.distributions.normal.Normal(x, R*rel_var).sample() \n",
    "    return torch.clamp(rs, min=0+epsilon, max=R.item()-epsilon)"
   ]
  },
  {
   "cell_type": "code",
   "execution_count": 3,
   "metadata": {},
   "outputs": [],
   "source": [
    "def noise_phi(x, rel_var=0.1):\n",
    "    phis = torch.distributions.normal.Normal(x, 2*np.pi*rel_var).sample()\n",
    "    return phis % (2*np.pi)"
   ]
  },
  {
   "cell_type": "code",
   "execution_count": 4,
   "metadata": {},
   "outputs": [],
   "source": [
    "logit = lambda x: (x/(1-x)).log()"
   ]
  },
  {
   "cell_type": "code",
   "execution_count": 5,
   "metadata": {},
   "outputs": [
    {
     "data": {
      "image/png": "[encoded data removed]",
      "text/plain": [
       "<Figure size 432x432 with 2 Axes>"
      ]
     },
     "metadata": {
      "needs_background": "light"
     },
     "output_type": "display_data"
    },
    {
     "data": {
      "image/png": "[encoded data removed]",
      "text/plain": [
       "<Figure size 432x432 with 1 Axes>"
      ]
     },
     "metadata": {
      "needs_background": "light"
     },
     "output_type": "display_data"
    }
   ],
   "source": [
    "N = 10\n",
    "R = torch.tensor([5.0]).double()\n",
    "alpha = .7\n",
    "T = 0.1\n",
    "\n",
    "G = HRG(R=R, alpha=alpha, T=T)\n",
    "r, theta, A = G.generate(N)\n",
    "G.show()\n",
    "G.plot()"
   ]
  },
  {
   "cell_type": "code",
   "execution_count": 6,
   "metadata": {},
   "outputs": [
    {
     "data": {
      "text/plain": [
       "torch.Size([10, 2])"
      ]
     },
     "execution_count": 6,
     "metadata": {},
     "output_type": "execute_result"
    }
   ],
   "source": [
    "r_loc_init = logit(noise_r(r, R, rel_var=0.1)/R)*R/5\n",
    "r_scale_init = torch.ones([N]).double().log()\n",
    "phi_loc_init = polar2cart(1, noise_phi(theta, 0.1))\n",
    "phi_loc_init.shape"
   ]
  },
  {
   "cell_type": "code",
   "execution_count": 7,
   "metadata": {},
   "outputs": [
    {
     "data": {
      "text/plain": [
       "tensor([  0.9976,   1.2796,   0.9479,   0.5259, -10.8198,  -0.9847,  10.8198,\n",
       "          1.5026,   3.1051,   2.6276], dtype=torch.float64)"
      ]
     },
     "execution_count": 7,
     "metadata": {},
     "output_type": "execute_result"
    }
   ],
   "source": [
    "r_loc_init"
   ]
  },
  {
   "cell_type": "code",
   "execution_count": 8,
   "metadata": {},
   "outputs": [
    {
     "data": {
      "text/plain": [
       "tensor([3.6530e+00, 3.9119e+00, 3.6035e+00, 3.1427e+00, 1.0000e-04, 1.3598e+00,\n",
       "        4.9999e+00, 4.0898e+00, 4.7855e+00, 4.6631e+00], dtype=torch.float64)"
      ]
     },
     "execution_count": 8,
     "metadata": {},
     "output_type": "execute_result"
    }
   ],
   "source": [
    "Radius(r_loc_init, r_scale_init.exp(), R.expand([N])).mean"
   ]
  },
  {
   "cell_type": "code",
   "execution_count": 9,
   "metadata": {},
   "outputs": [],
   "source": [
    "R_conc_init = torch.tensor(10.).log()\n",
    "R_scale_init = torch.tensor(1.).log()\n",
    "alpha_conc_init = torch.tensor(.5).log()\n",
    "alpha_scale_init = torch.tensor(.5).log()\n",
    "T_init = torch.tensor([3.,10.]).log()"
   ]
  },
  {
   "cell_type": "code",
   "execution_count": 10,
   "metadata": {},
   "outputs": [
    {
     "data": {
      "text/plain": [
       "tensor([1.0986, 2.3026])"
      ]
     },
     "execution_count": 10,
     "metadata": {},
     "output_type": "execute_result"
    }
   ],
   "source": [
    "T_init"
   ]
  },
  {
   "cell_type": "code",
   "execution_count": 11,
   "metadata": {},
   "outputs": [],
   "source": [
    "dataloader = DataLoader(EdgesDataset(A), batch_size=N**2, shuffle=True, num_workers=0)\n",
    "vi = VI_HRG(N,10, init_values={'rs_loc':r_loc_init,\n",
    "                                'rs_scale':r_scale_init,\n",
    "                              'phis_loc':phi_loc_init,\n",
    "                              'phis_scale':None, \n",
    "                              'R_conc':R_conc_init, \n",
    "                              'R_scale':R_scale_init,\n",
    "                              'alpha_conc':alpha_conc_init,\n",
    "                              'alpha_scale':alpha_scale_init,\n",
    "                              'T':T_init})\n",
    "vi.dataloader = dataloader\n",
    "vi.optimizer = torch.optim.RMSprop(vi.parameters())\n",
    "#vi.optimizer.lr"
   ]
  },
  {
   "cell_type": "code",
   "execution_count": 12,
   "metadata": {},
   "outputs": [
    {
     "name": "stdout",
     "output_type": "stream",
     "text": [
      ">>>>>>>>>>>> Start training...\n"
     ]
    },
    {
     "name": "stderr",
     "output_type": "stream",
     "text": [
      "../src/utils.py:126: UserWarning: cd_clamped has 1 in it!\n",
      "  warnings.warn(str('%s has 1 in it!' % variable))\n",
      "../src/utils.py:126: UserWarning: c has 1 in it!\n",
      "  warnings.warn(str('%s has 1 in it!' % variable))\n",
      "../src/utils.py:126: UserWarning: p_raw has 1 in it!\n",
      "  warnings.warn(str('%s has 1 in it!' % variable))\n"
     ]
    },
    {
     "name": "stdout",
     "output_type": "stream",
     "text": [
      "-D_kl(R)    >> tensor(-7.4639, dtype=torch.float64, grad_fn=<MulBackward0>)\n",
      "-D_kl(alpha)>> tensor(-0.8525, dtype=torch.float64, grad_fn=<MulBackward0>)\n",
      "-D_kl(T)    >> tensor(-0.8176, dtype=torch.float64, grad_fn=<MulBackward0>)\n",
      "Prob_edges  >> tensor(-424.8431, dtype=torch.float64, grad_fn=<SumBackward0>)\n",
      "Alpha_R_ri  >> tensor(-2827.5132, dtype=torch.float64, grad_fn=<MulBackward0>)\n",
      "Alpha       >> tensor(-33.5444, dtype=torch.float64, grad_fn=<MulBackward0>)\n",
      "Alpha_R     >> tensor(30.9317, dtype=torch.float64, grad_fn=<MulBackward0>)\n",
      "P(q_ri)     >> tensor(-64.8759, dtype=torch.float64, grad_fn=<MulBackward0>)\n",
      "P(q_phii)   >> tensor(1272.0902, dtype=torch.float64, grad_fn=<MulBackward0>)\n",
      "ELBO >>>> tensor(-2075.2675, dtype=torch.float64, grad_fn=<AddBackward0>)\n",
      "Epoch 1 | LR: 0.00 | Total loss: 2075.27 | Epoch time 0.35\n",
      "-D_kl(R)    >> tensor(-9.5246, dtype=torch.float64, grad_fn=<MulBackward0>)\n",
      "-D_kl(alpha)>> tensor(-0.6422, dtype=torch.float64, grad_fn=<MulBackward0>)\n",
      "-D_kl(T)    >> tensor(-0.7304, dtype=torch.float64, grad_fn=<MulBackward0>)\n",
      "Prob_edges  >> tensor(-416.1168, dtype=torch.float64, grad_fn=<SumBackward0>)\n",
      "Alpha_R_ri  >> tensor(-2875.8924, dtype=torch.float64, grad_fn=<MulBackward0>)\n",
      "Alpha       >> tensor(-31.0127, dtype=torch.float64, grad_fn=<MulBackward0>)\n",
      "Alpha_R     >> tensor(26.9399, dtype=torch.float64, grad_fn=<MulBackward0>)\n",
      "P(q_ri)     >> tensor(286.6034, dtype=torch.float64, grad_fn=<MulBackward0>)\n",
      "P(q_phii)   >> tensor(1332.8845, dtype=torch.float64, grad_fn=<MulBackward0>)\n",
      "ELBO >>>> tensor(-1705.8701, dtype=torch.float64, grad_fn=<AddBackward0>)\n",
      "Epoch 2 | LR: 0.00 | Total loss: 1705.87 | Epoch time 0.33\n",
      "-D_kl(R)    >> tensor(-9.2496, dtype=torch.float64, grad_fn=<MulBackward0>)\n",
      "-D_kl(alpha)>> tensor(-0.6302, dtype=torch.float64, grad_fn=<MulBackward0>)\n",
      "-D_kl(T)    >> tensor(-0.6761, dtype=torch.float64, grad_fn=<MulBackward0>)\n",
      "Prob_edges  >> tensor(-264.1168, dtype=torch.float64, grad_fn=<SumBackward0>)\n",
      "Alpha_R_ri  >> tensor(-3076.2255, dtype=torch.float64, grad_fn=<MulBackward0>)\n",
      "Alpha       >> tensor(-15.2133, dtype=torch.float64, grad_fn=<MulBackward0>)\n",
      "Alpha_R     >> tensor(9.0484, dtype=torch.float64, grad_fn=<MulBackward0>)\n",
      "P(q_ri)     >> tensor(257.9928, dtype=torch.float64, grad_fn=<MulBackward0>)\n",
      "P(q_phii)   >> tensor(1375.1924, dtype=torch.float64, grad_fn=<MulBackward0>)\n",
      "ELBO >>>> tensor(-1742.2568, dtype=torch.float64, grad_fn=<AddBackward0>)\n",
      "Epoch 3 | LR: 0.00 | Total loss: 1742.26 | Epoch time 0.28\n",
      "-D_kl(R)    >> tensor(-7.4120, dtype=torch.float64, grad_fn=<MulBackward0>)\n",
      "-D_kl(alpha)>> tensor(-0.7412, dtype=torch.float64, grad_fn=<MulBackward0>)\n",
      "-D_kl(T)    >> tensor(-0.6457, dtype=torch.float64, grad_fn=<MulBackward0>)\n",
      "Prob_edges  >> tensor(-231.9702, dtype=torch.float64, grad_fn=<SumBackward0>)\n",
      "Alpha_R_ri  >> tensor(-3164.2150, dtype=torch.float64, grad_fn=<MulBackward0>)\n",
      "Alpha       >> tensor(-32.3303, dtype=torch.float64, grad_fn=<MulBackward0>)\n",
      "Alpha_R     >> tensor(32.7748, dtype=torch.float64, grad_fn=<MulBackward0>)\n",
      "P(q_ri)     >> tensor(-5.9122, dtype=torch.float64, grad_fn=<MulBackward0>)\n",
      "P(q_phii)   >> tensor(1401.8055, dtype=torch.float64, grad_fn=<MulBackward0>)\n",
      "ELBO >>>> tensor(-2027.0250, dtype=torch.float64, grad_fn=<AddBackward0>)\n",
      "Epoch 4 | LR: 0.00 | Total loss: 2027.03 | Epoch time 0.28\n",
      "-D_kl(R)    >> tensor(-8.5719, dtype=torch.float64, grad_fn=<MulBackward0>)\n",
      "-D_kl(alpha)>> tensor(-0.6699, dtype=torch.float64, grad_fn=<MulBackward0>)\n",
      "-D_kl(T)    >> tensor(-0.6264, dtype=torch.float64, grad_fn=<MulBackward0>)\n",
      "Prob_edges  >> tensor(-281.8048, dtype=torch.float64, grad_fn=<SumBackward0>)\n",
      "Alpha_R_ri  >> tensor(-2378.4988, dtype=torch.float64, grad_fn=<MulBackward0>)\n",
      "Alpha       >> tensor(-22.0447, dtype=torch.float64, grad_fn=<MulBackward0>)\n",
      "Alpha_R     >> tensor(14.5842, dtype=torch.float64, grad_fn=<MulBackward0>)\n",
      "P(q_ri)     >> tensor(99.6343, dtype=torch.float64, grad_fn=<MulBackward0>)\n",
      "P(q_phii)   >> tensor(1427.1573, dtype=torch.float64, grad_fn=<MulBackward0>)\n",
      "ELBO >>>> tensor(-1169.2195, dtype=torch.float64, grad_fn=<AddBackward0>)\n",
      "Epoch 5 | LR: 0.00 | Total loss: 1169.22 | Epoch time 0.26\n",
      "-D_kl(R)    >> tensor(-8.9039, dtype=torch.float64, grad_fn=<MulBackward0>)\n",
      "-D_kl(alpha)>> tensor(-0.6781, dtype=torch.float64, grad_fn=<MulBackward0>)\n",
      "-D_kl(T)    >> tensor(-0.6033, dtype=torch.float64, grad_fn=<MulBackward0>)\n",
      "Prob_edges  >> tensor(-256.3911, dtype=torch.float64, grad_fn=<SumBackward0>)\n",
      "Alpha_R_ri  >> tensor(-2363.0960, dtype=torch.float64, grad_fn=<MulBackward0>)\n",
      "Alpha       >> tensor(-15.1311, dtype=torch.float64, grad_fn=<MulBackward0>)\n",
      "Alpha_R     >> tensor(5.3307, dtype=torch.float64, grad_fn=<MulBackward0>)\n",
      "P(q_ri)     >> tensor(293.3139, dtype=torch.float64, grad_fn=<MulBackward0>)\n",
      "P(q_phii)   >> tensor(1449.6369, dtype=torch.float64, grad_fn=<MulBackward0>)\n",
      "ELBO >>>> tensor(-914.9008, dtype=torch.float64, grad_fn=<AddBackward0>)\n",
      "Epoch 6 | LR: 0.00 | Total loss: 914.90 | Epoch time 0.28\n",
      "-D_kl(R)    >> tensor(-7.9924, dtype=torch.float64, grad_fn=<MulBackward0>)\n",
      "-D_kl(alpha)>> tensor(-0.7489, dtype=torch.float64, grad_fn=<MulBackward0>)\n",
      "-D_kl(T)    >> tensor(-0.5904, dtype=torch.float64, grad_fn=<MulBackward0>)\n",
      "Prob_edges  >> tensor(-267.9702, dtype=torch.float64, grad_fn=<SumBackward0>)\n",
      "Alpha_R_ri  >> tensor(-2347.5927, dtype=torch.float64, grad_fn=<MulBackward0>)\n",
      "Alpha       >> tensor(-19.7053, dtype=torch.float64, grad_fn=<MulBackward0>)\n",
      "Alpha_R     >> tensor(11.8782, dtype=torch.float64, grad_fn=<MulBackward0>)\n",
      "P(q_ri)     >> tensor(237.9837, dtype=torch.float64, grad_fn=<MulBackward0>)\n",
      "P(q_phii)   >> tensor(1468.7544, dtype=torch.float64, grad_fn=<MulBackward0>)\n",
      "ELBO >>>> tensor(-944.3624, dtype=torch.float64, grad_fn=<AddBackward0>)\n",
      "Epoch 7 | LR: 0.00 | Total loss: 944.36 | Epoch time 0.27\n",
      "-D_kl(R)    >> tensor(-8.1457, dtype=torch.float64, grad_fn=<MulBackward0>)\n",
      "-D_kl(alpha)>> tensor(-0.7658, dtype=torch.float64, grad_fn=<MulBackward0>)\n",
      "-D_kl(T)    >> tensor(-0.5751, dtype=torch.float64, grad_fn=<MulBackward0>)\n",
      "Prob_edges  >> tensor(-288.5599, dtype=torch.float64, grad_fn=<SumBackward0>)\n",
      "Alpha_R_ri  >> tensor(-1943.4547, dtype=torch.float64, grad_fn=<MulBackward0>)\n",
      "Alpha       >> tensor(-15.8816, dtype=torch.float64, grad_fn=<MulBackward0>)\n",
      "Alpha_R     >> tensor(4.6648, dtype=torch.float64, grad_fn=<MulBackward0>)\n",
      "P(q_ri)     >> tensor(189.4531, dtype=torch.float64, grad_fn=<MulBackward0>)\n",
      "P(q_phii)   >> tensor(1482.8913, dtype=torch.float64, grad_fn=<MulBackward0>)\n",
      "ELBO >>>> tensor(-598.7522, dtype=torch.float64, grad_fn=<AddBackward0>)\n",
      "Epoch 8 | LR: 0.00 | Total loss: 598.75 | Epoch time 0.26\n",
      "-D_kl(R)    >> tensor(-8.3051, dtype=torch.float64, grad_fn=<MulBackward0>)\n",
      "-D_kl(alpha)>> tensor(-0.8110, dtype=torch.float64, grad_fn=<MulBackward0>)\n",
      "-D_kl(T)    >> tensor(-0.5615, dtype=torch.float64, grad_fn=<MulBackward0>)\n",
      "Prob_edges  >> tensor(-253.4986, dtype=torch.float64, grad_fn=<SumBackward0>)\n",
      "Alpha_R_ri  >> tensor(-2139.0523, dtype=torch.float64, grad_fn=<MulBackward0>)\n",
      "Alpha       >> tensor(-22.1747, dtype=torch.float64, grad_fn=<MulBackward0>)\n",
      "Alpha_R     >> tensor(13.4626, dtype=torch.float64, grad_fn=<MulBackward0>)\n",
      "P(q_ri)     >> tensor(218.7312, dtype=torch.float64, grad_fn=<MulBackward0>)\n",
      "P(q_phii)   >> tensor(1497.8156, dtype=torch.float64, grad_fn=<MulBackward0>)\n",
      "ELBO >>>> tensor(-712.7727, dtype=torch.float64, grad_fn=<AddBackward0>)\n",
      "Epoch 9 | LR: 0.00 | Total loss: 712.77 | Epoch time 0.28\n",
      "-D_kl(R)    >> tensor(-8.9382, dtype=torch.float64, grad_fn=<MulBackward0>)\n",
      "-D_kl(alpha)>> tensor(-0.8064, dtype=torch.float64, grad_fn=<MulBackward0>)\n",
      "-D_kl(T)    >> tensor(-0.5508, dtype=torch.float64, grad_fn=<MulBackward0>)\n",
      "Prob_edges  >> tensor(-239.3928, dtype=torch.float64, grad_fn=<SumBackward0>)\n",
      "Alpha_R_ri  >> tensor(-2526.2874, dtype=torch.float64, grad_fn=<MulBackward0>)\n",
      "Alpha       >> tensor(-23.7608, dtype=torch.float64, grad_fn=<MulBackward0>)\n",
      "Alpha_R     >> tensor(15.1154, dtype=torch.float64, grad_fn=<MulBackward0>)\n",
      "P(q_ri)     >> tensor(369.5129, dtype=torch.float64, grad_fn=<MulBackward0>)\n",
      "P(q_phii)   >> tensor(1511.4873, dtype=torch.float64, grad_fn=<MulBackward0>)\n",
      "ELBO >>>> tensor(-921.9996, dtype=torch.float64, grad_fn=<AddBackward0>)\n",
      "Epoch 10 | LR: 0.00 | Total loss: 922.00 | Epoch time 0.27\n"
     ]
    },
    {
     "name": "stdout",
     "output_type": "stream",
     "text": [
      "-D_kl(R)    >> tensor(-9.1441, dtype=torch.float64, grad_fn=<MulBackward0>)\n",
      "-D_kl(alpha)>> tensor(-0.8042, dtype=torch.float64, grad_fn=<MulBackward0>)\n",
      "-D_kl(T)    >> tensor(-0.5439, dtype=torch.float64, grad_fn=<MulBackward0>)\n",
      "Prob_edges  >> tensor(-285.2807, dtype=torch.float64, grad_fn=<SumBackward0>)\n",
      "Alpha_R_ri  >> tensor(-3498.5047, dtype=torch.float64, grad_fn=<MulBackward0>)\n",
      "Alpha       >> tensor(-35.0244, dtype=torch.float64, grad_fn=<MulBackward0>)\n",
      "Alpha_R     >> tensor(34.4217, dtype=torch.float64, grad_fn=<MulBackward0>)\n",
      "P(q_ri)     >> tensor(396.0131, dtype=torch.float64, grad_fn=<MulBackward0>)\n",
      "P(q_phii)   >> tensor(1524.2676, dtype=torch.float64, grad_fn=<MulBackward0>)\n",
      "ELBO >>>> tensor(-1892.9783, dtype=torch.float64, grad_fn=<AddBackward0>)\n",
      "Epoch 11 | LR: 0.00 | Total loss: 1892.98 | Epoch time 0.28\n",
      "-D_kl(R)    >> tensor(-9.4659, dtype=torch.float64, grad_fn=<MulBackward0>)\n",
      "-D_kl(alpha)>> tensor(-0.7619, dtype=torch.float64, grad_fn=<MulBackward0>)\n",
      "-D_kl(T)    >> tensor(-0.5370, dtype=torch.float64, grad_fn=<MulBackward0>)\n",
      "Prob_edges  >> tensor(-244.0986, dtype=torch.float64, grad_fn=<SumBackward0>)\n",
      "Alpha_R_ri  >> tensor(-2433.8904, dtype=torch.float64, grad_fn=<MulBackward0>)\n",
      "Alpha       >> tensor(-19.1673, dtype=torch.float64, grad_fn=<MulBackward0>)\n",
      "Alpha_R     >> tensor(9.6872, dtype=torch.float64, grad_fn=<MulBackward0>)\n",
      "P(q_ri)     >> tensor(520.4244, dtype=torch.float64, grad_fn=<MulBackward0>)\n",
      "P(q_phii)   >> tensor(1536.4998, dtype=torch.float64, grad_fn=<MulBackward0>)\n",
      "ELBO >>>> tensor(-659.6885, dtype=torch.float64, grad_fn=<AddBackward0>)\n",
      "Epoch 12 | LR: 0.00 | Total loss: 659.69 | Epoch time 0.26\n",
      "-D_kl(R)    >> tensor(-9.1664, dtype=torch.float64, grad_fn=<MulBackward0>)\n",
      "-D_kl(alpha)>> tensor(-0.7999, dtype=torch.float64, grad_fn=<MulBackward0>)\n",
      "-D_kl(T)    >> tensor(-0.5310, dtype=torch.float64, grad_fn=<MulBackward0>)\n",
      "Prob_edges  >> tensor(-199.8007, dtype=torch.float64, grad_fn=<SumBackward0>)\n",
      "Alpha_R_ri  >> tensor(-1866.6445, dtype=torch.float64, grad_fn=<MulBackward0>)\n",
      "Alpha       >> tensor(-16.8861, dtype=torch.float64, grad_fn=<MulBackward0>)\n",
      "Alpha_R     >> tensor(5.8512, dtype=torch.float64, grad_fn=<MulBackward0>)\n",
      "P(q_ri)     >> tensor(282.3088, dtype=torch.float64, grad_fn=<MulBackward0>)\n",
      "P(q_phii)   >> tensor(1547.9225, dtype=torch.float64, grad_fn=<MulBackward0>)\n",
      "ELBO >>>> tensor(-276.1247, dtype=torch.float64, grad_fn=<AddBackward0>)\n",
      "Epoch 13 | LR: 0.00 | Total loss: 276.12 | Epoch time 0.28\n",
      "-D_kl(R)    >> tensor(-9.6619, dtype=torch.float64, grad_fn=<MulBackward0>)\n",
      "-D_kl(alpha)>> tensor(-0.8286, dtype=torch.float64, grad_fn=<MulBackward0>)\n",
      "-D_kl(T)    >> tensor(-0.5271, dtype=torch.float64, grad_fn=<MulBackward0>)\n",
      "Prob_edges  >> tensor(-273.1310, dtype=torch.float64, grad_fn=<SumBackward0>)\n",
      "Alpha_R_ri  >> tensor(-2824.8646, dtype=torch.float64, grad_fn=<MulBackward0>)\n",
      "Alpha       >> tensor(-31.3805, dtype=torch.float64, grad_fn=<MulBackward0>)\n",
      "Alpha_R     >> tensor(26.4334, dtype=torch.float64, grad_fn=<MulBackward0>)\n",
      "P(q_ri)     >> tensor(500.1722, dtype=torch.float64, grad_fn=<MulBackward0>)\n",
      "P(q_phii)   >> tensor(1557.6897, dtype=torch.float64, grad_fn=<MulBackward0>)\n",
      "ELBO >>>> tensor(-1074.4772, dtype=torch.float64, grad_fn=<AddBackward0>)\n",
      "Epoch 14 | LR: 0.00 | Total loss: 1074.48 | Epoch time 0.29\n",
      "-D_kl(R)    >> tensor(-10.1809, dtype=torch.float64, grad_fn=<MulBackward0>)\n",
      "-D_kl(alpha)>> tensor(-0.7928, dtype=torch.float64, grad_fn=<MulBackward0>)\n",
      "-D_kl(T)    >> tensor(-0.5234, dtype=torch.float64, grad_fn=<MulBackward0>)\n",
      "Prob_edges  >> tensor(-440.5708, dtype=torch.float64, grad_fn=<SumBackward0>)\n",
      "Alpha_R_ri  >> tensor(-2784.7948, dtype=torch.float64, grad_fn=<MulBackward0>)\n",
      "Alpha       >> tensor(-33.6623, dtype=torch.float64, grad_fn=<MulBackward0>)\n",
      "Alpha_R     >> tensor(26.0294, dtype=torch.float64, grad_fn=<MulBackward0>)\n",
      "P(q_ri)     >> tensor(581.0054, dtype=torch.float64, grad_fn=<MulBackward0>)\n",
      "P(q_phii)   >> tensor(1567.2204, dtype=torch.float64, grad_fn=<MulBackward0>)\n",
      "ELBO >>>> tensor(-1114.6486, dtype=torch.float64, grad_fn=<AddBackward0>)\n",
      "Epoch 15 | LR: 0.00 | Total loss: 1114.65 | Epoch time 0.26\n",
      "-D_kl(R)    >> tensor(-10.0356, dtype=torch.float64, grad_fn=<MulBackward0>)\n",
      "-D_kl(alpha)>> tensor(-0.7525, dtype=torch.float64, grad_fn=<MulBackward0>)\n",
      "-D_kl(T)    >> tensor(-0.5195, dtype=torch.float64, grad_fn=<MulBackward0>)\n",
      "Prob_edges  >> tensor(-197.9641, dtype=torch.float64, grad_fn=<SumBackward0>)\n",
      "Alpha_R_ri  >> tensor(-2608.2977, dtype=torch.float64, grad_fn=<MulBackward0>)\n",
      "Alpha       >> tensor(-11.6324, dtype=torch.float64, grad_fn=<MulBackward0>)\n",
      "Alpha_R     >> tensor(2.4569, dtype=torch.float64, grad_fn=<MulBackward0>)\n",
      "P(q_ri)     >> tensor(490.9923, dtype=torch.float64, grad_fn=<MulBackward0>)\n",
      "P(q_phii)   >> tensor(1576.2998, dtype=torch.float64, grad_fn=<MulBackward0>)\n",
      "ELBO >>>> tensor(-777.8315, dtype=torch.float64, grad_fn=<AddBackward0>)\n",
      "Epoch 16 | LR: 0.00 | Total loss: 777.83 | Epoch time 0.26\n",
      "-D_kl(R)    >> tensor(-8.8350, dtype=torch.float64, grad_fn=<MulBackward0>)\n",
      "-D_kl(alpha)>> tensor(-0.8305, dtype=torch.float64, grad_fn=<MulBackward0>)\n",
      "-D_kl(T)    >> tensor(-0.5179, dtype=torch.float64, grad_fn=<MulBackward0>)\n",
      "Prob_edges  >> tensor(-204.6398, dtype=torch.float64, grad_fn=<SumBackward0>)\n",
      "Alpha_R_ri  >> tensor(-2102.1601, dtype=torch.float64, grad_fn=<MulBackward0>)\n",
      "Alpha       >> tensor(-25.2669, dtype=torch.float64, grad_fn=<MulBackward0>)\n",
      "Alpha_R     >> tensor(15.7169, dtype=torch.float64, grad_fn=<MulBackward0>)\n",
      "P(q_ri)     >> tensor(566.6779, dtype=torch.float64, grad_fn=<MulBackward0>)\n",
      "P(q_phii)   >> tensor(1584.6703, dtype=torch.float64, grad_fn=<MulBackward0>)\n",
      "ELBO >>>> tensor(-193.5638, dtype=torch.float64, grad_fn=<AddBackward0>)\n",
      "Epoch 17 | LR: 0.00 | Total loss: 193.56 | Epoch time 0.26\n",
      "-D_kl(R)    >> tensor(-9.5740, dtype=torch.float64, grad_fn=<MulBackward0>)\n",
      "-D_kl(alpha)>> tensor(-0.8141, dtype=torch.float64, grad_fn=<MulBackward0>)\n",
      "-D_kl(T)    >> tensor(-0.5166, dtype=torch.float64, grad_fn=<MulBackward0>)\n",
      "Prob_edges  >> tensor(-242.8820, dtype=torch.float64, grad_fn=<SumBackward0>)\n",
      "Alpha_R_ri  >> tensor(-2469.8589, dtype=torch.float64, grad_fn=<MulBackward0>)\n",
      "Alpha       >> tensor(-15.9907, dtype=torch.float64, grad_fn=<MulBackward0>)\n",
      "Alpha_R     >> tensor(5.2885, dtype=torch.float64, grad_fn=<MulBackward0>)\n",
      "P(q_ri)     >> tensor(254.6629, dtype=torch.float64, grad_fn=<MulBackward0>)\n",
      "P(q_phii)   >> tensor(1592.8998, dtype=torch.float64, grad_fn=<MulBackward0>)\n",
      "ELBO >>>> tensor(-905.1639, dtype=torch.float64, grad_fn=<AddBackward0>)\n",
      "Epoch 18 | LR: 0.00 | Total loss: 905.16 | Epoch time 0.27\n",
      "-D_kl(R)    >> tensor(-9.0840, dtype=torch.float64, grad_fn=<MulBackward0>)\n",
      "-D_kl(alpha)>> tensor(-0.8554, dtype=torch.float64, grad_fn=<MulBackward0>)\n",
      "-D_kl(T)    >> tensor(-0.5168, dtype=torch.float64, grad_fn=<MulBackward0>)\n",
      "Prob_edges  >> tensor(-173.7278, dtype=torch.float64, grad_fn=<SumBackward0>)\n",
      "Alpha_R_ri  >> tensor(-2477.9813, dtype=torch.float64, grad_fn=<MulBackward0>)\n",
      "Alpha       >> tensor(-33.2695, dtype=torch.float64, grad_fn=<MulBackward0>)\n",
      "Alpha_R     >> tensor(29.1204, dtype=torch.float64, grad_fn=<MulBackward0>)\n",
      "P(q_ri)     >> tensor(492.9285, dtype=torch.float64, grad_fn=<MulBackward0>)\n",
      "P(q_phii)   >> tensor(1600.6363, dtype=torch.float64, grad_fn=<MulBackward0>)\n",
      "ELBO >>>> tensor(-591.1284, dtype=torch.float64, grad_fn=<AddBackward0>)\n",
      "Epoch 19 | LR: 0.00 | Total loss: 591.13 | Epoch time 0.31\n",
      "-D_kl(R)    >> tensor(-10.3259, dtype=torch.float64, grad_fn=<MulBackward0>)\n",
      "-D_kl(alpha)>> tensor(-0.8090, dtype=torch.float64, grad_fn=<MulBackward0>)\n",
      "-D_kl(T)    >> tensor(-0.5166, dtype=torch.float64, grad_fn=<MulBackward0>)\n",
      "Prob_edges  >> tensor(-237.5579, dtype=torch.float64, grad_fn=<SumBackward0>)\n",
      "Alpha_R_ri  >> tensor(-2289.7076, dtype=torch.float64, grad_fn=<MulBackward0>)\n",
      "Alpha       >> tensor(-30.0347, dtype=torch.float64, grad_fn=<MulBackward0>)\n",
      "Alpha_R     >> tensor(20.3176, dtype=torch.float64, grad_fn=<MulBackward0>)\n",
      "P(q_ri)     >> tensor(373.8009, dtype=torch.float64, grad_fn=<MulBackward0>)\n",
      "P(q_phii)   >> tensor(1607.8691, dtype=torch.float64, grad_fn=<MulBackward0>)\n",
      "ELBO >>>> tensor(-585.3429, dtype=torch.float64, grad_fn=<AddBackward0>)\n",
      "Epoch 20 | LR: 0.00 | Total loss: 585.34 | Epoch time 0.27\n"
     ]
    },
    {
     "name": "stdout",
     "output_type": "stream",
     "text": [
      "-D_kl(R)    >> tensor(-11.0530, dtype=torch.float64, grad_fn=<MulBackward0>)\n",
      "-D_kl(alpha)>> tensor(-0.7770, dtype=torch.float64, grad_fn=<MulBackward0>)\n",
      "-D_kl(T)    >> tensor(-0.5165, dtype=torch.float64, grad_fn=<MulBackward0>)\n",
      "Prob_edges  >> tensor(-323.7774, dtype=torch.float64, grad_fn=<SumBackward0>)\n",
      "Alpha_R_ri  >> tensor(-3036.1121, dtype=torch.float64, grad_fn=<MulBackward0>)\n",
      "Alpha       >> tensor(-11.6225, dtype=torch.float64, grad_fn=<MulBackward0>)\n",
      "Alpha_R     >> tensor(3.0471, dtype=torch.float64, grad_fn=<MulBackward0>)\n",
      "P(q_ri)     >> tensor(656.6024, dtype=torch.float64, grad_fn=<MulBackward0>)\n",
      "P(q_phii)   >> tensor(1614.5801, dtype=torch.float64, grad_fn=<MulBackward0>)\n",
      "ELBO >>>> tensor(-1128.0077, dtype=torch.float64, grad_fn=<AddBackward0>)\n",
      "Epoch 21 | LR: 0.00 | Total loss: 1128.01 | Epoch time 0.26\n",
      "-D_kl(R)    >> tensor(-9.6541, dtype=torch.float64, grad_fn=<MulBackward0>)\n",
      "-D_kl(alpha)>> tensor(-0.8509, dtype=torch.float64, grad_fn=<MulBackward0>)\n",
      "-D_kl(T)    >> tensor(-0.5177, dtype=torch.float64, grad_fn=<MulBackward0>)\n",
      "Prob_edges  >> tensor(-226.6882, dtype=torch.float64, grad_fn=<SumBackward0>)\n",
      "Alpha_R_ri  >> tensor(-2561.1849, dtype=torch.float64, grad_fn=<MulBackward0>)\n",
      "Alpha       >> tensor(-26.1807, dtype=torch.float64, grad_fn=<MulBackward0>)\n",
      "Alpha_R     >> tensor(19.4733, dtype=torch.float64, grad_fn=<MulBackward0>)\n",
      "P(q_ri)     >> tensor(545.2297, dtype=torch.float64, grad_fn=<MulBackward0>)\n",
      "P(q_phii)   >> tensor(1620.6887, dtype=torch.float64, grad_fn=<MulBackward0>)\n",
      "ELBO >>>> tensor(-658.0637, dtype=torch.float64, grad_fn=<AddBackward0>)\n",
      "Epoch 22 | LR: 0.00 | Total loss: 658.06 | Epoch time 0.28\n",
      "-D_kl(R)    >> tensor(-9.8949, dtype=torch.float64, grad_fn=<MulBackward0>)\n",
      "-D_kl(alpha)>> tensor(-0.8444, dtype=torch.float64, grad_fn=<MulBackward0>)\n",
      "-D_kl(T)    >> tensor(-0.5192, dtype=torch.float64, grad_fn=<MulBackward0>)\n",
      "Prob_edges  >> tensor(-230.2954, dtype=torch.float64, grad_fn=<SumBackward0>)\n",
      "Alpha_R_ri  >> tensor(-2172.1588, dtype=torch.float64, grad_fn=<MulBackward0>)\n",
      "Alpha       >> tensor(-19.6809, dtype=torch.float64, grad_fn=<MulBackward0>)\n",
      "Alpha_R     >> tensor(7.8080, dtype=torch.float64, grad_fn=<MulBackward0>)\n",
      "P(q_ri)     >> tensor(597.8604, dtype=torch.float64, grad_fn=<MulBackward0>)\n",
      "P(q_phii)   >> tensor(1626.6387, dtype=torch.float64, grad_fn=<MulBackward0>)\n",
      "ELBO >>>> tensor(-219.4653, dtype=torch.float64, grad_fn=<AddBackward0>)\n",
      "Epoch 23 | LR: 0.00 | Total loss: 219.47 | Epoch time 0.28\n",
      "-D_kl(R)    >> tensor(-10.0000, dtype=torch.float64, grad_fn=<MulBackward0>)\n",
      "-D_kl(alpha)>> tensor(-0.8641, dtype=torch.float64, grad_fn=<MulBackward0>)\n",
      "-D_kl(T)    >> tensor(-0.5212, dtype=torch.float64, grad_fn=<MulBackward0>)\n",
      "Prob_edges  >> tensor(-252.2489, dtype=torch.float64, grad_fn=<SumBackward0>)\n",
      "Alpha_R_ri  >> tensor(-2531.8159, dtype=torch.float64, grad_fn=<MulBackward0>)\n",
      "Alpha       >> tensor(-15.2322, dtype=torch.float64, grad_fn=<MulBackward0>)\n",
      "Alpha_R     >> tensor(6.2236, dtype=torch.float64, grad_fn=<MulBackward0>)\n",
      "P(q_ri)     >> tensor(524.6487, dtype=torch.float64, grad_fn=<MulBackward0>)\n",
      "P(q_phii)   >> tensor(1632.1678, dtype=torch.float64, grad_fn=<MulBackward0>)\n",
      "ELBO >>>> tensor(-666.0208, dtype=torch.float64, grad_fn=<AddBackward0>)\n",
      "Epoch 24 | LR: 0.00 | Total loss: 666.02 | Epoch time 0.27\n",
      "-D_kl(R)    >> tensor(-9.6594, dtype=torch.float64, grad_fn=<MulBackward0>)\n",
      "-D_kl(alpha)>> tensor(-0.9049, dtype=torch.float64, grad_fn=<MulBackward0>)\n",
      "-D_kl(T)    >> tensor(-0.5236, dtype=torch.float64, grad_fn=<MulBackward0>)\n",
      "Prob_edges  >> tensor(-228.5056, dtype=torch.float64, grad_fn=<SumBackward0>)\n",
      "Alpha_R_ri  >> tensor(-1861.5790, dtype=torch.float64, grad_fn=<MulBackward0>)\n",
      "Alpha       >> tensor(-25.7867, dtype=torch.float64, grad_fn=<MulBackward0>)\n",
      "Alpha_R     >> tensor(12.3682, dtype=torch.float64, grad_fn=<MulBackward0>)\n",
      "P(q_ri)     >> tensor(457.6383, dtype=torch.float64, grad_fn=<MulBackward0>)\n",
      "P(q_phii)   >> tensor(1637.5399, dtype=torch.float64, grad_fn=<MulBackward0>)\n",
      "ELBO >>>> tensor(-37.7915, dtype=torch.float64, grad_fn=<AddBackward0>)\n",
      "Epoch 25 | LR: 0.00 | Total loss: 37.79 | Epoch time 0.28\n",
      "-D_kl(R)    >> tensor(-10.1791, dtype=torch.float64, grad_fn=<MulBackward0>)\n",
      "-D_kl(alpha)>> tensor(-0.8904, dtype=torch.float64, grad_fn=<MulBackward0>)\n",
      "-D_kl(T)    >> tensor(-0.5261, dtype=torch.float64, grad_fn=<MulBackward0>)\n",
      "Prob_edges  >> tensor(-281.8110, dtype=torch.float64, grad_fn=<SumBackward0>)\n",
      "Alpha_R_ri  >> tensor(-2551.4361, dtype=torch.float64, grad_fn=<MulBackward0>)\n",
      "Alpha       >> tensor(-20.9234, dtype=torch.float64, grad_fn=<MulBackward0>)\n",
      "Alpha_R     >> tensor(9.8142, dtype=torch.float64, grad_fn=<MulBackward0>)\n",
      "P(q_ri)     >> tensor(665.9068, dtype=torch.float64, grad_fn=<MulBackward0>)\n",
      "P(q_phii)   >> tensor(1639.4167, dtype=torch.float64, grad_fn=<MulBackward0>)\n",
      "ELBO >>>> tensor(-569.0072, dtype=torch.float64, grad_fn=<AddBackward0>)\n",
      "Epoch 26 | LR: 0.00 | Total loss: 569.01 | Epoch time 0.27\n",
      "-D_kl(R)    >> tensor(-9.9744, dtype=torch.float64, grad_fn=<MulBackward0>)\n",
      "-D_kl(alpha)>> tensor(-0.9170, dtype=torch.float64, grad_fn=<MulBackward0>)\n",
      "-D_kl(T)    >> tensor(-0.5293, dtype=torch.float64, grad_fn=<MulBackward0>)\n",
      "Prob_edges  >> tensor(-261.2061, dtype=torch.float64, grad_fn=<SumBackward0>)\n",
      "Alpha_R_ri  >> tensor(-2517.1995, dtype=torch.float64, grad_fn=<MulBackward0>)\n",
      "Alpha       >> tensor(-23.8410, dtype=torch.float64, grad_fn=<MulBackward0>)\n",
      "Alpha_R     >> tensor(15.5407, dtype=torch.float64, grad_fn=<MulBackward0>)\n",
      "P(q_ri)     >> tensor(516.5556, dtype=torch.float64, grad_fn=<MulBackward0>)\n",
      "P(q_phii)   >> tensor(1644.5171, dtype=torch.float64, grad_fn=<MulBackward0>)\n",
      "ELBO >>>> tensor(-655.4326, dtype=torch.float64, grad_fn=<AddBackward0>)\n",
      "Epoch 27 | LR: 0.00 | Total loss: 655.43 | Epoch time 0.30\n",
      "-D_kl(R)    >> tensor(-9.9700, dtype=torch.float64, grad_fn=<MulBackward0>)\n",
      "-D_kl(alpha)>> tensor(-0.9236, dtype=torch.float64, grad_fn=<MulBackward0>)\n",
      "-D_kl(T)    >> tensor(-0.5318, dtype=torch.float64, grad_fn=<MulBackward0>)\n",
      "Prob_edges  >> tensor(-170.5627, dtype=torch.float64, grad_fn=<SumBackward0>)\n",
      "Alpha_R_ri  >> tensor(-2099.9575, dtype=torch.float64, grad_fn=<MulBackward0>)\n",
      "Alpha       >> tensor(-25.2247, dtype=torch.float64, grad_fn=<MulBackward0>)\n",
      "Alpha_R     >> tensor(16.3910, dtype=torch.float64, grad_fn=<MulBackward0>)\n",
      "P(q_ri)     >> tensor(440.2556, dtype=torch.float64, grad_fn=<MulBackward0>)\n",
      "P(q_phii)   >> tensor(1649.5581, dtype=torch.float64, grad_fn=<MulBackward0>)\n",
      "ELBO >>>> tensor(-219.3444, dtype=torch.float64, grad_fn=<AddBackward0>)\n",
      "Epoch 28 | LR: 0.00 | Total loss: 219.34 | Epoch time 0.28\n",
      "-D_kl(R)    >> tensor(-10.4811, dtype=torch.float64, grad_fn=<MulBackward0>)\n",
      "-D_kl(alpha)>> tensor(-0.9101, dtype=torch.float64, grad_fn=<MulBackward0>)\n",
      "-D_kl(T)    >> tensor(-0.5339, dtype=torch.float64, grad_fn=<MulBackward0>)\n",
      "Prob_edges  >> tensor(-302.4210, dtype=torch.float64, grad_fn=<SumBackward0>)\n",
      "Alpha_R_ri  >> tensor(-1987.7788, dtype=torch.float64, grad_fn=<MulBackward0>)\n",
      "Alpha       >> tensor(-31.3008, dtype=torch.float64, grad_fn=<MulBackward0>)\n",
      "Alpha_R     >> tensor(19.8823, dtype=torch.float64, grad_fn=<MulBackward0>)\n",
      "P(q_ri)     >> tensor(912.3543, dtype=torch.float64, grad_fn=<MulBackward0>)\n",
      "P(q_phii)   >> tensor(1654.0849, dtype=torch.float64, grad_fn=<MulBackward0>)\n",
      "ELBO >>>> tensor(234.5171, dtype=torch.float64, grad_fn=<AddBackward0>)\n",
      "Epoch 29 | LR: 0.00 | Total loss: -234.52 | Epoch time 0.25\n",
      "-D_kl(R)    >> tensor(-11.0907, dtype=torch.float64, grad_fn=<MulBackward0>)\n",
      "-D_kl(alpha)>> tensor(-0.8781, dtype=torch.float64, grad_fn=<MulBackward0>)\n",
      "-D_kl(T)    >> tensor(-0.5383, dtype=torch.float64, grad_fn=<MulBackward0>)\n",
      "Prob_edges  >> tensor(-224.2515, dtype=torch.float64, grad_fn=<SumBackward0>)\n",
      "Alpha_R_ri  >> tensor(-2095.0451, dtype=torch.float64, grad_fn=<MulBackward0>)\n",
      "Alpha       >> tensor(-27.3766, dtype=torch.float64, grad_fn=<MulBackward0>)\n",
      "Alpha_R     >> tensor(14.2766, dtype=torch.float64, grad_fn=<MulBackward0>)\n",
      "P(q_ri)     >> tensor(653.9725, dtype=torch.float64, grad_fn=<MulBackward0>)\n",
      "P(q_phii)   >> tensor(1658.1335, dtype=torch.float64, grad_fn=<MulBackward0>)\n",
      "ELBO >>>> tensor(-51.1766, dtype=torch.float64, grad_fn=<AddBackward0>)\n",
      "Epoch 30 | LR: 0.00 | Total loss: 51.18 | Epoch time 0.26\n"
     ]
    },
    {
     "name": "stdout",
     "output_type": "stream",
     "text": [
      "-D_kl(R)    >> tensor(-11.5576, dtype=torch.float64, grad_fn=<MulBackward0>)\n",
      "-D_kl(alpha)>> tensor(-0.8680, dtype=torch.float64, grad_fn=<MulBackward0>)\n",
      "-D_kl(T)    >> tensor(-0.5417, dtype=torch.float64, grad_fn=<MulBackward0>)\n",
      "Prob_edges  >> tensor(-351.4923, dtype=torch.float64, grad_fn=<SumBackward0>)\n",
      "Alpha_R_ri  >> tensor(-2042.3238, dtype=torch.float64, grad_fn=<MulBackward0>)\n",
      "Alpha       >> tensor(-31.4097, dtype=torch.float64, grad_fn=<MulBackward0>)\n",
      "Alpha_R     >> tensor(18.6358, dtype=torch.float64, grad_fn=<MulBackward0>)\n",
      "P(q_ri)     >> tensor(710.7897, dtype=torch.float64, grad_fn=<MulBackward0>)\n",
      "P(q_phii)   >> tensor(1662.4406, dtype=torch.float64, grad_fn=<MulBackward0>)\n",
      "ELBO >>>> tensor(-64.7059, dtype=torch.float64, grad_fn=<AddBackward0>)\n",
      "Epoch 31 | LR: 0.00 | Total loss: 64.71 | Epoch time 0.26\n",
      "-D_kl(R)    >> tensor(-11.6864, dtype=torch.float64, grad_fn=<MulBackward0>)\n",
      "-D_kl(alpha)>> tensor(-0.8412, dtype=torch.float64, grad_fn=<MulBackward0>)\n",
      "-D_kl(T)    >> tensor(-0.5484, dtype=torch.float64, grad_fn=<MulBackward0>)\n",
      "Prob_edges  >> tensor(-264.9623, dtype=torch.float64, grad_fn=<SumBackward0>)\n",
      "Alpha_R_ri  >> tensor(-2798.6493, dtype=torch.float64, grad_fn=<MulBackward0>)\n",
      "Alpha       >> tensor(-20.3287, dtype=torch.float64, grad_fn=<MulBackward0>)\n",
      "Alpha_R     >> tensor(10.5262, dtype=torch.float64, grad_fn=<MulBackward0>)\n",
      "P(q_ri)     >> tensor(835.3273, dtype=torch.float64, grad_fn=<MulBackward0>)\n",
      "P(q_phii)   >> tensor(1666.4190, dtype=torch.float64, grad_fn=<MulBackward0>)\n",
      "ELBO >>>> tensor(-603.1227, dtype=torch.float64, grad_fn=<AddBackward0>)\n",
      "Epoch 32 | LR: 0.00 | Total loss: 603.12 | Epoch time 0.27\n",
      "-D_kl(R)    >> tensor(-11.0000, dtype=torch.float64, grad_fn=<MulBackward0>)\n",
      "-D_kl(alpha)>> tensor(-0.8689, dtype=torch.float64, grad_fn=<MulBackward0>)\n",
      "-D_kl(T)    >> tensor(-0.5522, dtype=torch.float64, grad_fn=<MulBackward0>)\n",
      "Prob_edges  >> tensor(-198.9005, dtype=torch.float64, grad_fn=<SumBackward0>)\n",
      "Alpha_R_ri  >> tensor(-1710.8901, dtype=torch.float64, grad_fn=<MulBackward0>)\n",
      "Alpha       >> tensor(-25.4348, dtype=torch.float64, grad_fn=<MulBackward0>)\n",
      "Alpha_R     >> tensor(11.1179, dtype=torch.float64, grad_fn=<MulBackward0>)\n",
      "P(q_ri)     >> tensor(714.0718, dtype=torch.float64, grad_fn=<MulBackward0>)\n",
      "P(q_phii)   >> tensor(1670.0870, dtype=torch.float64, grad_fn=<MulBackward0>)\n",
      "ELBO >>>> tensor(429.2515, dtype=torch.float64, grad_fn=<AddBackward0>)\n",
      "Epoch 33 | LR: 0.00 | Total loss: -429.25 | Epoch time 0.28\n",
      "-D_kl(R)    >> tensor(-11.5496, dtype=torch.float64, grad_fn=<MulBackward0>)\n",
      "-D_kl(alpha)>> tensor(-0.8600, dtype=torch.float64, grad_fn=<MulBackward0>)\n",
      "-D_kl(T)    >> tensor(-0.5557, dtype=torch.float64, grad_fn=<MulBackward0>)\n",
      "Prob_edges  >> tensor(-248.9011, dtype=torch.float64, grad_fn=<SumBackward0>)\n",
      "Alpha_R_ri  >> tensor(-1933.0353, dtype=torch.float64, grad_fn=<MulBackward0>)\n",
      "Alpha       >> tensor(-22.2880, dtype=torch.float64, grad_fn=<MulBackward0>)\n",
      "Alpha_R     >> tensor(8.3410, dtype=torch.float64, grad_fn=<MulBackward0>)\n",
      "P(q_ri)     >> tensor(865.6955, dtype=torch.float64, grad_fn=<MulBackward0>)\n",
      "P(q_phii)   >> tensor(1673.7539, dtype=torch.float64, grad_fn=<MulBackward0>)\n",
      "ELBO >>>> tensor(312.2219, dtype=torch.float64, grad_fn=<AddBackward0>)\n",
      "Epoch 34 | LR: 0.00 | Total loss: -312.22 | Epoch time 0.29\n",
      "-D_kl(R)    >> tensor(-11.5791, dtype=torch.float64, grad_fn=<MulBackward0>)\n",
      "-D_kl(alpha)>> tensor(-0.8728, dtype=torch.float64, grad_fn=<MulBackward0>)\n",
      "-D_kl(T)    >> tensor(-0.5606, dtype=torch.float64, grad_fn=<MulBackward0>)\n",
      "Prob_edges  >> tensor(-492.5284, dtype=torch.float64, grad_fn=<SumBackward0>)\n",
      "Alpha_R_ri  >> tensor(-2094.2958, dtype=torch.float64, grad_fn=<MulBackward0>)\n",
      "Alpha       >> tensor(-24.5427, dtype=torch.float64, grad_fn=<MulBackward0>)\n",
      "Alpha_R     >> tensor(10.2156, dtype=torch.float64, grad_fn=<MulBackward0>)\n",
      "P(q_ri)     >> tensor(878.7600, dtype=torch.float64, grad_fn=<MulBackward0>)\n",
      "P(q_phii)   >> tensor(1677.1905, dtype=torch.float64, grad_fn=<MulBackward0>)\n",
      "ELBO >>>> tensor(-76.5919, dtype=torch.float64, grad_fn=<AddBackward0>)\n",
      "Epoch 35 | LR: 0.00 | Total loss: 76.59 | Epoch time 0.28\n",
      "-D_kl(R)    >> tensor(-11.3370, dtype=torch.float64, grad_fn=<MulBackward0>)\n",
      "-D_kl(alpha)>> tensor(-0.8824, dtype=torch.float64, grad_fn=<MulBackward0>)\n",
      "-D_kl(T)    >> tensor(-0.5712, dtype=torch.float64, grad_fn=<MulBackward0>)\n",
      "Prob_edges  >> tensor(-261.7867, dtype=torch.float64, grad_fn=<SumBackward0>)\n",
      "Alpha_R_ri  >> tensor(-2417.2742, dtype=torch.float64, grad_fn=<MulBackward0>)\n",
      "Alpha       >> tensor(-18.8127, dtype=torch.float64, grad_fn=<MulBackward0>)\n",
      "Alpha_R     >> tensor(8.1558, dtype=torch.float64, grad_fn=<MulBackward0>)\n",
      "P(q_ri)     >> tensor(960.4973, dtype=torch.float64, grad_fn=<MulBackward0>)\n",
      "P(q_phii)   >> tensor(1680.5797, dtype=torch.float64, grad_fn=<MulBackward0>)\n",
      "ELBO >>>> tensor(-79.8101, dtype=torch.float64, grad_fn=<AddBackward0>)\n",
      "Epoch 36 | LR: 0.00 | Total loss: 79.81 | Epoch time 0.28\n",
      "-D_kl(R)    >> tensor(-11.0143, dtype=torch.float64, grad_fn=<MulBackward0>)\n",
      "-D_kl(alpha)>> tensor(-0.9123, dtype=torch.float64, grad_fn=<MulBackward0>)\n",
      "-D_kl(T)    >> tensor(-0.5771, dtype=torch.float64, grad_fn=<MulBackward0>)\n",
      "Prob_edges  >> tensor(-312.1027, dtype=torch.float64, grad_fn=<SumBackward0>)\n",
      "Alpha_R_ri  >> tensor(-2502.7075, dtype=torch.float64, grad_fn=<MulBackward0>)\n",
      "Alpha       >> tensor(-25.4387, dtype=torch.float64, grad_fn=<MulBackward0>)\n",
      "Alpha_R     >> tensor(14.9313, dtype=torch.float64, grad_fn=<MulBackward0>)\n",
      "P(q_ri)     >> tensor(567.5525, dtype=torch.float64, grad_fn=<MulBackward0>)\n",
      "P(q_phii)   >> tensor(1683.8581, dtype=torch.float64, grad_fn=<MulBackward0>)\n",
      "ELBO >>>> tensor(-604.7894, dtype=torch.float64, grad_fn=<AddBackward0>)\n",
      "Epoch 37 | LR: 0.00 | Total loss: 604.79 | Epoch time 0.29\n",
      "-D_kl(R)    >> tensor(-11.1487, dtype=torch.float64, grad_fn=<MulBackward0>)\n",
      "-D_kl(alpha)>> tensor(-0.9161, dtype=torch.float64, grad_fn=<MulBackward0>)\n",
      "-D_kl(T)    >> tensor(-0.5844, dtype=torch.float64, grad_fn=<MulBackward0>)\n",
      "Prob_edges  >> tensor(-349.7181, dtype=torch.float64, grad_fn=<SumBackward0>)\n",
      "Alpha_R_ri  >> tensor(-3088.2470, dtype=torch.float64, grad_fn=<MulBackward0>)\n",
      "Alpha       >> tensor(-31.0843, dtype=torch.float64, grad_fn=<MulBackward0>)\n",
      "Alpha_R     >> tensor(22.9492, dtype=torch.float64, grad_fn=<MulBackward0>)\n",
      "P(q_ri)     >> tensor(1008.2658, dtype=torch.float64, grad_fn=<MulBackward0>)\n",
      "P(q_phii)   >> tensor(1687.1906, dtype=torch.float64, grad_fn=<MulBackward0>)\n",
      "ELBO >>>> tensor(-781.6718, dtype=torch.float64, grad_fn=<AddBackward0>)\n",
      "Epoch 38 | LR: 0.00 | Total loss: 781.67 | Epoch time 0.25\n",
      "-D_kl(R)    >> tensor(-10.9534, dtype=torch.float64, grad_fn=<MulBackward0>)\n",
      "-D_kl(alpha)>> tensor(-0.9091, dtype=torch.float64, grad_fn=<MulBackward0>)\n",
      "-D_kl(T)    >> tensor(-0.5940, dtype=torch.float64, grad_fn=<MulBackward0>)\n",
      "Prob_edges  >> tensor(-173.6983, dtype=torch.float64, grad_fn=<SumBackward0>)\n",
      "Alpha_R_ri  >> tensor(-2385.4936, dtype=torch.float64, grad_fn=<MulBackward0>)\n",
      "Alpha       >> tensor(-30.5948, dtype=torch.float64, grad_fn=<MulBackward0>)\n",
      "Alpha_R     >> tensor(23.1515, dtype=torch.float64, grad_fn=<MulBackward0>)\n",
      "P(q_ri)     >> tensor(546.4026, dtype=torch.float64, grad_fn=<MulBackward0>)\n",
      "P(q_phii)   >> tensor(1690.2189, dtype=torch.float64, grad_fn=<MulBackward0>)\n",
      "ELBO >>>> tensor(-360.8488, dtype=torch.float64, grad_fn=<AddBackward0>)\n",
      "Epoch 39 | LR: 0.00 | Total loss: 360.85 | Epoch time 0.26\n",
      "-D_kl(R)    >> tensor(-11.5687, dtype=torch.float64, grad_fn=<MulBackward0>)\n",
      "-D_kl(alpha)>> tensor(-0.8830, dtype=torch.float64, grad_fn=<MulBackward0>)\n",
      "-D_kl(T)    >> tensor(-0.5976, dtype=torch.float64, grad_fn=<MulBackward0>)\n",
      "Prob_edges  >> tensor(-231.2877, dtype=torch.float64, grad_fn=<SumBackward0>)\n",
      "Alpha_R_ri  >> tensor(-1898.1824, dtype=torch.float64, grad_fn=<MulBackward0>)\n",
      "Alpha       >> tensor(-18.1500, dtype=torch.float64, grad_fn=<MulBackward0>)\n",
      "Alpha_R     >> tensor(5.8456, dtype=torch.float64, grad_fn=<MulBackward0>)\n",
      "P(q_ri)     >> tensor(945.5004, dtype=torch.float64, grad_fn=<MulBackward0>)\n",
      "P(q_phii)   >> tensor(1693.1631, dtype=torch.float64, grad_fn=<MulBackward0>)\n",
      "ELBO >>>> tensor(465.4610, dtype=torch.float64, grad_fn=<AddBackward0>)\n",
      "Epoch 40 | LR: 0.00 | Total loss: -465.46 | Epoch time 0.26\n"
     ]
    },
    {
     "name": "stdout",
     "output_type": "stream",
     "text": [
      "-D_kl(R)    >> tensor(-11.4564, dtype=torch.float64, grad_fn=<MulBackward0>)\n",
      "-D_kl(alpha)>> tensor(-0.9070, dtype=torch.float64, grad_fn=<MulBackward0>)\n",
      "-D_kl(T)    >> tensor(-0.6028, dtype=torch.float64, grad_fn=<MulBackward0>)\n",
      "Prob_edges  >> tensor(-368.8728, dtype=torch.float64, grad_fn=<SumBackward0>)\n",
      "Alpha_R_ri  >> tensor(-2471.0444, dtype=torch.float64, grad_fn=<MulBackward0>)\n",
      "Alpha       >> tensor(-23.5225, dtype=torch.float64, grad_fn=<MulBackward0>)\n",
      "Alpha_R     >> tensor(11.1635, dtype=torch.float64, grad_fn=<MulBackward0>)\n",
      "P(q_ri)     >> tensor(1078.7999, dtype=torch.float64, grad_fn=<MulBackward0>)\n",
      "P(q_phii)   >> tensor(1695.9065, dtype=torch.float64, grad_fn=<MulBackward0>)\n",
      "ELBO >>>> tensor(-108.9148, dtype=torch.float64, grad_fn=<AddBackward0>)\n",
      "Epoch 41 | LR: 0.00 | Total loss: 108.91 | Epoch time 0.26\n",
      "-D_kl(R)    >> tensor(-11.0703, dtype=torch.float64, grad_fn=<MulBackward0>)\n",
      "-D_kl(alpha)>> tensor(-0.9255, dtype=torch.float64, grad_fn=<MulBackward0>)\n",
      "-D_kl(T)    >> tensor(-0.6112, dtype=torch.float64, grad_fn=<MulBackward0>)\n",
      "Prob_edges  >> tensor(-233.4323, dtype=torch.float64, grad_fn=<SumBackward0>)\n",
      "Alpha_R_ri  >> tensor(-1851.5814, dtype=torch.float64, grad_fn=<MulBackward0>)\n",
      "Alpha       >> tensor(-23.8625, dtype=torch.float64, grad_fn=<MulBackward0>)\n",
      "Alpha_R     >> tensor(10.8541, dtype=torch.float64, grad_fn=<MulBackward0>)\n",
      "P(q_ri)     >> tensor(759.1162, dtype=torch.float64, grad_fn=<MulBackward0>)\n",
      "P(q_phii)   >> tensor(1698.6054, dtype=torch.float64, grad_fn=<MulBackward0>)\n",
      "ELBO >>>> tensor(328.7138, dtype=torch.float64, grad_fn=<AddBackward0>)\n",
      "Epoch 42 | LR: 0.00 | Total loss: -328.71 | Epoch time 0.27\n",
      "-D_kl(R)    >> tensor(-11.4226, dtype=torch.float64, grad_fn=<MulBackward0>)\n",
      "-D_kl(alpha)>> tensor(-0.9240, dtype=torch.float64, grad_fn=<MulBackward0>)\n",
      "-D_kl(T)    >> tensor(-0.6155, dtype=torch.float64, grad_fn=<MulBackward0>)\n",
      "Prob_edges  >> tensor(-171.7701, dtype=torch.float64, grad_fn=<SumBackward0>)\n",
      "Alpha_R_ri  >> tensor(-2302.8091, dtype=torch.float64, grad_fn=<MulBackward0>)\n",
      "Alpha       >> tensor(-26.5598, dtype=torch.float64, grad_fn=<MulBackward0>)\n",
      "Alpha_R     >> tensor(17.9170, dtype=torch.float64, grad_fn=<MulBackward0>)\n",
      "P(q_ri)     >> tensor(545.0926, dtype=torch.float64, grad_fn=<MulBackward0>)\n",
      "P(q_phii)   >> tensor(1701.2021, dtype=torch.float64, grad_fn=<MulBackward0>)\n",
      "ELBO >>>> tensor(-268.2683, dtype=torch.float64, grad_fn=<AddBackward0>)\n",
      "Epoch 43 | LR: 0.00 | Total loss: 268.27 | Epoch time 0.28\n",
      "-D_kl(R)    >> tensor(-12.0111, dtype=torch.float64, grad_fn=<MulBackward0>)\n",
      "-D_kl(alpha)>> tensor(-0.9134, dtype=torch.float64, grad_fn=<MulBackward0>)\n",
      "-D_kl(T)    >> tensor(-0.6205, dtype=torch.float64, grad_fn=<MulBackward0>)\n",
      "Prob_edges  >> tensor(-320.0740, dtype=torch.float64, grad_fn=<SumBackward0>)\n",
      "Alpha_R_ri  >> tensor(-2078.1559, dtype=torch.float64, grad_fn=<MulBackward0>)\n",
      "Alpha       >> tensor(-24.0745, dtype=torch.float64, grad_fn=<MulBackward0>)\n",
      "Alpha_R     >> tensor(11.7111, dtype=torch.float64, grad_fn=<MulBackward0>)\n",
      "P(q_ri)     >> tensor(1181.7499, dtype=torch.float64, grad_fn=<MulBackward0>)\n",
      "P(q_phii)   >> tensor(1703.8694, dtype=torch.float64, grad_fn=<MulBackward0>)\n",
      "ELBO >>>> tensor(443.1023, dtype=torch.float64, grad_fn=<AddBackward0>)\n",
      "Epoch 44 | LR: 0.00 | Total loss: -443.10 | Epoch time 0.28\n",
      "-D_kl(R)    >> tensor(-11.8103, dtype=torch.float64, grad_fn=<MulBackward0>)\n",
      "-D_kl(alpha)>> tensor(-0.9245, dtype=torch.float64, grad_fn=<MulBackward0>)\n",
      "-D_kl(T)    >> tensor(-0.6298, dtype=torch.float64, grad_fn=<MulBackward0>)\n",
      "Prob_edges  >> tensor(-182.8950, dtype=torch.float64, grad_fn=<SumBackward0>)\n",
      "Alpha_R_ri  >> tensor(-2559.1428, dtype=torch.float64, grad_fn=<MulBackward0>)\n",
      "Alpha       >> tensor(-24.6207, dtype=torch.float64, grad_fn=<MulBackward0>)\n",
      "Alpha_R     >> tensor(17.9329, dtype=torch.float64, grad_fn=<MulBackward0>)\n",
      "P(q_ri)     >> tensor(770.1652, dtype=torch.float64, grad_fn=<MulBackward0>)\n",
      "P(q_phii)   >> tensor(1706.3348, dtype=torch.float64, grad_fn=<MulBackward0>)\n",
      "ELBO >>>> tensor(-303.9691, dtype=torch.float64, grad_fn=<AddBackward0>)\n",
      "Epoch 45 | LR: 0.00 | Total loss: 303.97 | Epoch time 0.26\n",
      "-D_kl(R)    >> tensor(-11.9692, dtype=torch.float64, grad_fn=<MulBackward0>)\n",
      "-D_kl(alpha)>> tensor(-0.9217, dtype=torch.float64, grad_fn=<MulBackward0>)\n",
      "-D_kl(T)    >> tensor(-0.6331, dtype=torch.float64, grad_fn=<MulBackward0>)\n",
      "Prob_edges  >> tensor(-239.8833, dtype=torch.float64, grad_fn=<SumBackward0>)\n",
      "Alpha_R_ri  >> tensor(-1723.0717, dtype=torch.float64, grad_fn=<MulBackward0>)\n",
      "Alpha       >> tensor(-18.2386, dtype=torch.float64, grad_fn=<MulBackward0>)\n",
      "Alpha_R     >> tensor(3.6230, dtype=torch.float64, grad_fn=<MulBackward0>)\n",
      "P(q_ri)     >> tensor(977.5849, dtype=torch.float64, grad_fn=<MulBackward0>)\n",
      "P(q_phii)   >> tensor(1708.6469, dtype=torch.float64, grad_fn=<MulBackward0>)\n",
      "ELBO >>>> tensor(676.7583, dtype=torch.float64, grad_fn=<AddBackward0>)\n",
      "Epoch 46 | LR: 0.00 | Total loss: -676.76 | Epoch time 0.26\n",
      "-D_kl(R)    >> tensor(-11.7283, dtype=torch.float64, grad_fn=<MulBackward0>)\n",
      "-D_kl(alpha)>> tensor(-0.9465, dtype=torch.float64, grad_fn=<MulBackward0>)\n",
      "-D_kl(T)    >> tensor(-0.6393, dtype=torch.float64, grad_fn=<MulBackward0>)\n",
      "Prob_edges  >> tensor(-178.5143, dtype=torch.float64, grad_fn=<SumBackward0>)\n",
      "Alpha_R_ri  >> tensor(-1868.2927, dtype=torch.float64, grad_fn=<MulBackward0>)\n",
      "Alpha       >> tensor(-21.0349, dtype=torch.float64, grad_fn=<MulBackward0>)\n",
      "Alpha_R     >> tensor(8.1124, dtype=torch.float64, grad_fn=<MulBackward0>)\n",
      "P(q_ri)     >> tensor(454.7187, dtype=torch.float64, grad_fn=<MulBackward0>)\n",
      "P(q_phii)   >> tensor(1710.5036, dtype=torch.float64, grad_fn=<MulBackward0>)\n",
      "ELBO >>>> tensor(73.8000, dtype=torch.float64, grad_fn=<AddBackward0>)\n",
      "Epoch 47 | LR: 0.00 | Total loss: -73.80 | Epoch time 0.27\n",
      "-D_kl(R)    >> tensor(-12.1675, dtype=torch.float64, grad_fn=<MulBackward0>)\n",
      "-D_kl(alpha)>> tensor(-0.9517, dtype=torch.float64, grad_fn=<MulBackward0>)\n",
      "-D_kl(T)    >> tensor(-0.6444, dtype=torch.float64, grad_fn=<MulBackward0>)\n",
      "Prob_edges  >> tensor(-271.1208, dtype=torch.float64, grad_fn=<SumBackward0>)\n",
      "Alpha_R_ri  >> tensor(-2054.9388, dtype=torch.float64, grad_fn=<MulBackward0>)\n",
      "Alpha       >> tensor(-21.4090, dtype=torch.float64, grad_fn=<MulBackward0>)\n",
      "Alpha_R     >> tensor(9.2555, dtype=torch.float64, grad_fn=<MulBackward0>)\n",
      "P(q_ri)     >> tensor(644.5104, dtype=torch.float64, grad_fn=<MulBackward0>)\n",
      "P(q_phii)   >> tensor(1712.7704, dtype=torch.float64, grad_fn=<MulBackward0>)\n",
      "ELBO >>>> tensor(-13.0747, dtype=torch.float64, grad_fn=<AddBackward0>)\n",
      "Epoch 48 | LR: 0.00 | Total loss: 13.07 | Epoch time 0.28\n",
      "-D_kl(R)    >> tensor(-11.9486, dtype=torch.float64, grad_fn=<MulBackward0>)\n",
      "-D_kl(alpha)>> tensor(-0.9630, dtype=torch.float64, grad_fn=<MulBackward0>)\n",
      "-D_kl(T)    >> tensor(-0.6545, dtype=torch.float64, grad_fn=<MulBackward0>)\n",
      "Prob_edges  >> tensor(-207.0209, dtype=torch.float64, grad_fn=<SumBackward0>)\n",
      "Alpha_R_ri  >> tensor(-2350.3850, dtype=torch.float64, grad_fn=<MulBackward0>)\n",
      "Alpha       >> tensor(-22.7526, dtype=torch.float64, grad_fn=<MulBackward0>)\n",
      "Alpha_R     >> tensor(10.8354, dtype=torch.float64, grad_fn=<MulBackward0>)\n",
      "P(q_ri)     >> tensor(824.5942, dtype=torch.float64, grad_fn=<MulBackward0>)\n",
      "P(q_phii)   >> tensor(1714.8910, dtype=torch.float64, grad_fn=<MulBackward0>)\n",
      "ELBO >>>> tensor(-61.7826, dtype=torch.float64, grad_fn=<AddBackward0>)\n",
      "Epoch 49 | LR: 0.00 | Total loss: 61.78 | Epoch time 0.25\n",
      "-D_kl(R)    >> tensor(-11.9355, dtype=torch.float64, grad_fn=<MulBackward0>)\n",
      "-D_kl(alpha)>> tensor(-0.9774, dtype=torch.float64, grad_fn=<MulBackward0>)\n",
      "-D_kl(T)    >> tensor(-0.6571, dtype=torch.float64, grad_fn=<MulBackward0>)\n",
      "Prob_edges  >> tensor(-329.8305, dtype=torch.float64, grad_fn=<SumBackward0>)\n",
      "Alpha_R_ri  >> tensor(-2968.2062, dtype=torch.float64, grad_fn=<MulBackward0>)\n",
      "Alpha       >> tensor(-30.1480, dtype=torch.float64, grad_fn=<MulBackward0>)\n",
      "Alpha_R     >> tensor(21.9980, dtype=torch.float64, grad_fn=<MulBackward0>)\n",
      "P(q_ri)     >> tensor(1004.6174, dtype=torch.float64, grad_fn=<MulBackward0>)\n",
      "P(q_phii)   >> tensor(1717.4405, dtype=torch.float64, grad_fn=<MulBackward0>)\n",
      "ELBO >>>> tensor(-616.0775, dtype=torch.float64, grad_fn=<AddBackward0>)\n",
      "Epoch 50 | LR: 0.00 | Total loss: 616.08 | Epoch time 0.26\n",
      ">>>>>>>>>>>> Training is finished.\n",
      "\n"
     ]
    }
   ],
   "source": [
    "with autograd.detect_anomaly():\n",
    "    vi.train(dataloader, lrs=0.001, debug=True, epochs=50)"
   ]
  },
  {
   "cell_type": "code",
   "execution_count": 13,
   "metadata": {},
   "outputs": [
    {
     "data": {
      "text/plain": [
       "(tensor(0.7758, dtype=torch.float64, grad_fn=<ExpBackward>),\n",
       " tensor(0.2175, dtype=torch.float64, grad_fn=<ExpBackward>))"
      ]
     },
     "execution_count": 13,
     "metadata": {},
     "output_type": "execute_result"
    }
   ],
   "source": [
    "vi.alpha_conc.exp(), vi.alpha_scale.exp()"
   ]
  },
  {
   "cell_type": "code",
   "execution_count": 14,
   "metadata": {},
   "outputs": [
    {
     "data": {
      "text/plain": [
       "(tensor(0.5000), tensor(0.5000))"
      ]
     },
     "execution_count": 14,
     "metadata": {},
     "output_type": "execute_result"
    }
   ],
   "source": [
    "alpha_conc_init.exp(), alpha_scale_init.exp()"
   ]
  },
  {
   "cell_type": "code",
   "execution_count": 15,
   "metadata": {},
   "outputs": [
    {
     "data": {
      "text/plain": [
       "(tensor(13.7471, dtype=torch.float64, grad_fn=<ExpBackward>),\n",
       " tensor(1.0407, dtype=torch.float64, grad_fn=<ExpBackward>))"
      ]
     },
     "execution_count": 15,
     "metadata": {},
     "output_type": "execute_result"
    }
   ],
   "source": [
    "vi.R_conc.exp(), vi.R_scale.exp()"
   ]
  },
  {
   "cell_type": "code",
   "execution_count": 16,
   "metadata": {},
   "outputs": [
    {
     "data": {
      "text/plain": [
       "tensor(14.3068, dtype=torch.float64)"
      ]
     },
     "execution_count": 16,
     "metadata": {},
     "output_type": "execute_result"
    }
   ],
   "source": [
    "R_mean = Gamma(vi.R_conc.exp(), vi.R_scale.exp().reciprocal()).mean.detach()\n",
    "R_mean"
   ]
  },
  {
   "cell_type": "code",
   "execution_count": 17,
   "metadata": {},
   "outputs": [
    {
     "data": {
      "text/plain": [
       "(Parameter containing:\n",
       " tensor([ 1.5276,  1.6144,  1.4168,  1.2248, -9.4874,  0.1723,  9.4908,  1.6314,\n",
       "          2.1350,  1.8376], dtype=torch.float64, requires_grad=True),\n",
       " tensor([1.4097, 1.4257, 1.3998, 1.2897, 2.5310, 1.4335, 2.9048, 1.3702, 1.6119,\n",
       "         1.6039], dtype=torch.float64, grad_fn=<ExpBackward>))"
      ]
     },
     "execution_count": 17,
     "metadata": {},
     "output_type": "execute_result"
    }
   ],
   "source": [
    "vi.rs_loc, vi.rs_scale.exp()"
   ]
  },
  {
   "cell_type": "code",
   "execution_count": 18,
   "metadata": {},
   "outputs": [],
   "source": [
    "post_r = Radius(vi.rs_loc, vi.rs_scale.exp(), R_mean.expand([N]))"
   ]
  },
  {
   "cell_type": "code",
   "execution_count": 19,
   "metadata": {},
   "outputs": [
    {
     "data": {
      "text/plain": [
       "tensor([1.1755e+01, 1.1932e+01, 1.1515e+01, 1.1058e+01, 1.0844e-03, 7.7683e+00,\n",
       "        1.4306e+01, 1.1966e+01, 1.2794e+01, 1.2342e+01], dtype=torch.float64,\n",
       "       grad_fn=<MulBackward0>)"
      ]
     },
     "execution_count": 19,
     "metadata": {},
     "output_type": "execute_result"
    }
   ],
   "source": [
    "post_r.mean"
   ]
  },
  {
   "cell_type": "code",
   "execution_count": 20,
   "metadata": {},
   "outputs": [
    {
     "data": {
      "text/plain": [
       "tensor([4.2345, 4.2333, 2.1902, 3.0441, 0.6701, 1.5034, 4.9904, 4.8781, 4.3641,\n",
       "        4.9651], dtype=torch.float64)"
      ]
     },
     "execution_count": 20,
     "metadata": {},
     "output_type": "execute_result"
    }
   ],
   "source": [
    "r"
   ]
  },
  {
   "cell_type": "code",
   "execution_count": 21,
   "metadata": {},
   "outputs": [
    {
     "data": {
      "text/plain": [
       "tensor([-2.3453, -2.1402, -2.2616, -2.3085,  3.9304, -2.5784,  4.2820, -2.0061,\n",
       "        -1.8337, -2.3398], dtype=torch.float64, grad_fn=<MeanBackward1>)"
      ]
     },
     "execution_count": 21,
     "metadata": {},
     "output_type": "execute_result"
    }
   ],
   "source": [
    "r_samp = post_r.sample([50])\n",
    "post_r.log_prob(r_samp).mean(dim=0)"
   ]
  },
  {
   "cell_type": "code",
   "execution_count": 22,
   "metadata": {},
   "outputs": [
    {
     "data": {
      "text/plain": [
       "tensor(2.6607, dtype=torch.float64)"
      ]
     },
     "execution_count": 22,
     "metadata": {},
     "output_type": "execute_result"
    }
   ],
   "source": [
    "R_mean.log()"
   ]
  },
  {
   "cell_type": "code",
   "execution_count": 23,
   "metadata": {},
   "outputs": [
    {
     "data": {
      "text/plain": [
       "(Parameter containing:\n",
       " tensor([[ 0.0184,  1.0672],\n",
       "         [-0.5120,  0.8672],\n",
       "         [ 0.6600, -0.1731],\n",
       "         [-0.6690,  0.7280],\n",
       "         [-1.2407, -0.0380],\n",
       "         [ 0.5744, -0.8756],\n",
       "         [-0.2850, -0.8331],\n",
       "         [ 1.0343,  0.6322],\n",
       "         [-0.0949,  0.6394],\n",
       "         [ 0.7026,  0.7145]], dtype=torch.float64, requires_grad=True),\n",
       " tensor([0.8715, 0.5931, 0.6968, 0.8703, 0.8613, 0.5503, 0.7613, 0.6518, 0.4273,\n",
       "         0.8258], dtype=torch.float64, grad_fn=<ExpBackward>))"
      ]
     },
     "execution_count": 23,
     "metadata": {},
     "output_type": "execute_result"
    }
   ],
   "source": [
    "vi.phis_loc, vi.phis_scale.exp()"
   ]
  },
  {
   "cell_type": "code",
   "execution_count": 24,
   "metadata": {},
   "outputs": [],
   "source": [
    "post_phi = VonMisesFisher(vi.phis_loc, vi.phis_scale.exp().unsqueeze(dim=-1))"
   ]
  },
  {
   "cell_type": "code",
   "execution_count": 25,
   "metadata": {},
   "outputs": [
    {
     "data": {
      "text/plain": [
       "tensor([1.6717, 1.7554, 1.7266, 1.6721, 1.6751, 1.7662, 1.7072, 1.7395, 1.7937,\n",
       "        1.6867], dtype=torch.float64, grad_fn=<AddBackward0>)"
      ]
     },
     "execution_count": 25,
     "metadata": {},
     "output_type": "execute_result"
    }
   ],
   "source": [
    "post_phi.entropy()"
   ]
  },
  {
   "cell_type": "code",
   "execution_count": 26,
   "metadata": {},
   "outputs": [
    {
     "data": {
      "text/plain": [
       "tensor([ 1.5536,  2.1042, -0.2565,  2.3140, -3.1110, -0.9902, -1.9004,  0.5487,\n",
       "         1.7181,  0.7938], dtype=torch.float64)"
      ]
     },
     "execution_count": 26,
     "metadata": {},
     "output_type": "execute_result"
    }
   ],
   "source": [
    "c2d(post_phi.mean.detach())"
   ]
  },
  {
   "cell_type": "code",
   "execution_count": 27,
   "metadata": {},
   "outputs": [
    {
     "data": {
      "text/plain": [
       "tensor([2.0038, 1.3498, 5.8199, 2.9752, 3.7382, 4.9988, 4.7971, 1.3427, 1.9266,\n",
       "        0.2422], dtype=torch.float64)"
      ]
     },
     "execution_count": 27,
     "metadata": {},
     "output_type": "execute_result"
    }
   ],
   "source": [
    "theta"
   ]
  },
  {
   "cell_type": "code",
   "execution_count": 28,
   "metadata": {},
   "outputs": [
    {
     "data": {
      "text/plain": [
       "tensor([-1.6425, -1.7351, -2.0042, -1.7161, -1.6295, -1.7950, -1.6320, -1.7962,\n",
       "        -1.8283, -1.6886], dtype=torch.float64, grad_fn=<MeanBackward1>)"
      ]
     },
     "execution_count": 28,
     "metadata": {},
     "output_type": "execute_result"
    }
   ],
   "source": [
    "phi_samp = post_phi.sample(50)\n",
    "post_phi.log_prob(phi_samp).mean(dim=0)"
   ]
  },
  {
   "cell_type": "code",
   "execution_count": 29,
   "metadata": {},
   "outputs": [
    {
     "data": {
      "text/plain": [
       "9.189385332046726"
      ]
     },
     "execution_count": 29,
     "metadata": {},
     "output_type": "execute_result"
    }
   ],
   "source": [
    "np.log(2*np.pi)*5"
   ]
  },
  {
   "cell_type": "code",
   "execution_count": 30,
   "metadata": {},
   "outputs": [
    {
     "data": {
      "text/plain": [
       "tensor(0.6968, dtype=torch.float64)"
      ]
     },
     "execution_count": 30,
     "metadata": {},
     "output_type": "execute_result"
    }
   ],
   "source": [
    "Beta(vi.T.exp()[0], vi.T.exp()[1]).sample([50]).mean()"
   ]
  },
  {
   "cell_type": "code",
   "execution_count": null,
   "metadata": {},
   "outputs": [],
   "source": []
  },
  {
   "cell_type": "code",
   "execution_count": null,
   "metadata": {},
   "outputs": [],
   "source": []
  },
  {
   "cell_type": "code",
   "execution_count": null,
   "metadata": {},
   "outputs": [],
   "source": []
  },
  {
   "cell_type": "code",
   "execution_count": null,
   "metadata": {},
   "outputs": [],
   "source": []
  },
  {
   "cell_type": "code",
   "execution_count": null,
   "metadata": {},
   "outputs": [],
   "source": []
  },
  {
   "cell_type": "raw",
   "metadata": {
    "scrolled": false
   },
   "source": [
    "total_loss = 0\n",
    "with autograd.detect_anomaly():\n",
    "    #print(torch.is_anomaly_enabled())\n",
    "    for idx1, idx2, data in dataloader:\n",
    "        loss = - vi.elbo(idx1, idx2, data, debug=True)\n",
    "        vi.optimizer.zero_grad()\n",
    "        loss.backward()\n",
    "        vi.optimizer.step()\n",
    "        print('>>>>', loss)\n",
    "        total_loss += loss\n",
    "total_loss"
   ]
  },
  {
   "cell_type": "code",
   "execution_count": 31,
   "metadata": {},
   "outputs": [],
   "source": [
    "p_hd_ = lambda d,R,T: (1.+((d-R)/(2.*T)).exp()).reciprocal()\n",
    "phd = lambda d,R,T: 0.5 + 0.5*(-(d-R)/(4*T)).tanh()"
   ]
  },
  {
   "cell_type": "code",
   "execution_count": 32,
   "metadata": {},
   "outputs": [
    {
     "data": {
      "text/plain": [
       "tensor([1.], dtype=torch.float64)"
      ]
     },
     "execution_count": 32,
     "metadata": {},
     "output_type": "execute_result"
    }
   ],
   "source": [
    "p_hd_(torch.tensor(-np.inf),R,T)"
   ]
  },
  {
   "cell_type": "code",
   "execution_count": 33,
   "metadata": {},
   "outputs": [
    {
     "data": {
      "text/plain": [
       "tensor([0.3775], dtype=torch.float64)"
      ]
     },
     "execution_count": 33,
     "metadata": {},
     "output_type": "execute_result"
    }
   ],
   "source": [
    "phd(torch.tensor(5.1),R,T)"
   ]
  },
  {
   "cell_type": "code",
   "execution_count": 34,
   "metadata": {},
   "outputs": [
    {
     "data": {
      "text/plain": [
       "tensor([-2.3026,  2.3026])"
      ]
     },
     "execution_count": 34,
     "metadata": {},
     "output_type": "execute_result"
    }
   ],
   "source": [
    "torch.tensor([0.1,10.0]).log()"
   ]
  },
  {
   "cell_type": "code",
   "execution_count": 35,
   "metadata": {},
   "outputs": [
    {
     "data": {
      "image/png": "[encoded data removed]",
      "text/plain": [
       "<Figure size 432x288 with 1 Axes>"
      ]
     },
     "metadata": {
      "needs_background": "light"
     },
     "output_type": "display_data"
    }
   ],
   "source": [
    "x = torch.arange(0.,1.,.01)\n",
    "plt.plot(x, torch.sigmoid(logit(x)))\n",
    "plt.show()"
   ]
  },
  {
   "cell_type": "code",
   "execution_count": 36,
   "metadata": {},
   "outputs": [
    {
     "data": {
      "text/plain": [
       "tensor(-inf)"
      ]
     },
     "execution_count": 36,
     "metadata": {},
     "output_type": "execute_result"
    }
   ],
   "source": [
    "logit(torch.tensor(0.))"
   ]
  },
  {
   "cell_type": "code",
   "execution_count": 37,
   "metadata": {},
   "outputs": [],
   "source": [
    "l, n, m = 3, 4, 5\n",
    "broadcast = torch.ones([l,n])"
   ]
  },
  {
   "cell_type": "code",
   "execution_count": 38,
   "metadata": {},
   "outputs": [
    {
     "data": {
      "text/plain": [
       "tensor([[0.9075, 0.9075, 0.9075, 0.9075],\n",
       "        [0.7914, 0.7914, 0.7914, 0.7914],\n",
       "        [0.6325, 0.6325, 0.6325, 0.6325],\n",
       "        [0.0570, 0.0570, 0.0570, 0.0570],\n",
       "        [0.9939, 0.9939, 0.9939, 0.9939]])"
      ]
     },
     "execution_count": 38,
     "metadata": {},
     "output_type": "execute_result"
    }
   ],
   "source": [
    "torch.rand(m).expand(n,m).t()"
   ]
  },
  {
   "cell_type": "code",
   "execution_count": 39,
   "metadata": {},
   "outputs": [
    {
     "data": {
      "text/plain": [
       "tensor([[0, 1, 2, 3],\n",
       "        [0, 1, 2, 3],\n",
       "        [0, 1, 2, 3],\n",
       "        [0, 1, 2, 3],\n",
       "        [0, 1, 2, 3]])"
      ]
     },
     "execution_count": 39,
     "metadata": {},
     "output_type": "execute_result"
    }
   ],
   "source": [
    "torch.arange(n).expand(m,n)"
   ]
  },
  {
   "cell_type": "code",
   "execution_count": 40,
   "metadata": {},
   "outputs": [
    {
     "data": {
      "text/plain": [
       "tensor(0.)"
      ]
     },
     "execution_count": 40,
     "metadata": {},
     "output_type": "execute_result"
    }
   ],
   "source": [
    "torch.tensor(0.).mean()"
   ]
  },
  {
   "cell_type": "code",
   "execution_count": 41,
   "metadata": {},
   "outputs": [
    {
     "data": {
      "text/plain": [
       "tensor([1.0000, 1.0000, 1.0000, 1.0000, 1.0000, 1.0000, 1.0000, 1.0000, 1.0000,\n",
       "        1.0000, 1.0000, 1.5583, 1.8633, 2.1307, 2.3798, 2.6180, 2.8490, 3.0748,\n",
       "        3.2967, 3.5155])"
      ]
     },
     "execution_count": 41,
     "metadata": {},
     "output_type": "execute_result"
    }
   ],
   "source": [
    "arcosh = lambda x: (torch.clamp(x, min=1.) + (torch.clamp(x, min=1.)**2 - 1).sqrt())\n",
    "arcosh(torch.arange(0.,2., .1))"
   ]
  },
  {
   "cell_type": "code",
   "execution_count": 42,
   "metadata": {},
   "outputs": [
    {
     "data": {
      "text/plain": [
       "tensor([1., 1., 1., 1., 1., 1., 1., 1., 1., 1., 1., 1., 1., 1., 1., 1., 1., 1.,\n",
       "        1., 1., 1., 1., 1., 1., 1., 1., 1., 1., 1., 1., 1., 1., 1., 1., 1., 1.,\n",
       "        1., 1., 1., 1., 1., 1., 1., 1., 1., 1., 1., 1., 1., 1., 1., 1., 1., 1.,\n",
       "        1., 1., 1., 1., 1., 1., 1., 1., 1., 1., 1., 1., 1., 1., 1., 1., 1., 1.,\n",
       "        1., 1., 1., 1., 1., 1., 1., 1., 1., 1., 1., 1., 1., 1., 1., 1., 1., 1.,\n",
       "        1., 1., 1., 1., 1., 1., 1., 1., 1., 1.])"
      ]
     },
     "execution_count": 42,
     "metadata": {},
     "output_type": "execute_result"
    }
   ],
   "source": [
    "torch.clamp(x, min=1.)"
   ]
  },
  {
   "cell_type": "code",
   "execution_count": 43,
   "metadata": {},
   "outputs": [
    {
     "data": {
      "text/plain": [
       "1.6094379124341003"
      ]
     },
     "execution_count": 43,
     "metadata": {},
     "output_type": "execute_result"
    }
   ],
   "source": [
    "np.log(5)"
   ]
  },
  {
   "cell_type": "code",
   "execution_count": 44,
   "metadata": {},
   "outputs": [
    {
     "data": {
      "text/plain": [
       "tensor(0.)"
      ]
     },
     "execution_count": 44,
     "metadata": {},
     "output_type": "execute_result"
    }
   ],
   "source": [
    "torch.tensor(20.).cosh().pow(5).reciprocal()"
   ]
  },
  {
   "cell_type": "code",
   "execution_count": 45,
   "metadata": {},
   "outputs": [
    {
     "data": {
      "text/plain": [
       "1000000000000.0"
      ]
     },
     "execution_count": 45,
     "metadata": {},
     "output_type": "execute_result"
    }
   ],
   "source": [
    "1/1e-12"
   ]
  },
  {
   "cell_type": "code",
   "execution_count": 46,
   "metadata": {},
   "outputs": [
    {
     "data": {
      "text/plain": [
       "tensor([inf, 0., 1.])"
      ]
     },
     "execution_count": 46,
     "metadata": {},
     "output_type": "execute_result"
    }
   ],
   "source": [
    "has_nan = torch.tensor([np.nan, 0, 1.])\n",
    "torch.where(torch.isnan(has_nan), torch.tensor(np.inf).expand(has_nan.shape), has_nan)"
   ]
  },
  {
   "cell_type": "code",
   "execution_count": 47,
   "metadata": {},
   "outputs": [
    {
     "data": {
      "text/plain": [
       "5.184705528587072e+21"
      ]
     },
     "execution_count": 47,
     "metadata": {},
     "output_type": "execute_result"
    }
   ],
   "source": [
    "np.exp(50)"
   ]
  },
  {
   "cell_type": "code",
   "execution_count": 48,
   "metadata": {},
   "outputs": [
    {
     "data": {
      "text/plain": [
       "1e+34"
      ]
     },
     "execution_count": 48,
     "metadata": {},
     "output_type": "execute_result"
    }
   ],
   "source": [
    "1e+22*1e+12"
   ]
  },
  {
   "cell_type": "code",
   "execution_count": null,
   "metadata": {},
   "outputs": [],
   "source": []
  }
 ],
 "metadata": {
  "@webio": {
   "lastCommId": null,
   "lastKernelId": null
  },
  "kernelspec": {
   "display_name": "Python 3",
   "language": "python",
   "name": "python3"
  },
  "language_info": {
   "codemirror_mode": {
    "name": "ipython",
    "version": 3
   },
   "file_extension": ".py",
   "mimetype": "text/x-python",
   "name": "python",
   "nbconvert_exporter": "python",
   "pygments_lexer": "ipython3",
   "version": "3.5.2"
  }
 },
 "nbformat": 4,
 "nbformat_minor": 2
}
