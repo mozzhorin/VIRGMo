{
 "cells": [
  {
   "cell_type": "code",
   "execution_count": 1,
   "metadata": {},
   "outputs": [],
   "source": [
    "import torch\n",
    "import numpy as np\n",
    "import matplotlib.pyplot as plt"
   ]
  },
  {
   "cell_type": "code",
   "execution_count": 2,
   "metadata": {},
   "outputs": [],
   "source": [
    "from torch.distributions.normal import Normal\n",
    "from torch.distributions.log_normal import LogNormal\n",
    "from torch.distributions.transformed_distribution import TransformedDistribution\n",
    "from torch.distributions.transforms import SigmoidTransform, AffineTransform, ExpTransform\n",
    "from torch.distributions import constraints\n",
    "from torch.distributions.utils import broadcast_all"
   ]
  },
  {
   "cell_type": "code",
   "execution_count": 3,
   "metadata": {},
   "outputs": [],
   "source": [
    "class Radius(TransformedDistribution):\n",
    "    r\"\"\"\n",
    "    Creates a distribution for hyperbolic radius parameterized by `loc`,`scale` and `R` where::\n",
    "\n",
    "        X ~ Normal(loc, scale)\n",
    "        Y = R * Sigmoid(X) ~ Radius(loc, scale, R)\n",
    "\n",
    "    Example::\n",
    "\n",
    "        >>> m = Radius(0., 1., 10.)\n",
    "        >>> m.rsample()\n",
    "        tensor(5.4377)\n",
    "\n",
    "    Args:\n",
    "        loc (float or Tensor): mean of the base Normal distribution\n",
    "        scale (float or Tensor): scale of the base Normal distribution\n",
    "        R (float or Tensor): maximal hyperbolic radius\n",
    "    \"\"\"\n",
    "    arg_constraints = {'loc': constraints.real,\n",
    "                       'scale': constraints.positive,\n",
    "                       'R': constraints.positive}\n",
    "    support = constraints.positive\n",
    "    has_rsample = True\n",
    "\n",
    "    def __init__(self, loc, scale, R, validate_args=None):\n",
    "        self.loc, self.scale, self.R = broadcast_all(loc, scale, R)\n",
    "        base_dist = Normal(loc, scale)\n",
    "        transforms = [SigmoidTransform(), AffineTransform(loc=0, scale=R)]\n",
    "        super(Radius, self).__init__(base_dist, transforms, validate_args=validate_args)\n",
    "        \n",
    "    @property\n",
    "    def mean(self):\n",
    "        return torch.sigmoid(self.loc)*self.R"
   ]
  },
  {
   "cell_type": "code",
   "execution_count": 22,
   "metadata": {},
   "outputs": [
    {
     "data": {
      "text/plain": [
       "tensor([2.4473, 2.5875, 2.7640, 2.4503, 2.4641, 2.5143, 2.2685, 2.5532, 2.6139,\n",
       "        2.3189])"
      ]
     },
     "execution_count": 22,
     "metadata": {},
     "output_type": "execute_result"
    }
   ],
   "source": [
    "r_ = Radius(.0, .1, 5.)\n",
    "r_.rsample([10])"
   ]
  },
  {
   "cell_type": "code",
   "execution_count": 23,
   "metadata": {},
   "outputs": [
    {
     "data": {
      "image/png": "[encoded data removed]",
      "text/plain": [
       "<Figure size 432x288 with 1 Axes>"
      ]
     },
     "metadata": {
      "needs_background": "light"
     },
     "output_type": "display_data"
    }
   ],
   "source": [
    "plt.hist(r_.rsample([10000]), bins=100)\n",
    "plt.show()"
   ]
  },
  {
   "cell_type": "code",
   "execution_count": 24,
   "metadata": {},
   "outputs": [
    {
     "data": {
      "text/plain": [
       "tensor([2.3712, 2.3529, 2.4999, 2.5132, 2.6674, 2.4167, 2.3175, 2.4284, 2.8425,\n",
       "        2.2093])"
      ]
     },
     "execution_count": 24,
     "metadata": {},
     "output_type": "execute_result"
    }
   ],
   "source": [
    "s = r_.rsample([10])\n",
    "s"
   ]
  },
  {
   "cell_type": "code",
   "execution_count": 29,
   "metadata": {},
   "outputs": [
    {
     "data": {
      "text/plain": [
       "tensor([ 0.6310,  0.4699,  1.1605,  1.1549,  0.2654,  0.9395,  0.0968,  0.9974,\n",
       "        -2.6211, -1.5551])"
      ]
     },
     "execution_count": 29,
     "metadata": {},
     "output_type": "execute_result"
    }
   ],
   "source": [
    "r_.log_prob(s)"
   ]
  },
  {
   "cell_type": "code",
   "execution_count": 26,
   "metadata": {},
   "outputs": [
    {
     "data": {
      "text/plain": [
       "tensor(2.5000)"
      ]
     },
     "execution_count": 26,
     "metadata": {},
     "output_type": "execute_result"
    }
   ],
   "source": [
    "r_.mean"
   ]
  },
  {
   "cell_type": "code",
   "execution_count": 27,
   "metadata": {},
   "outputs": [
    {
     "data": {
      "text/plain": [
       "1.6094379124341003"
      ]
     },
     "execution_count": 27,
     "metadata": {},
     "output_type": "execute_result"
    }
   ],
   "source": [
    "np.log(5)"
   ]
  },
  {
   "cell_type": "code",
   "execution_count": 59,
   "metadata": {},
   "outputs": [
    {
     "data": {
      "text/plain": [
       "(array([8.602e+03, 0.000e+00, 0.000e+00, 2.670e+02, 0.000e+00, 0.000e+00,\n",
       "        0.000e+00, 0.000e+00, 1.690e+02, 0.000e+00, 0.000e+00, 9.400e+01,\n",
       "        0.000e+00, 8.900e+01, 0.000e+00, 5.600e+01, 5.000e+01, 3.400e+01,\n",
       "        8.100e+01, 0.000e+00, 5.300e+01, 1.300e+01, 3.600e+01, 1.200e+01,\n",
       "        3.200e+01, 2.300e+01, 1.400e+01, 1.900e+01, 2.600e+01, 1.500e+01,\n",
       "        1.900e+01, 2.300e+01, 2.100e+01, 2.900e+01, 1.200e+01, 1.300e+01,\n",
       "        8.000e+00, 1.000e+01, 1.100e+01, 1.000e+01, 1.200e+01, 1.900e+01,\n",
       "        5.000e+00, 1.300e+01, 9.000e+00, 1.000e+01, 5.000e+00, 5.000e+00,\n",
       "        6.000e+00, 7.000e+00, 4.000e+00, 4.000e+00, 6.000e+00, 3.000e+00,\n",
       "        3.000e+00, 0.000e+00, 5.000e+00, 6.000e+00, 4.000e+00, 2.000e+00,\n",
       "        2.000e+00, 1.000e+00, 2.000e+00, 2.000e+00, 3.000e+00, 3.000e+00,\n",
       "        0.000e+00, 2.000e+00, 1.000e+00, 3.000e+00, 1.000e+00, 0.000e+00,\n",
       "        0.000e+00, 0.000e+00, 2.000e+00, 1.000e+00, 2.000e+00, 0.000e+00,\n",
       "        0.000e+00, 0.000e+00, 0.000e+00, 0.000e+00, 0.000e+00, 0.000e+00,\n",
       "        0.000e+00, 1.000e+00, 0.000e+00, 0.000e+00, 0.000e+00, 0.000e+00,\n",
       "        1.000e+00, 0.000e+00, 0.000e+00, 0.000e+00, 1.000e+00, 0.000e+00,\n",
       "        0.000e+00, 1.000e+00, 0.000e+00, 2.000e+00]),\n",
       " array([-11.5132065 , -11.355068  , -11.19693   , -11.038793  ,\n",
       "        -10.880654  , -10.722516  , -10.564378  , -10.4062395 ,\n",
       "        -10.248102  , -10.089964  ,  -9.931826  ,  -9.773687  ,\n",
       "         -9.615549  ,  -9.457412  ,  -9.2992735 ,  -9.141135  ,\n",
       "         -8.982997  ,  -8.824859  ,  -8.666721  ,  -8.508583  ,\n",
       "         -8.350445  ,  -8.1923065 ,  -8.034168  ,  -7.8760304 ,\n",
       "         -7.717892  ,  -7.5597544 ,  -7.401616  ,  -7.2434783 ,\n",
       "         -7.08534   ,  -6.9272017 ,  -6.769064  ,  -6.6109257 ,\n",
       "         -6.4527874 ,  -6.2946496 ,  -6.1365113 ,  -5.9783735 ,\n",
       "         -5.8202353 ,  -5.662097  ,  -5.503959  ,  -5.345821  ,\n",
       "         -5.187683  ,  -5.029545  ,  -4.8714066 ,  -4.7132688 ,\n",
       "         -4.5551305 ,  -4.3969927 ,  -4.2388544 ,  -4.080716  ,\n",
       "         -3.922578  ,  -3.76444   ,  -3.606302  ,  -3.448164  ,\n",
       "         -3.290026  ,  -3.1318877 ,  -2.9737496 ,  -2.8156116 ,\n",
       "         -2.6574736 ,  -2.4993353 ,  -2.3411973 ,  -2.1830592 ,\n",
       "         -2.0249212 ,  -1.866783  ,  -1.708645  ,  -1.5505068 ,\n",
       "         -1.3923688 ,  -1.2342306 ,  -1.0760926 ,  -0.9179545 ,\n",
       "         -0.7598164 ,  -0.6016783 ,  -0.44354025,  -0.28540215,\n",
       "         -0.12726407,   0.03087403,   0.18901211,   0.3471502 ,\n",
       "          0.5052883 ,   0.6634264 ,   0.8215645 ,   0.9797026 ,\n",
       "          1.1378406 ,   1.2959788 ,   1.4541168 ,   1.612255  ,\n",
       "          1.770393  ,   1.928531  ,   2.0866692 ,   2.2448072 ,\n",
       "          2.4029453 ,   2.5610836 ,   2.7192216 ,   2.8773596 ,\n",
       "          3.0354977 ,   3.1936357 ,   3.351774  ,   3.509912  ,\n",
       "          3.66805   ,   3.826188  ,   3.9843264 ,   4.142464  ,\n",
       "          4.3006024 ], dtype=float32),\n",
       " <a list of 100 Patch objects>)"
      ]
     },
     "execution_count": 59,
     "metadata": {},
     "output_type": "execute_result"
    },
    {
     "data": {
      "image/png": "[encoded data removed]",
      "text/plain": [
       "<Figure size 432x288 with 1 Axes>"
      ]
     },
     "metadata": {
      "needs_background": "light"
     },
     "output_type": "display_data"
    }
   ],
   "source": [
    "plt.hist(-r_.log_prob(r_.rsample([10000])), bins=100)"
   ]
  },
  {
   "cell_type": "code",
   "execution_count": 52,
   "metadata": {},
   "outputs": [
    {
     "data": {
      "text/plain": [
       "1.6094379124341003"
      ]
     },
     "execution_count": 52,
     "metadata": {},
     "output_type": "execute_result"
    }
   ],
   "source": [
    "np.log(5)"
   ]
  },
  {
   "cell_type": "code",
   "execution_count": 50,
   "metadata": {},
   "outputs": [],
   "source": [
    "R = 10\n",
    "base_distribution = Normal(5., 1.)\n",
    "transforms = [SigmoidTransform(), AffineTransform(loc=0, scale=R)]\n",
    "r = TransformedDistribution(base_distribution, transforms)"
   ]
  },
  {
   "cell_type": "code",
   "execution_count": 24,
   "metadata": {},
   "outputs": [
    {
     "data": {
      "text/plain": [
       "tensor([5.])"
      ]
     },
     "execution_count": 24,
     "metadata": {},
     "output_type": "execute_result"
    }
   ],
   "source": [
    "torch.sigmoid(torch.tensor([0.]))*R"
   ]
  },
  {
   "cell_type": "code",
   "execution_count": 28,
   "metadata": {},
   "outputs": [
    {
     "data": {
      "image/png": "[encoded data removed]",
      "text/plain": [
       "<Figure size 432x288 with 1 Axes>"
      ]
     },
     "metadata": {
      "needs_background": "light"
     },
     "output_type": "display_data"
    }
   ],
   "source": [
    "#R_x = torch.randn(2).exp()\n",
    "R_x = torch.tensor([-0.1,1.5]).exp()\n",
    "R_samples = LogNormal(R_x[0], R_x[1]).rsample([10000])\n",
    "plt.hist(R_samples, bins=50)\n",
    "plt.show()"
   ]
  },
  {
   "cell_type": "code",
   "execution_count": null,
   "metadata": {},
   "outputs": [],
   "source": []
  },
  {
   "cell_type": "code",
   "execution_count": 13,
   "metadata": {},
   "outputs": [],
   "source": [
    "base_distribution = Normal(0, 1)\n",
    "transforms = [ExpTransform()]\n",
    "r = TransformedDistribution(base_distribution, transforms)\n",
    "pd = LogNormal(0, 1)"
   ]
  },
  {
   "cell_type": "code",
   "execution_count": 19,
   "metadata": {},
   "outputs": [
    {
     "name": "stdout",
     "output_type": "stream",
     "text": [
      "tensor([-1.2673, -0.6046, -2.2550])\n",
      "tensor([-1.2673, -0.6046, -2.2550])\n"
     ]
    }
   ],
   "source": [
    "print(r.log_prob(torch.tensor([0.1, 0.2, 2.5])))\n",
    "print(pd.log_prob(torch.tensor([0.1, 0.2, 2.5])))"
   ]
  },
  {
   "cell_type": "code",
   "execution_count": 8,
   "metadata": {},
   "outputs": [
    {
     "data": {
      "text/plain": [
       "tensor([-1561.5719])"
      ]
     },
     "execution_count": 8,
     "metadata": {},
     "output_type": "execute_result"
    }
   ],
   "source": [
    "r.log_prob(torch.tensor([0.1]))"
   ]
  },
  {
   "cell_type": "code",
   "execution_count": 44,
   "metadata": {},
   "outputs": [
    {
     "data": {
      "text/plain": [
       "tensor([0.1003, 4.9530])"
      ]
     },
     "execution_count": 44,
     "metadata": {},
     "output_type": "execute_result"
    }
   ],
   "source": [
    "torch.tensor([-2.3, 1.6]).exp()"
   ]
  },
  {
   "cell_type": "code",
   "execution_count": 45,
   "metadata": {},
   "outputs": [
    {
     "data": {
      "text/plain": [
       "tensor([ 0.0000, -1.6094])"
      ]
     },
     "execution_count": 45,
     "metadata": {},
     "output_type": "execute_result"
    }
   ],
   "source": [
    "torch.tensor([1,.2]).log()"
   ]
  },
  {
   "cell_type": "code",
   "execution_count": 31,
   "metadata": {},
   "outputs": [
    {
     "data": {
      "text/plain": [
       "tensor([-0.5000,  0.4000,  0.4000,  0.6000,  0.0000,  0.0000])"
      ]
     },
     "execution_count": 31,
     "metadata": {},
     "output_type": "execute_result"
    }
   ],
   "source": [
    "t.fmod(1.)"
   ]
  },
  {
   "cell_type": "code",
   "execution_count": 43,
   "metadata": {},
   "outputs": [
    {
     "data": {
      "image/png": "[encoded data removed]",
      "text/plain": [
       "<Figure size 432x288 with 1 Axes>"
      ]
     },
     "metadata": {
      "needs_background": "light"
     },
     "output_type": "display_data"
    }
   ],
   "source": [
    "sam = Normal(2., 2.).rsample([10000]).add(-np.pi).fmod(np.pi)\n",
    "plt.hist(sam, bins=50)\n",
    "plt.show()"
   ]
  },
  {
   "cell_type": "code",
   "execution_count": 45,
   "metadata": {},
   "outputs": [
    {
     "data": {
      "text/plain": [
       "1"
      ]
     },
     "execution_count": 45,
     "metadata": {},
     "output_type": "execute_result"
    }
   ],
   "source": [
    "-5%2"
   ]
  },
  {
   "cell_type": "code",
   "execution_count": 2,
   "metadata": {},
   "outputs": [
    {
     "ename": "Exception",
     "evalue": "Infinite loop!!!",
     "output_type": "error",
     "traceback": [
      "\u001b[0;31m---------------------------------------------------------------------------\u001b[0m",
      "\u001b[0;31mException\u001b[0m                                 Traceback (most recent call last)",
      "\u001b[0;32m<ipython-input-2-b4949076980e>\u001b[0m in \u001b[0;36m<module>\u001b[0;34m\u001b[0m\n\u001b[1;32m      3\u001b[0m     \u001b[0mloop_count\u001b[0m \u001b[0;34m+=\u001b[0m \u001b[0;36m1\u001b[0m\u001b[0;34m\u001b[0m\u001b[0m\n\u001b[1;32m      4\u001b[0m     \u001b[0;32mif\u001b[0m \u001b[0mloop_count\u001b[0m \u001b[0;34m>\u001b[0m \u001b[0;36m10000\u001b[0m\u001b[0;34m:\u001b[0m\u001b[0;34m\u001b[0m\u001b[0m\n\u001b[0;32m----> 5\u001b[0;31m         \u001b[0;32mraise\u001b[0m \u001b[0mException\u001b[0m\u001b[0;34m(\u001b[0m\u001b[0;34m'Infinite loop!!!'\u001b[0m\u001b[0;34m)\u001b[0m\u001b[0;34m\u001b[0m\u001b[0m\n\u001b[0m",
      "\u001b[0;31mException\u001b[0m: Infinite loop!!!"
     ]
    }
   ],
   "source": [
    "loop_count = 0\n",
    "while True:\n",
    "    loop_count += 1\n",
    "    if loop_count > 10000:\n",
    "        raise Exception('Infinite loop!!!')"
   ]
  },
  {
   "cell_type": "code",
   "execution_count": 19,
   "metadata": {},
   "outputs": [
    {
     "data": {
      "text/plain": [
       "False"
      ]
     },
     "execution_count": 19,
     "metadata": {},
     "output_type": "execute_result"
    }
   ],
   "source": [
    "bool((torch.tensor([1.,0,1])==2).sum())"
   ]
  },
  {
   "cell_type": "code",
   "execution_count": 20,
   "metadata": {},
   "outputs": [
    {
     "data": {
      "text/plain": [
       "-0.6931471805599453"
      ]
     },
     "execution_count": 20,
     "metadata": {},
     "output_type": "execute_result"
    }
   ],
   "source": [
    "np.log(0.5)"
   ]
  },
  {
   "cell_type": "code",
   "execution_count": 21,
   "metadata": {},
   "outputs": [
    {
     "name": "stderr",
     "output_type": "stream",
     "text": [
      "/home/mozzhorin/.local/lib/python3.5/site-packages/ipykernel_launcher.py:2: UserWarning: !!!!\n",
      "  \n"
     ]
    }
   ],
   "source": [
    "import warnings\n",
    "warnings.warn('!!!!')"
   ]
  },
  {
   "cell_type": "code",
   "execution_count": 24,
   "metadata": {},
   "outputs": [
    {
     "data": {
      "text/plain": [
       "tensor(2.1963)"
      ]
     },
     "execution_count": 24,
     "metadata": {},
     "output_type": "execute_result"
    }
   ],
   "source": [
    "from torch.distributions.kl import kl_divergence\n",
    "R_q = torch.tensor([0.5,-1.3]).exp()\n",
    "R_p = torch.tensor([0.,1.])\n",
    "kl_divergence(LogNormal(R_q[0], R_q[1]), LogNormal(R_p[0], R_p[1]))"
   ]
  },
  {
   "cell_type": "code",
   "execution_count": 25,
   "metadata": {},
   "outputs": [
    {
     "data": {
      "text/plain": [
       "tensor(23.2310)"
      ]
     },
     "execution_count": 25,
     "metadata": {},
     "output_type": "execute_result"
    }
   ],
   "source": [
    "kl_divergence(LogNormal(R_p[0], R_p[1]), LogNormal(R_q[0], R_q[1]))"
   ]
  },
  {
   "cell_type": "code",
   "execution_count": 35,
   "metadata": {},
   "outputs": [
    {
     "data": {
      "text/plain": [
       "tensor([ 0.2564,  8.7319, 17.9631,  2.1669,  3.1261,  5.3927, 33.5302, 48.5730,\n",
       "         7.7925,  5.2530,  2.0912,  0.6523, 39.8587,  2.8725, 32.9628,  0.3996,\n",
       "         7.1935,  5.2235,  4.4294,  2.5513])"
      ]
     },
     "execution_count": 35,
     "metadata": {},
     "output_type": "execute_result"
    }
   ],
   "source": [
    "LogNormal(torch.tensor(1.5), torch.tensor(1.5)).rsample([20]).squeeze(-1)"
   ]
  },
  {
   "cell_type": "code",
   "execution_count": null,
   "metadata": {},
   "outputs": [],
   "source": []
  }
 ],
 "metadata": {
  "kernelspec": {
   "display_name": "Python 3",
   "language": "python",
   "name": "python3"
  },
  "language_info": {
   "codemirror_mode": {
    "name": "ipython",
    "version": 3
   },
   "file_extension": ".py",
   "mimetype": "text/x-python",
   "name": "python",
   "nbconvert_exporter": "python",
   "pygments_lexer": "ipython3",
   "version": "3.7.3"
  }
 },
 "nbformat": 4,
 "nbformat_minor": 2
}
