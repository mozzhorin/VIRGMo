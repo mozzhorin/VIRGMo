{
 "cells": [
  {
   "cell_type": "code",
   "execution_count": 1,
   "metadata": {},
   "outputs": [],
   "source": [
    "import sys\n",
    "sys.path.append('../src/')\n",
    "from vi_hrg import *\n",
    "from utils import c2d, hyperdist, p_hd, polar2cart\n",
    "from torch.distributions.bernoulli import Bernoulli"
   ]
  },
  {
   "cell_type": "code",
   "execution_count": 2,
   "metadata": {},
   "outputs": [],
   "source": [
    "H = VI_HRG(20, 10)"
   ]
  },
  {
   "cell_type": "code",
   "execution_count": 3,
   "metadata": {},
   "outputs": [],
   "source": [
    "num_nodes = 20\n",
    "num_samples = 10\n",
    "batch = 3\n",
    "R_x = torch.tensor([1.,1.])\n",
    "R = LogNormal(R_x[0], R_x[1]).rsample([batch])"
   ]
  },
  {
   "cell_type": "code",
   "execution_count": 4,
   "metadata": {},
   "outputs": [],
   "source": [
    "T_x = torch.tensor([1.,1.]).exp()\n",
    "T= Beta(T_x[0], T_x[1]).rsample([batch])"
   ]
  },
  {
   "cell_type": "code",
   "execution_count": 5,
   "metadata": {},
   "outputs": [],
   "source": [
    "alpha_x = torch.tensor([1.,1.])\n",
    "alpha = LogNormal(alpha_x[0], alpha_x[1]).rsample([batch])"
   ]
  },
  {
   "cell_type": "code",
   "execution_count": 6,
   "metadata": {},
   "outputs": [],
   "source": [
    "edges = torch.tensor([1.,0.,1.])"
   ]
  },
  {
   "cell_type": "code",
   "execution_count": 7,
   "metadata": {},
   "outputs": [],
   "source": [
    "from torch.distributions.uniform import Uniform\n",
    "r_x_loc = Uniform(-1., 1.).rsample([num_nodes])\n",
    "r_x_scale = Uniform(0.2, 1.2).rsample([num_nodes])"
   ]
  },
  {
   "cell_type": "code",
   "execution_count": 8,
   "metadata": {},
   "outputs": [],
   "source": [
    "idx1, idx2 = torch.tensor([8, 12, 16]), torch.tensor([5, 3, 19])\n",
    "#idx1, idx2 = torch.tensor([8,12]), torch.tensor([5,3])"
   ]
  },
  {
   "cell_type": "code",
   "execution_count": 9,
   "metadata": {},
   "outputs": [],
   "source": [
    "r_i = Radius(r_x_loc[idx1], r_x_scale[idx1], R).rsample([num_samples])\n",
    "r_j = Radius(r_x_loc[idx2], r_x_scale[idx2], R).rsample([num_samples])"
   ]
  },
  {
   "cell_type": "code",
   "execution_count": 10,
   "metadata": {},
   "outputs": [
    {
     "data": {
      "text/plain": [
       "tensor([-0.4519,  0.5948, -0.7966,  0.8602, -0.0786,  0.1869,  0.5418,  0.0586,\n",
       "         0.0055,  0.5377,  0.0321, -0.9018,  0.3245,  0.9110,  0.4106, -0.1272,\n",
       "        -0.8668, -0.2763, -0.9732, -0.1890])"
      ]
     },
     "execution_count": 10,
     "metadata": {},
     "output_type": "execute_result"
    }
   ],
   "source": [
    "r_x_loc"
   ]
  },
  {
   "cell_type": "code",
   "execution_count": 11,
   "metadata": {},
   "outputs": [
    {
     "data": {
      "text/plain": [
       "tensor([[1.4368, 1.5255, 1.8346],\n",
       "        [1.1639, 1.0090, 1.3523],\n",
       "        [1.1344, 1.3734, 1.3576],\n",
       "        [1.6404, 1.6479, 2.0154],\n",
       "        [0.9645, 1.5604, 1.8320],\n",
       "        [1.2906, 1.3782, 1.8709],\n",
       "        [1.3274, 1.4009, 1.8464],\n",
       "        [1.1115, 1.4649, 2.4016],\n",
       "        [1.0052, 1.5124, 1.4161],\n",
       "        [0.9290, 1.2410, 1.9087]])"
      ]
     },
     "execution_count": 11,
     "metadata": {},
     "output_type": "execute_result"
    }
   ],
   "source": [
    "r_i"
   ]
  },
  {
   "cell_type": "code",
   "execution_count": 12,
   "metadata": {},
   "outputs": [],
   "source": [
    "phi_x_loc = Uniform(-2.,2.).rsample([num_nodes, 2])\n",
    "phi_x_scale = Uniform(0., 1.).rsample([num_nodes])"
   ]
  },
  {
   "cell_type": "code",
   "execution_count": 13,
   "metadata": {},
   "outputs": [
    {
     "data": {
      "text/plain": [
       "tensor([[0.2383],\n",
       "        [0.7597],\n",
       "        [0.6559]])"
      ]
     },
     "execution_count": 13,
     "metadata": {},
     "output_type": "execute_result"
    }
   ],
   "source": [
    "phi_x_scale[idx1].unsqueeze(dim=-1)"
   ]
  },
  {
   "cell_type": "code",
   "execution_count": 14,
   "metadata": {},
   "outputs": [],
   "source": [
    "phi_i = VonMisesFisher(phi_x_loc[idx1], phi_x_scale[idx1].unsqueeze(dim=-1)).rsample(num_samples)\n",
    "phi_j = VonMisesFisher(phi_x_loc[idx2], phi_x_scale[idx2].unsqueeze(dim=-1)).rsample(num_samples)"
   ]
  },
  {
   "cell_type": "code",
   "execution_count": 22,
   "metadata": {},
   "outputs": [
    {
     "data": {
      "text/plain": [
       "torch.Size([10, 3])"
      ]
     },
     "execution_count": 22,
     "metadata": {},
     "output_type": "execute_result"
    }
   ],
   "source": [
    "dist = hyperdist(r_i, r_j, c2d(phi_i), c2d(phi_j))\n",
    "dist.shape"
   ]
  },
  {
   "cell_type": "code",
   "execution_count": 16,
   "metadata": {},
   "outputs": [],
   "source": [
    "p_hd_ = lambda d,R,T: (1+((d-R)/(2*T)).exp()).reciprocal()"
   ]
  },
  {
   "cell_type": "code",
   "execution_count": 17,
   "metadata": {},
   "outputs": [],
   "source": [
    "E_log_p_dist = p_hd(r_i, r_j, c2d(phi_i), c2d(phi_j), R, T).log().mean(dim=0)\n",
    "E_log_p_dist_ = (1-p_hd(r_i, r_j, c2d(phi_i), c2d(phi_j), R, T)).log().mean(dim=0)"
   ]
  },
  {
   "cell_type": "code",
   "execution_count": 27,
   "metadata": {},
   "outputs": [
    {
     "data": {
      "text/plain": [
       "(tensor([-0.7466, -0.1888, -0.4627]), tensor([-0.7469, -2.2811, -1.0874]))"
      ]
     },
     "execution_count": 27,
     "metadata": {},
     "output_type": "execute_result"
    }
   ],
   "source": [
    "E_log_p_dist, E_log_p_dist_"
   ]
  },
  {
   "cell_type": "code",
   "execution_count": 28,
   "metadata": {},
   "outputs": [
    {
     "data": {
      "text/plain": [
       "tensor([-0.7466, -2.2811, -0.4627])"
      ]
     },
     "execution_count": 28,
     "metadata": {},
     "output_type": "execute_result"
    }
   ],
   "source": [
    "log_pA = edges*E_log_p_dist + (1.-edges)*E_log_p_dist_\n",
    "log_pA"
   ]
  },
  {
   "cell_type": "code",
   "execution_count": 31,
   "metadata": {},
   "outputs": [
    {
     "data": {
      "text/plain": [
       "tensor([-0.7466, -2.2811, -0.4627])"
      ]
     },
     "execution_count": 31,
     "metadata": {},
     "output_type": "execute_result"
    }
   ],
   "source": [
    "Bernoulli(p_hd_(dist, R, T)).log_prob(edges).mean(dim=0)"
   ]
  },
  {
   "cell_type": "code",
   "execution_count": null,
   "metadata": {},
   "outputs": [],
   "source": []
  },
  {
   "cell_type": "code",
   "execution_count": 44,
   "metadata": {},
   "outputs": [
    {
     "data": {
      "text/plain": [
       "tensor(13.8530)"
      ]
     },
     "execution_count": 44,
     "metadata": {},
     "output_type": "execute_result"
    }
   ],
   "source": [
    "(alpha*r_i).sinh().log().mean(dim=0).sum()"
   ]
  },
  {
   "cell_type": "code",
   "execution_count": 45,
   "metadata": {},
   "outputs": [
    {
     "data": {
      "text/plain": [
       "tensor(0.5053)"
      ]
     },
     "execution_count": 45,
     "metadata": {},
     "output_type": "execute_result"
    }
   ],
   "source": [
    "alpha.log().mean()"
   ]
  },
  {
   "cell_type": "code",
   "execution_count": 46,
   "metadata": {},
   "outputs": [
    {
     "data": {
      "text/plain": [
       "tensor(9.0174)"
      ]
     },
     "execution_count": 46,
     "metadata": {},
     "output_type": "execute_result"
    }
   ],
   "source": [
    "((alpha*R).cosh()-1).log().mean()"
   ]
  },
  {
   "cell_type": "code",
   "execution_count": 47,
   "metadata": {},
   "outputs": [
    {
     "data": {
      "text/plain": [
       "tensor(-2.4310)"
      ]
     },
     "execution_count": 47,
     "metadata": {},
     "output_type": "execute_result"
    }
   ],
   "source": [
    "Radius(r_x_loc[idx1], r_x_scale[idx1], R).log_prob(r_i).mean(dim=0).sum()"
   ]
  },
  {
   "cell_type": "code",
   "execution_count": 53,
   "metadata": {},
   "outputs": [
    {
     "data": {
      "text/plain": [
       "tensor(-5.3182)"
      ]
     },
     "execution_count": 53,
     "metadata": {},
     "output_type": "execute_result"
    }
   ],
   "source": [
    "VonMisesFisher(phi_x_loc[idx1], phi_x_scale[idx1].unsqueeze(dim=-1)).log_prob(phi_i).mean(dim=0).sum()"
   ]
  },
  {
   "cell_type": "markdown",
   "metadata": {},
   "source": [
    "# Testing"
   ]
  },
  {
   "cell_type": "code",
   "execution_count": 1,
   "metadata": {},
   "outputs": [],
   "source": [
    "import sys\n",
    "sys.path.append('../src/')\n",
    "from vi_hrg import *\n",
    "from utils import c2d, hyperdist, p_hd, polar2cart\n",
    "from torch import autograd"
   ]
  },
  {
   "cell_type": "code",
   "execution_count": 2,
   "metadata": {},
   "outputs": [],
   "source": [
    "def noise_r(x, R, rel_var=0.1):\n",
    "    rs = torch.distributions.normal.Normal(x, R*rel_var).sample() \n",
    "    return torch.where(rs>R, torch.ones(rs.size()).double()*R*0.999, rs)"
   ]
  },
  {
   "cell_type": "code",
   "execution_count": 3,
   "metadata": {},
   "outputs": [],
   "source": [
    "def noise_phi(x, rel_var=0.1):\n",
    "    phis = torch.distributions.normal.Normal(x, 2*np.pi*rel_var).sample()\n",
    "    return phis % (2*np.pi)"
   ]
  },
  {
   "cell_type": "code",
   "execution_count": 4,
   "metadata": {},
   "outputs": [
    {
     "data": {
      "image/png": "[encoded data removed]",
      "text/plain": [
       "<Figure size 432x432 with 2 Axes>"
      ]
     },
     "metadata": {
      "needs_background": "light"
     },
     "output_type": "display_data"
    }
   ],
   "source": [
    "N = 75\n",
    "G = HRG(R=torch.tensor([5.0]).double(),\n",
    "            alpha=1.1,\n",
    "            T=0.1)\n",
    "r, theta, A = G.generate(N)\n",
    "G.show()\n",
    "#G.plot()"
   ]
  },
  {
   "cell_type": "code",
   "execution_count": 5,
   "metadata": {},
   "outputs": [
    {
     "data": {
      "text/plain": [
       "torch.Size([75, 3])"
      ]
     },
     "execution_count": 5,
     "metadata": {},
     "output_type": "execute_result"
    }
   ],
   "source": [
    "r_init = torch.stack((r, torch.rand([N]).double()), dim=-1)\n",
    "phi_loc_init = torch.cat((polar2cart(1, noise_phi(theta, 0.02)),  torch.rand([N,1]).double()), dim=-1)\n",
    "phi_loc_init.shape"
   ]
  },
  {
   "cell_type": "code",
   "execution_count": 6,
   "metadata": {},
   "outputs": [],
   "source": [
    "dataloader = DataLoader(EdgesDataset(A), batch_size=64, shuffle=True, num_workers=0)\n",
    "vi = VI_HRG(75,20, init_values={'rs':r_init, \n",
    "                              'phis_loc':phi_loc_init,\n",
    "                              'phis_scale':None, \n",
    "                              'R':torch.tensor([0.5,-1.3]).double(), \n",
    "                              'T':torch.tensor([-2.3, 1.6]).double(),\n",
    "                              'alpha':torch.tensor([0.1,-1.5]).double()})\n",
    "vi.dataloader = dataloader\n",
    "vi.optimizer = torch.optim.RMSprop(vi.parameters())"
   ]
  },
  {
   "cell_type": "code",
   "execution_count": 7,
   "metadata": {},
   "outputs": [
    {
     "name": "stdout",
     "output_type": "stream",
     "text": [
      "True\n"
     ]
    },
    {
     "ename": "RuntimeError",
     "evalue": "Function 'ExpBackward' returned nan values in its 0th output.",
     "output_type": "error",
     "traceback": [
      "\u001b[0;31m---------------------------------------------------------------------------\u001b[0m",
      "\u001b[0;31mRuntimeError\u001b[0m                              Traceback (most recent call last)",
      "\u001b[0;32m<ipython-input-7-d689d1343374>\u001b[0m in \u001b[0;36m<module>\u001b[0;34m\u001b[0m\n\u001b[1;32m      5\u001b[0m         \u001b[0mloss\u001b[0m \u001b[0;34m=\u001b[0m \u001b[0;34m-\u001b[0m \u001b[0mvi\u001b[0m\u001b[0;34m.\u001b[0m\u001b[0melbo\u001b[0m\u001b[0;34m(\u001b[0m\u001b[0midx1\u001b[0m\u001b[0;34m,\u001b[0m \u001b[0midx2\u001b[0m\u001b[0;34m,\u001b[0m \u001b[0mdata\u001b[0m\u001b[0;34m)\u001b[0m\u001b[0;34m\u001b[0m\u001b[0m\n\u001b[1;32m      6\u001b[0m         \u001b[0mvi\u001b[0m\u001b[0;34m.\u001b[0m\u001b[0moptimizer\u001b[0m\u001b[0;34m.\u001b[0m\u001b[0mzero_grad\u001b[0m\u001b[0;34m(\u001b[0m\u001b[0;34m)\u001b[0m\u001b[0;34m\u001b[0m\u001b[0m\n\u001b[0;32m----> 7\u001b[0;31m         \u001b[0mloss\u001b[0m\u001b[0;34m.\u001b[0m\u001b[0mbackward\u001b[0m\u001b[0;34m(\u001b[0m\u001b[0;34m)\u001b[0m\u001b[0;34m\u001b[0m\u001b[0m\n\u001b[0m\u001b[1;32m      8\u001b[0m         \u001b[0mvi\u001b[0m\u001b[0;34m.\u001b[0m\u001b[0moptimizer\u001b[0m\u001b[0;34m.\u001b[0m\u001b[0mstep\u001b[0m\u001b[0;34m(\u001b[0m\u001b[0;34m)\u001b[0m\u001b[0;34m\u001b[0m\u001b[0m\n\u001b[1;32m      9\u001b[0m         \u001b[0mprint\u001b[0m\u001b[0;34m(\u001b[0m\u001b[0;34m'>>>>'\u001b[0m\u001b[0;34m,\u001b[0m \u001b[0mloss\u001b[0m\u001b[0;34m)\u001b[0m\u001b[0;34m\u001b[0m\u001b[0m\n",
      "\u001b[0;32m~/.local/lib/python3.5/site-packages/torch/tensor.py\u001b[0m in \u001b[0;36mbackward\u001b[0;34m(self, gradient, retain_graph, create_graph)\u001b[0m\n\u001b[1;32m    193\u001b[0m                 \u001b[0mproducts\u001b[0m\u001b[0;34m.\u001b[0m \u001b[0mDefaults\u001b[0m \u001b[0mto\u001b[0m\u001b[0;31m \u001b[0m\u001b[0;31m`\u001b[0m\u001b[0;31m`\u001b[0m\u001b[0;32mFalse\u001b[0m\u001b[0;31m`\u001b[0m\u001b[0;31m`\u001b[0m\u001b[0;34m.\u001b[0m\u001b[0;34m\u001b[0m\u001b[0m\n\u001b[1;32m    194\u001b[0m         \"\"\"\n\u001b[0;32m--> 195\u001b[0;31m         \u001b[0mtorch\u001b[0m\u001b[0;34m.\u001b[0m\u001b[0mautograd\u001b[0m\u001b[0;34m.\u001b[0m\u001b[0mbackward\u001b[0m\u001b[0;34m(\u001b[0m\u001b[0mself\u001b[0m\u001b[0;34m,\u001b[0m \u001b[0mgradient\u001b[0m\u001b[0;34m,\u001b[0m \u001b[0mretain_graph\u001b[0m\u001b[0;34m,\u001b[0m \u001b[0mcreate_graph\u001b[0m\u001b[0;34m)\u001b[0m\u001b[0;34m\u001b[0m\u001b[0m\n\u001b[0m\u001b[1;32m    196\u001b[0m \u001b[0;34m\u001b[0m\u001b[0m\n\u001b[1;32m    197\u001b[0m     \u001b[0;32mdef\u001b[0m \u001b[0mregister_hook\u001b[0m\u001b[0;34m(\u001b[0m\u001b[0mself\u001b[0m\u001b[0;34m,\u001b[0m \u001b[0mhook\u001b[0m\u001b[0;34m)\u001b[0m\u001b[0;34m:\u001b[0m\u001b[0;34m\u001b[0m\u001b[0m\n",
      "\u001b[0;32m~/.local/lib/python3.5/site-packages/torch/autograd/__init__.py\u001b[0m in \u001b[0;36mbackward\u001b[0;34m(tensors, grad_tensors, retain_graph, create_graph, grad_variables)\u001b[0m\n\u001b[1;32m     97\u001b[0m     Variable._execution_engine.run_backward(\n\u001b[1;32m     98\u001b[0m         \u001b[0mtensors\u001b[0m\u001b[0;34m,\u001b[0m \u001b[0mgrad_tensors\u001b[0m\u001b[0;34m,\u001b[0m \u001b[0mretain_graph\u001b[0m\u001b[0;34m,\u001b[0m \u001b[0mcreate_graph\u001b[0m\u001b[0;34m,\u001b[0m\u001b[0;34m\u001b[0m\u001b[0m\n\u001b[0;32m---> 99\u001b[0;31m         allow_unreachable=True)  # allow_unreachable flag\n\u001b[0m\u001b[1;32m    100\u001b[0m \u001b[0;34m\u001b[0m\u001b[0m\n\u001b[1;32m    101\u001b[0m \u001b[0;34m\u001b[0m\u001b[0m\n",
      "\u001b[0;31mRuntimeError\u001b[0m: Function 'ExpBackward' returned nan values in its 0th output."
     ]
    }
   ],
   "source": [
    "total_loss = 0\n",
    "with autograd.detect_anomaly():\n",
    "    print(torch.is_anomaly_enabled())\n",
    "    for idx1, idx2, data in dataloader:\n",
    "        loss = - vi.elbo(idx1, idx2, data)\n",
    "        vi.optimizer.zero_grad()\n",
    "        loss.backward()\n",
    "        vi.optimizer.step()\n",
    "        print('>>>>', loss)\n",
    "        total_loss += loss"
   ]
  },
  {
   "cell_type": "code",
   "execution_count": null,
   "metadata": {},
   "outputs": [],
   "source": [
    "total_loss"
   ]
  },
  {
   "cell_type": "code",
   "execution_count": 11,
   "metadata": {},
   "outputs": [
    {
     "data": {
      "text/plain": [
       "tensor([1., 1., 1., 1., 1., 1., 1., 1., 1., 1.], dtype=torch.float64)"
      ]
     },
     "execution_count": 11,
     "metadata": {},
     "output_type": "execute_result"
    }
   ],
   "source": [
    "#import torch\n",
    "#dt = torch.float64\n",
    "torch.ones([10]).to(f64)"
   ]
  },
  {
   "cell_type": "code",
   "execution_count": 10,
   "metadata": {},
   "outputs": [],
   "source": [
    "from torch import float64 as f64"
   ]
  },
  {
   "cell_type": "code",
   "execution_count": 8,
   "metadata": {},
   "outputs": [
    {
     "data": {
      "text/plain": [
       "torch.Size([10, 12])"
      ]
     },
     "execution_count": 8,
     "metadata": {},
     "output_type": "execute_result"
    }
   ],
   "source": [
    "a = torch.ones([10,12,3])\n",
    "a.select(-1,0).shape"
   ]
  },
  {
   "cell_type": "code",
   "execution_count": 12,
   "metadata": {},
   "outputs": [
    {
     "data": {
      "text/plain": [
       "'1.4.0'"
      ]
     },
     "execution_count": 12,
     "metadata": {},
     "output_type": "execute_result"
    }
   ],
   "source": [
    "torch.__version__"
   ]
  },
  {
   "cell_type": "code",
   "execution_count": 8,
   "metadata": {},
   "outputs": [
    {
     "data": {
      "text/plain": [
       "tensor([[0.6734, 0.0017, 0.9958, 0.2378, 0.4747],\n",
       "        [0.9169, 0.2611, 0.4543, 0.1213, 0.5338],\n",
       "        [0.6214, 0.7093, 0.3063, 0.1091, 0.9549],\n",
       "        [0.3568, 0.2072, 0.2858, 0.8559, 0.5453],\n",
       "        [0.3146, 0.4877, 0.6244, 0.9430, 0.0779],\n",
       "        [0.3158, 0.2597, 0.1527, 0.7620, 0.8136],\n",
       "        [0.0155, 0.5623, 0.2989, 0.9388, 0.6620],\n",
       "        [0.9988, 0.1019, 0.4559, 0.0680, 0.3892],\n",
       "        [0.1888, 0.1531, 0.8277, 0.4921, 0.8323],\n",
       "        [0.2748, 0.3178, 0.7365, 0.5047, 0.7009]])"
      ]
     },
     "execution_count": 8,
     "metadata": {},
     "output_type": "execute_result"
    }
   ],
   "source": [
    "a = torch.rand([10,5])\n",
    "a"
   ]
  },
  {
   "cell_type": "code",
   "execution_count": 11,
   "metadata": {},
   "outputs": [],
   "source": [
    "b = torch.arange(5)"
   ]
  },
  {
   "cell_type": "code",
   "execution_count": 12,
   "metadata": {},
   "outputs": [
    {
     "data": {
      "text/plain": [
       "tensor([[0.0000e+00, 1.6751e-03, 1.9916e+00, 7.1339e-01, 1.8987e+00],\n",
       "        [0.0000e+00, 2.6106e-01, 9.0856e-01, 3.6383e-01, 2.1350e+00],\n",
       "        [0.0000e+00, 7.0928e-01, 6.1263e-01, 3.2728e-01, 3.8197e+00],\n",
       "        [0.0000e+00, 2.0719e-01, 5.7161e-01, 2.5676e+00, 2.1813e+00],\n",
       "        [0.0000e+00, 4.8774e-01, 1.2488e+00, 2.8290e+00, 3.1172e-01],\n",
       "        [0.0000e+00, 2.5968e-01, 3.0545e-01, 2.2859e+00, 3.2542e+00],\n",
       "        [0.0000e+00, 5.6234e-01, 5.9778e-01, 2.8164e+00, 2.6479e+00],\n",
       "        [0.0000e+00, 1.0189e-01, 9.1171e-01, 2.0414e-01, 1.5569e+00],\n",
       "        [0.0000e+00, 1.5307e-01, 1.6554e+00, 1.4764e+00, 3.3292e+00],\n",
       "        [0.0000e+00, 3.1784e-01, 1.4729e+00, 1.5142e+00, 2.8037e+00]])"
      ]
     },
     "execution_count": 12,
     "metadata": {},
     "output_type": "execute_result"
    }
   ],
   "source": [
    "a*b"
   ]
  },
  {
   "cell_type": "code",
   "execution_count": 9,
   "metadata": {},
   "outputs": [
    {
     "data": {
      "text/plain": [
       "tensor([2.8883, 2.9990, 2.9990, 2.9990, 2.9990, 2.9990, 2.9990, 2.9990, 2.9990,\n",
       "        0.5574, 2.9990, 2.9990, 2.9990, 2.6082, 2.9990, 2.9990, 2.9990, 2.9990,\n",
       "        2.9990, 2.9990, 2.4347, 2.9990, 2.9990, 2.9990, 2.0568, 2.9990, 2.9990,\n",
       "        1.8514, 2.9990, 2.9990, 2.9990, 1.4930, 2.9990, 2.9990, 1.8284, 2.9990,\n",
       "        2.9866, 2.9990, 2.9990, 2.9990, 2.9990, 2.9990, 2.9990, 2.9990, 2.9990,\n",
       "        2.9990, 2.9990, 2.9990, 0.5375, 2.9990, 2.9990, 2.9990, 2.9990, 2.9990,\n",
       "        2.9990, 2.9990, 1.7859, 2.9990, 2.9990, 2.9990, 2.9990, 2.9990, 2.9990,\n",
       "        2.9990, 2.9990, 2.9990, 2.9990, 2.9990, 2.9990, 2.9990, 2.9990, 2.9990,\n",
       "        2.9990, 2.9990, 2.9990], dtype=torch.float64)"
      ]
     },
     "execution_count": 9,
     "metadata": {},
     "output_type": "execute_result"
    }
   ],
   "source": [
    "torch.min(r, torch.ones_like(r)*3.-1e-3)"
   ]
  },
  {
   "cell_type": "code",
   "execution_count": 12,
   "metadata": {},
   "outputs": [
    {
     "data": {
      "text/plain": [
       "inf"
      ]
     },
     "execution_count": 12,
     "metadata": {},
     "output_type": "execute_result"
    }
   ],
   "source": [
    "np.log(np.inf)"
   ]
  },
  {
   "cell_type": "code",
   "execution_count": 9,
   "metadata": {},
   "outputs": [
    {
     "data": {
      "text/plain": [
       "tensor([inf])"
      ]
     },
     "execution_count": 9,
     "metadata": {},
     "output_type": "execute_result"
    }
   ],
   "source": [
    "torch.tensor([150.]).sinh()"
   ]
  },
  {
   "cell_type": "code",
   "execution_count": 8,
   "metadata": {},
   "outputs": [
    {
     "data": {
      "text/plain": [
       "tensor([4.0195, 4.6416, 4.5959, 4.2470, 3.7882, 1.6247, 4.0990, 4.0164, 3.9044,\n",
       "        3.2931, 4.7525, 4.3722, 4.6446, 4.7307, 4.4867, 1.6073, 4.0229, 4.4086,\n",
       "        4.3601, 4.2768, 3.6343, 3.2545, 4.9198, 4.8864, 4.1835, 3.3329, 4.1053,\n",
       "        3.2045, 4.6782, 4.9149, 1.6893, 1.4627, 4.8743, 4.6637, 2.8160, 4.6776,\n",
       "        4.8574, 2.7820, 2.8002, 4.9979, 4.4138, 3.7937, 4.2739, 4.1103, 4.7860,\n",
       "        4.1406, 4.0478, 4.9866, 4.6020, 2.0940, 4.4668, 4.3581, 3.4521, 2.7487,\n",
       "        4.0555, 4.6418, 3.6442, 4.4835, 3.8816, 4.0498, 2.7114, 4.7740, 4.4235,\n",
       "        4.1105, 3.8298, 4.4490, 4.3148, 4.8179, 4.6985, 3.2842, 4.9939, 4.9189,\n",
       "        4.8286, 3.6159, 3.9963], dtype=torch.float64)"
      ]
     },
     "execution_count": 8,
     "metadata": {},
     "output_type": "execute_result"
    }
   ],
   "source": [
    "r"
   ]
  },
  {
   "cell_type": "code",
   "execution_count": null,
   "metadata": {},
   "outputs": [],
   "source": []
  }
 ],
 "metadata": {
  "kernelspec": {
   "display_name": "Python 3",
   "language": "python",
   "name": "python3"
  },
  "language_info": {
   "codemirror_mode": {
    "name": "ipython",
    "version": 3
   },
   "file_extension": ".py",
   "mimetype": "text/x-python",
   "name": "python",
   "nbconvert_exporter": "python",
   "pygments_lexer": "ipython3",
   "version": "3.5.2"
  }
 },
 "nbformat": 4,
 "nbformat_minor": 2
}
