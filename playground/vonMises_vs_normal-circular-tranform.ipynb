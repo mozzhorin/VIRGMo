{
 "cells": [
  {
   "cell_type": "code",
   "execution_count": 1,
   "metadata": {},
   "outputs": [],
   "source": [
    "import sys\n",
    "sys.path.append('../src/')\n",
    "from vi_hrg import *\n",
    "from utils import c2d, hyperdist, p_hd, polar2cart\n",
    "from distributions.von_mises_fisher import VonMisesFisher"
   ]
  },
  {
   "cell_type": "code",
   "execution_count": 2,
   "metadata": {},
   "outputs": [],
   "source": [
    "import torch\n",
    "import numpy as np\n",
    "import matplotlib.pyplot as plt"
   ]
  },
  {
   "cell_type": "code",
   "execution_count": 3,
   "metadata": {},
   "outputs": [],
   "source": [
    "loc = torch.tensor([0.,0.])\n",
    "scale = torch.tensor([0.1])\n",
    "dist = svae.VonMisesFisher(loc, scale)\n",
    "samples = dist.rsample(10000)"
   ]
  },
  {
   "cell_type": "code",
   "execution_count": 4,
   "metadata": {},
   "outputs": [
    {
     "data": {
      "image/png": "[encoded data removed]",
      "text/plain": [
       "<Figure size 432x288 with 1 Axes>"
      ]
     },
     "metadata": {
      "needs_background": "light"
     },
     "output_type": "display_data"
    }
   ],
   "source": [
    "alpha = 0.7\n",
    "bins=50\n",
    "plt.hist(samples[:,0], alpha=alpha, bins=bins)\n",
    "plt.hist(samples[:,1], alpha=alpha, bins=bins)\n",
    "plt.show()"
   ]
  },
  {
   "cell_type": "code",
   "execution_count": 5,
   "metadata": {},
   "outputs": [
    {
     "data": {
      "image/png": "[encoded data removed]",
      "text/plain": [
       "<Figure size 432x288 with 1 Axes>"
      ]
     },
     "metadata": {
      "needs_background": "light"
     },
     "output_type": "display_data"
    }
   ],
   "source": [
    "plt.hist(samples[:,1], alpha=alpha, bins=bins)\n",
    "plt.show()"
   ]
  },
  {
   "cell_type": "code",
   "execution_count": 6,
   "metadata": {},
   "outputs": [],
   "source": [
    "from torch.distributions.normal import Normal"
   ]
  },
  {
   "cell_type": "code",
   "execution_count": 11,
   "metadata": {},
   "outputs": [],
   "source": [
    "loc = torch.tensor([-np.pi*1.5])\n",
    "scale = torch.tensor([1.5])\n",
    "norm = Normal(loc=loc, scale=scale)\n",
    "circle_transform = lambda m,x: (x)%(2*np.pi) \n",
    "phi = circle_transform(loc,norm.rsample([10000]))"
   ]
  },
  {
   "cell_type": "code",
   "execution_count": 12,
   "metadata": {},
   "outputs": [
    {
     "data": {
      "image/png": "[encoded data removed]",
      "text/plain": [
       "<Figure size 432x288 with 1 Axes>"
      ]
     },
     "metadata": {
      "needs_background": "light"
     },
     "output_type": "display_data"
    }
   ],
   "source": [
    "alpha = 0.7\n",
    "bins=70\n",
    "plt.hist(phi.flatten(), alpha=alpha, bins=bins)\n",
    "plt.show()"
   ]
  },
  {
   "cell_type": "code",
   "execution_count": 37,
   "metadata": {},
   "outputs": [],
   "source": [
    "import math\n",
    "import torch\n",
    "from torch.distributions.kl import register_kl\n",
    "\n",
    "#from hyperspherical_vae.ops.ive import ive\n",
    "#from hyperspherical_vae.distributions.hyperspherical_uniform import HypersphericalUniform\n",
    "\n",
    "\n",
    "class VonMisesFisher(torch.distributions.Distribution):\n",
    "\n",
    "    arg_constraints = {'loc': torch.distributions.constraints.real,\n",
    "                       'scale': torch.distributions.constraints.positive}\n",
    "    support = torch.distributions.constraints.real\n",
    "    has_rsample = True\n",
    "    _mean_carrier_measure = 0\n",
    "\n",
    "    @property\n",
    "    def mean(self):\n",
    "        return self.loc * (ive(self.__m / 2, self.scale) / ive(self.__m / 2 - 1, self.scale))\n",
    "\n",
    "    @property\n",
    "    def stddev(self):\n",
    "        return self.scale\n",
    "\n",
    "    def __init__(self, loc, scale, validate_args=None):\n",
    "        self.dtype = loc.dtype\n",
    "        self.loc = loc\n",
    "        self.scale = scale\n",
    "        self.device = loc.device\n",
    "        self.__m = loc.shape[-1]\n",
    "        self.__e1 = (torch.Tensor([1.] + [0] * (loc.shape[-1] - 1))).to(self.device)\n",
    "\n",
    "        super(VonMisesFisher, self).__init__(self.loc.size(), validate_args=validate_args)\n",
    "\n",
    "    def sample(self, shape=torch.Size()):\n",
    "        with torch.no_grad():\n",
    "            return self.rsample(shape)\n",
    "\n",
    "    def rsample(self, shape=torch.Size()):\n",
    "        shape = shape if isinstance(shape, torch.Size) else torch.Size([shape])\n",
    "\n",
    "        w = self.__sample_w3(shape=shape) if self.__m == 3 else self.__sample_w_rej(shape=shape)\n",
    "\n",
    "        v = (torch.distributions.Normal(0, 1).sample(\n",
    "            shape + torch.Size(self.loc.shape)).to(self.device).transpose(0, -1)[1:]).transpose(0, -1)\n",
    "        v = v / v.norm(dim=-1, keepdim=True)\n",
    "\n",
    "        w_ = torch.sqrt(torch.clamp(1 - (w ** 2), 1e-10))\n",
    "        x = torch.cat((w, w_ * v), -1)\n",
    "        z = self.__householder_rotation(x)\n",
    "\n",
    "        return z.type(self.dtype) # no rotation\n",
    "\n",
    "    def __sample_w3(self, shape):\n",
    "        shape = shape + torch.Size(self.scale.shape)\n",
    "        u = torch.distributions.Uniform(0, 1).sample(shape).to(self.device)\n",
    "        self.__w = 1 + torch.stack([torch.log(u), torch.log(1 - u) - 2 * self.scale], dim=0).logsumexp(0) / self.scale\n",
    "        return self.__w\n",
    "\n",
    "    def __sample_w_rej(self, shape):\n",
    "        c = torch.sqrt((4 * (self.scale ** 2)) + (self.__m - 1) ** 2)\n",
    "        b_true = (-2 * self.scale + c) / (self.__m - 1)\n",
    "\n",
    "        # using Taylor approximation with a smooth swift from 10 < scale < 11\n",
    "        # to avoid numerical errors for large scale\n",
    "        b_app = (self.__m - 1) / (4 * self.scale)\n",
    "        s = torch.min(torch.max(torch.tensor([0.], device=self.device),\n",
    "                                self.scale - 10), torch.tensor([1.], device=self.device))\n",
    "        b = b_app * s + b_true * (1 - s)\n",
    "\n",
    "        a = (self.__m - 1 + 2 * self.scale + c) / 4\n",
    "        d = (4 * a * b) / (1 + b) - (self.__m - 1) * math.log(self.__m - 1)\n",
    "\n",
    "        self.__b, (self.__e, self.__w) = b, self.__while_loop(b, a, d, shape)\n",
    "        return self.__w\n",
    "\n",
    "    def __while_loop(self, b, a, d, shape):\n",
    "\n",
    "        b, a, d = [e.repeat(*shape, *([1] * len(self.scale.shape))) for e in (b, a, d)]\n",
    "        w, e, bool_mask = torch.zeros_like(b).to(self.device), torch.zeros_like(\n",
    "            b).to(self.device), (torch.ones_like(b) == 1).to(self.device)\n",
    "\n",
    "        shape = shape + torch.Size(self.scale.shape)\n",
    "\n",
    "        while bool_mask.sum() != 0:\n",
    "            e_ = torch.distributions.Beta((self.__m - 1) / 2, (self.__m - 1) /\n",
    "                                          2).sample(shape[:-1]).reshape(shape).to(self.device)\n",
    "            u = torch.distributions.Uniform(0, 1).sample(shape).to(self.device)\n",
    "\n",
    "            w_ = (1 - (1 + b) * e_) / (1 - (1 - b) * e_)\n",
    "            t = (2 * a * b) / (1 - (1 - b) * e_)\n",
    "\n",
    "            accept = ((self.__m - 1) * t.log() - t + d) > torch.log(u)\n",
    "            reject = ~accept if torch.__version__ >= \"1.2.0\" else 1 - accept\n",
    "\n",
    "            w[bool_mask * accept] = w_[bool_mask * accept]\n",
    "            e[bool_mask * accept] = e_[bool_mask * accept]\n",
    "\n",
    "            bool_mask[bool_mask * accept] = reject[bool_mask * accept]\n",
    "\n",
    "        return e, w\n",
    "\n",
    "    def __householder_rotation(self, x):\n",
    "        u = (self.__e1 - self.loc)\n",
    "        u = u / (u.norm(dim=-1, keepdim=True) + 1e-5)\n",
    "        z = x - 2 * (x * u).sum(-1, keepdim=True) * u\n",
    "        return z\n",
    "\n",
    "    def entropy(self):\n",
    "        output = - self.scale * ive(self.__m / 2, self.scale) / ive((self.__m / 2) - 1, self.scale)\n",
    "\n",
    "        return output.view(*(output.shape[:-1])) + self._log_normalization()\n",
    "\n",
    "    def log_prob(self, x):\n",
    "        return self._log_unnormalized_prob(x) - self._log_normalization()\n",
    "\n",
    "    def _log_unnormalized_prob(self, x):\n",
    "        output = self.scale * (self.loc * x).sum(-1, keepdim=True)\n",
    "        print(output)\n",
    "        return output.view(*(output.shape[:-1]))\n",
    "\n",
    "    def _log_normalization(self):\n",
    "        output = - ((self.__m / 2 - 1) * torch.log(self.scale) - (self.__m / 2) * math.log(2 * math.pi) - (\n",
    "            self.scale + torch.log(ive(self.__m / 2 - 1, self.scale))))\n",
    "        print(output)\n",
    "        return output.view(*(output.shape[:-1]))\n",
    "\n",
    "\n",
    "#@register_kl(VonMisesFisher, HypersphericalUniform)\n",
    "#def _kl_vmf_uniform(vmf, hyu):\n",
    "#    return - vmf.entropy() + hyu.entropy()\n",
    "\n",
    "import numpy as np\n",
    "import scipy.special\n",
    "from numbers import Number\n",
    "\n",
    "class IveFunction(torch.autograd.Function):\n",
    "\n",
    "    @staticmethod\n",
    "    def forward(self, v, z):\n",
    "        \n",
    "        assert isinstance(v, Number), 'v must be a scalar'\n",
    "        \n",
    "        self.save_for_backward(z)\n",
    "        self.v = v\n",
    "        z_cpu = z.data.cpu().numpy()\n",
    "        \n",
    "        if np.isclose(v, 0):\n",
    "            output = scipy.special.i0e(z_cpu, dtype=z_cpu.dtype)\n",
    "        elif np.isclose(v, 1):\n",
    "            output = scipy.special.i1e(z_cpu, dtype=z_cpu.dtype)\n",
    "        else: #  v > 0\n",
    "            output = scipy.special.ive(v, z_cpu, dtype=z_cpu.dtype)\n",
    "#         else:\n",
    "#             print(v, type(v), np.isclose(v, 0))\n",
    "#             raise RuntimeError('v must be >= 0, it is {}'.format(v))\n",
    "        \n",
    "        return torch.Tensor(output).to(z.device)\n",
    "\n",
    "    @staticmethod\n",
    "    def backward(self, grad_output):\n",
    "        z = self.saved_tensors[-1]\n",
    "        return None, grad_output * (ive(self.v - 1, z) - ive(self.v, z) * (self.v + z) / z)\n",
    "\n",
    "class Ive(torch.nn.Module):\n",
    "    \n",
    "    def __init__(self, v):\n",
    "        super(Ive, self).__init__()\n",
    "        self.v = v\n",
    "        \n",
    "    def forward(self, z):\n",
    "        return ive(self.v, z)\n",
    "\n",
    "ive = IveFunction.apply"
   ]
  },
  {
   "cell_type": "code",
   "execution_count": 5,
   "metadata": {},
   "outputs": [],
   "source": [
    "def cart2polar(x, y):\n",
    "    \"\"\"\n",
    "    Transform Cartesian coordinates to polar.\n",
    "    Parameters\n",
    "    ----------\n",
    "    x, y : floats or arrays\n",
    "        Cartesian coordinates\n",
    "    Returns\n",
    "    -------\n",
    "    r, theta : floats or arrays\n",
    "        Polar coordinates\n",
    "    \"\"\"\n",
    "    r = torch.sqrt(x**2 + y**2)\n",
    "    theta = torch.atan2(y,x)  # θ referenced to vertical\n",
    "    return r, theta\n",
    "\n",
    "def p2c(r, phi):\n",
    "    return torch.stack((r * phi.cos(), r * phi.sin()), dim=-1).squeeze()"
   ]
  },
  {
   "cell_type": "code",
   "execution_count": 14,
   "metadata": {},
   "outputs": [
    {
     "data": {
      "image/png": "[encoded data removed]",
      "text/plain": [
       "<Figure size 432x288 with 1 Axes>"
      ]
     },
     "metadata": {
      "needs_background": "light"
     },
     "output_type": "display_data"
    }
   ],
   "source": [
    "loc = torch.tensor([1., 1., 0.])\n",
    "loc_r, loc_phi = torch.tensor([1.]), torch.tensor([np.pi])\n",
    "scale = torch.tensor([2.])\n",
    "dist = VonMisesFisher(p2c(loc_r, loc_phi), scale)\n",
    "samples = dist.rsample(1000)\n",
    "alpha = 0.7\n",
    "bins=50\n",
    "r, theta = cart2polar(samples[:,0], samples[:,1])\n",
    "plt.hist(theta, alpha=alpha, bins=bins)\n",
    "#plt.hist(samples[:,1], alpha=alpha, bins=bins)\n",
    "#plt.hist(samples[:,2], alpha=alpha, bins=bins)\n",
    "plt.show()"
   ]
  },
  {
   "cell_type": "code",
   "execution_count": 11,
   "metadata": {},
   "outputs": [
    {
     "data": {
      "image/png": "[encoded data removed]",
      "text/plain": [
       "<Figure size 576x576 with 1 Axes>"
      ]
     },
     "metadata": {
      "needs_background": "light"
     },
     "output_type": "display_data"
    }
   ],
   "source": [
    "fig = plt.figure(figsize=(8, 8))\n",
    "plt.scatter(samples[:,0], samples[:,1], alpha=0.1)\n",
    "plt.show()"
   ]
  },
  {
   "cell_type": "code",
   "execution_count": 40,
   "metadata": {},
   "outputs": [
    {
     "data": {
      "text/plain": [
       "tensor([-1.0000e+00, -8.7423e-08])"
      ]
     },
     "execution_count": 40,
     "metadata": {},
     "output_type": "execute_result"
    }
   ],
   "source": [
    "p2c(loc_r, loc_phi)"
   ]
  },
  {
   "cell_type": "code",
   "execution_count": 48,
   "metadata": {},
   "outputs": [
    {
     "data": {
      "text/plain": [
       "tensor([[-0.1617,  0.9868],\n",
       "        [-0.5290, -0.8486],\n",
       "        [-0.9351, -0.3545],\n",
       "        [-0.4789,  0.8779],\n",
       "        [-0.8857, -0.4642],\n",
       "        [ 0.1606, -0.9870],\n",
       "        [-0.7026,  0.7115],\n",
       "        [-0.9994,  0.0336],\n",
       "        [-0.6625, -0.7491],\n",
       "        [-0.9748, -0.2232]])"
      ]
     },
     "execution_count": 48,
     "metadata": {},
     "output_type": "execute_result"
    }
   ],
   "source": [
    "dist.sample(10)"
   ]
  },
  {
   "cell_type": "code",
   "execution_count": 50,
   "metadata": {},
   "outputs": [
    {
     "name": "stdout",
     "output_type": "stream",
     "text": [
      "tensor([[ 1.9828],\n",
      "        [ 1.9223],\n",
      "        [ 1.8412],\n",
      "        [ 1.5795],\n",
      "        [ 1.3006],\n",
      "        [ 1.9092],\n",
      "        [ 1.9550],\n",
      "        [ 1.9241],\n",
      "        [ 1.9665],\n",
      "        [-0.0870]])\n",
      "tensor([2.6619])\n"
     ]
    },
    {
     "ename": "TypeError",
     "evalue": "view() missing 1 required positional arguments: \"size\"",
     "output_type": "error",
     "traceback": [
      "\u001b[0;31m---------------------------------------------------------------------------\u001b[0m",
      "\u001b[0;31mTypeError\u001b[0m                                 Traceback (most recent call last)",
      "\u001b[0;32m<ipython-input-50-a5bbf875ccd7>\u001b[0m in \u001b[0;36m<module>\u001b[0;34m\u001b[0m\n\u001b[0;32m----> 1\u001b[0;31m \u001b[0mdist\u001b[0m\u001b[0;34m.\u001b[0m\u001b[0mlog_prob\u001b[0m\u001b[0;34m(\u001b[0m\u001b[0mdist\u001b[0m\u001b[0;34m.\u001b[0m\u001b[0msample\u001b[0m\u001b[0;34m(\u001b[0m\u001b[0mtorch\u001b[0m\u001b[0;34m.\u001b[0m\u001b[0mSize\u001b[0m\u001b[0;34m(\u001b[0m\u001b[0;34m[\u001b[0m\u001b[0;36m10\u001b[0m\u001b[0;34m]\u001b[0m\u001b[0;34m)\u001b[0m\u001b[0;34m)\u001b[0m\u001b[0;34m)\u001b[0m\u001b[0;34m\u001b[0m\u001b[0m\n\u001b[0m",
      "\u001b[0;32m<ipython-input-37-d36679d03c50>\u001b[0m in \u001b[0;36mlog_prob\u001b[0;34m(self, x)\u001b[0m\n\u001b[1;32m    113\u001b[0m \u001b[0;34m\u001b[0m\u001b[0m\n\u001b[1;32m    114\u001b[0m     \u001b[0;32mdef\u001b[0m \u001b[0mlog_prob\u001b[0m\u001b[0;34m(\u001b[0m\u001b[0mself\u001b[0m\u001b[0;34m,\u001b[0m \u001b[0mx\u001b[0m\u001b[0;34m)\u001b[0m\u001b[0;34m:\u001b[0m\u001b[0;34m\u001b[0m\u001b[0m\n\u001b[0;32m--> 115\u001b[0;31m         \u001b[0;32mreturn\u001b[0m \u001b[0mself\u001b[0m\u001b[0;34m.\u001b[0m\u001b[0m_log_unnormalized_prob\u001b[0m\u001b[0;34m(\u001b[0m\u001b[0mx\u001b[0m\u001b[0;34m)\u001b[0m \u001b[0;34m-\u001b[0m \u001b[0mself\u001b[0m\u001b[0;34m.\u001b[0m\u001b[0m_log_normalization\u001b[0m\u001b[0;34m(\u001b[0m\u001b[0;34m)\u001b[0m\u001b[0;34m\u001b[0m\u001b[0m\n\u001b[0m\u001b[1;32m    116\u001b[0m \u001b[0;34m\u001b[0m\u001b[0m\n\u001b[1;32m    117\u001b[0m     \u001b[0;32mdef\u001b[0m \u001b[0m_log_unnormalized_prob\u001b[0m\u001b[0;34m(\u001b[0m\u001b[0mself\u001b[0m\u001b[0;34m,\u001b[0m \u001b[0mx\u001b[0m\u001b[0;34m)\u001b[0m\u001b[0;34m:\u001b[0m\u001b[0;34m\u001b[0m\u001b[0m\n",
      "\u001b[0;32m<ipython-input-37-d36679d03c50>\u001b[0m in \u001b[0;36m_log_normalization\u001b[0;34m(self)\u001b[0m\n\u001b[1;32m    124\u001b[0m             self.scale + torch.log(ive(self.__m / 2 - 1, self.scale))))\n\u001b[1;32m    125\u001b[0m         \u001b[0mprint\u001b[0m\u001b[0;34m(\u001b[0m\u001b[0moutput\u001b[0m\u001b[0;34m)\u001b[0m\u001b[0;34m\u001b[0m\u001b[0m\n\u001b[0;32m--> 126\u001b[0;31m         \u001b[0;32mreturn\u001b[0m \u001b[0moutput\u001b[0m\u001b[0;34m.\u001b[0m\u001b[0mview\u001b[0m\u001b[0;34m(\u001b[0m\u001b[0;34m*\u001b[0m\u001b[0;34m(\u001b[0m\u001b[0moutput\u001b[0m\u001b[0;34m.\u001b[0m\u001b[0mshape\u001b[0m\u001b[0;34m[\u001b[0m\u001b[0;34m:\u001b[0m\u001b[0;34m-\u001b[0m\u001b[0;36m1\u001b[0m\u001b[0;34m]\u001b[0m\u001b[0;34m)\u001b[0m\u001b[0;34m)\u001b[0m\u001b[0;34m\u001b[0m\u001b[0m\n\u001b[0m\u001b[1;32m    127\u001b[0m \u001b[0;34m\u001b[0m\u001b[0m\n\u001b[1;32m    128\u001b[0m \u001b[0;34m\u001b[0m\u001b[0m\n",
      "\u001b[0;31mTypeError\u001b[0m: view() missing 1 required positional arguments: \"size\""
     ]
    }
   ],
   "source": [
    "dist.log_prob(dist.sample(torch.Size([10])))"
   ]
  },
  {
   "cell_type": "code",
   "execution_count": 44,
   "metadata": {},
   "outputs": [
    {
     "data": {
      "text/plain": [
       "torch.Size([1])"
      ]
     },
     "execution_count": 44,
     "metadata": {},
     "output_type": "execute_result"
    }
   ],
   "source": [
    "torch.tensor([[1., 0.]]).shape[:-1]"
   ]
  },
  {
   "cell_type": "code",
   "execution_count": 218,
   "metadata": {},
   "outputs": [
    {
     "data": {
      "text/plain": [
       "tensor([[ 1.0000e+00,  0.0000e+00],\n",
       "        [-1.0000e+00, -8.7423e-08]])"
      ]
     },
     "execution_count": 218,
     "metadata": {},
     "output_type": "execute_result"
    }
   ],
   "source": [
    "loc_r, loc_phi = torch.tensor([1.,1.]), torch.tensor([0., np.pi])\n",
    "p2c(loc_r, loc_phi)"
   ]
  },
  {
   "cell_type": "code",
   "execution_count": 129,
   "metadata": {},
   "outputs": [
    {
     "data": {
      "text/plain": [
       "1"
      ]
     },
     "execution_count": 129,
     "metadata": {},
     "output_type": "execute_result"
    }
   ],
   "source": [
    "len(loc.shape)"
   ]
  },
  {
   "cell_type": "code",
   "execution_count": 273,
   "metadata": {},
   "outputs": [],
   "source": [
    "phi_i = 10\n",
    "phi_j = torch.arange(-10.,10., 0.05)\n",
    "x = phi_i-phi_j"
   ]
  },
  {
   "cell_type": "code",
   "execution_count": 274,
   "metadata": {},
   "outputs": [
    {
     "data": {
      "text/plain": [
       "tensor(-2.2945e-05)"
      ]
     },
     "execution_count": 274,
     "metadata": {},
     "output_type": "execute_result"
    }
   ],
   "source": [
    "potsdam = x.cos()\n",
    "wiki = (np.pi - (x.abs() - np.pi).abs()).cos()\n",
    "sum(wiki - potsdam)"
   ]
  },
  {
   "cell_type": "code",
   "execution_count": 275,
   "metadata": {},
   "outputs": [
    {
     "data": {
      "text/plain": [
       "[<matplotlib.lines.Line2D at 0x7fc4e67c0668>]"
      ]
     },
     "execution_count": 275,
     "metadata": {},
     "output_type": "execute_result"
    },
    {
     "data": {
      "image/png": "[encoded data removed]",
      "text/plain": [
       "<Figure size 432x288 with 1 Axes>"
      ]
     },
     "metadata": {
      "needs_background": "light"
     },
     "output_type": "display_data"
    }
   ],
   "source": [
    "plt.plot(x.numpy(), potsdam.numpy())\n",
    "plt.plot(x.numpy(), wiki.numpy())"
   ]
  },
  {
   "cell_type": "code",
   "execution_count": 51,
   "metadata": {},
   "outputs": [
    {
     "data": {
      "text/plain": [
       "'1.1.0'"
      ]
     },
     "execution_count": 51,
     "metadata": {},
     "output_type": "execute_result"
    }
   ],
   "source": [
    "torch.__version__"
   ]
  },
  {
   "cell_type": "code",
   "execution_count": null,
   "metadata": {},
   "outputs": [],
   "source": []
  }
 ],
 "metadata": {
  "kernelspec": {
   "display_name": "Python 3",
   "language": "python",
   "name": "python3"
  },
  "language_info": {
   "codemirror_mode": {
    "name": "ipython",
    "version": 3
   },
   "file_extension": ".py",
   "mimetype": "text/x-python",
   "name": "python",
   "nbconvert_exporter": "python",
   "pygments_lexer": "ipython3",
   "version": "3.7.3"
  }
 },
 "nbformat": 4,
 "nbformat_minor": 2
}
