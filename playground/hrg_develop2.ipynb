{
 "cells": [
  {
   "cell_type": "code",
   "execution_count": 1,
   "metadata": {},
   "outputs": [
    {
     "data": {
      "text/plain": [
       "<torch._C.Generator at 0x7fd09a281b50>"
      ]
     },
     "execution_count": 1,
     "metadata": {},
     "output_type": "execute_result"
    }
   ],
   "source": [
    "import sys\n",
    "sys.path.append('../src/')\n",
    "from vi_hrg_approx import *\n",
    "from utils import c2d, hyperdist, p_hd, polar2cart, warn_tensor\n",
    "from torch import autograd\n",
    "torch.manual_seed(4)"
   ]
  },
  {
   "cell_type": "code",
   "execution_count": 2,
   "metadata": {},
   "outputs": [],
   "source": [
    "def noise_r(x, R, rel_var=0.1, epsilon=1e-4):\n",
    "    rs = torch.distributions.normal.Normal(x, R*rel_var).sample() \n",
    "    return torch.clamp(rs, min=0+epsilon, max=R.item()-epsilon)"
   ]
  },
  {
   "cell_type": "code",
   "execution_count": 3,
   "metadata": {},
   "outputs": [],
   "source": [
    "def noise_phi(x, rel_var=0.1):\n",
    "    phis = torch.distributions.normal.Normal(x, 2*np.pi*rel_var).sample()\n",
    "    return phis % (2*np.pi)"
   ]
  },
  {
   "cell_type": "code",
   "execution_count": 4,
   "metadata": {},
   "outputs": [],
   "source": [
    "logit = lambda x: (x/(1-x)).log()"
   ]
  },
  {
   "cell_type": "code",
   "execution_count": 5,
   "metadata": {},
   "outputs": [
    {
     "data": {
      "image/png": "[encoded data removed]",
      "text/plain": [
       "<Figure size 432x432 with 2 Axes>"
      ]
     },
     "metadata": {
      "needs_background": "light"
     },
     "output_type": "display_data"
    },
    {
     "data": {
      "image/png": "[encoded data removed]",
      "text/plain": [
       "<Figure size 432x432 with 1 Axes>"
      ]
     },
     "metadata": {
      "needs_background": "light"
     },
     "output_type": "display_data"
    }
   ],
   "source": [
    "N = 5\n",
    "R = torch.tensor([5.0]).double()\n",
    "alpha = .7\n",
    "T = 0.1\n",
    "\n",
    "G = HRG(R=R, alpha=alpha, T=T)\n",
    "r, theta, A = G.generate(N)\n",
    "G.show()\n",
    "G.plot()"
   ]
  },
  {
   "cell_type": "code",
   "execution_count": 6,
   "metadata": {},
   "outputs": [
    {
     "data": {
      "text/plain": [
       "torch.Size([5, 3])"
      ]
     },
     "execution_count": 6,
     "metadata": {},
     "output_type": "execute_result"
    }
   ],
   "source": [
    "r_loc_init = logit(noise_r(r, R, rel_var=0.05)/R)*R/5\n",
    "r_scale_init = torch.ones([N]).double().log()\n",
    "phi_loc_init = torch.cat((polar2cart(1, noise_phi(theta, 0.02)),  torch.zeros([N,1]).double()), dim=-1)\n",
    "phi_loc_init.shape"
   ]
  },
  {
   "cell_type": "code",
   "execution_count": 7,
   "metadata": {},
   "outputs": [
    {
     "data": {
      "text/plain": [
       "tensor([ 1.8354,  1.9024, -0.4989,  0.5558, -1.4038], dtype=torch.float64)"
      ]
     },
     "execution_count": 7,
     "metadata": {},
     "output_type": "execute_result"
    }
   ],
   "source": [
    "r_loc_init"
   ]
  },
  {
   "cell_type": "code",
   "execution_count": 8,
   "metadata": {},
   "outputs": [
    {
     "data": {
      "text/plain": [
       "tensor([4.3120, 4.3508, 1.8890, 3.1774, 0.9861], dtype=torch.float64)"
      ]
     },
     "execution_count": 8,
     "metadata": {},
     "output_type": "execute_result"
    }
   ],
   "source": [
    "Radius(r_loc_init, r_scale_init.exp(), R.expand([N])).mean"
   ]
  },
  {
   "cell_type": "code",
   "execution_count": 9,
   "metadata": {},
   "outputs": [],
   "source": [
    "R_conc_init = torch.tensor(10.).log()\n",
    "R_scale_init = torch.tensor(1.).log()\n",
    "alpha_conc_init = torch.tensor(.5).log()\n",
    "alpha_scale_init = torch.tensor(.5).log()\n",
    "T_init = torch.tensor([3.,10.]).log()"
   ]
  },
  {
   "cell_type": "code",
   "execution_count": 10,
   "metadata": {},
   "outputs": [
    {
     "data": {
      "text/plain": [
       "tensor([1.0986, 2.3026])"
      ]
     },
     "execution_count": 10,
     "metadata": {},
     "output_type": "execute_result"
    }
   ],
   "source": [
    "T_init"
   ]
  },
  {
   "cell_type": "code",
   "execution_count": 11,
   "metadata": {},
   "outputs": [],
   "source": [
    "dataloader = DataLoader(EdgesDataset(A), batch_size=N**2, shuffle=True, num_workers=0)\n",
    "vi = VI_HRG(N,10, init_values={'rs_loc':r_loc_init,\n",
    "                                'rs_scale':r_scale_init,\n",
    "                              'phis_loc':phi_loc_init,\n",
    "                              'phis_scale':None, \n",
    "                              'R_conc':R_conc_init, \n",
    "                              'R_scale':R_scale_init,\n",
    "                              'alpha_conc':alpha_conc_init,\n",
    "                              'alpha_scale':alpha_scale_init,\n",
    "                              'T':T_init})\n",
    "vi.dataloader = dataloader\n",
    "vi.optimizer = torch.optim.RMSprop(vi.parameters())\n",
    "#vi.optimizer.lr"
   ]
  },
  {
   "cell_type": "raw",
   "metadata": {
    "scrolled": false
   },
   "source": [
    "total_loss = 0\n",
    "with autograd.detect_anomaly():\n",
    "    #print(torch.is_anomaly_enabled())\n",
    "    for idx1, idx2, data in dataloader:\n",
    "        loss = - vi.elbo(idx1, idx2, data, debug=True)\n",
    "        vi.optimizer.zero_grad()\n",
    "        loss.backward()\n",
    "        vi.optimizer.step()\n",
    "        print('>>>>', loss)\n",
    "        total_loss += loss\n",
    "total_loss"
   ]
  },
  {
   "cell_type": "code",
   "execution_count": 12,
   "metadata": {},
   "outputs": [
    {
     "name": "stdout",
     "output_type": "stream",
     "text": [
      ">>>>>>>>>>>> Start training...\n",
      "-D_kl(R)    >> tensor(-7.4639, dtype=torch.float64, grad_fn=<MulBackward0>)\n",
      "-D_kl(alpha)>> tensor(-0.8525, dtype=torch.float64, grad_fn=<MulBackward0>)\n",
      "-D_kl(T)    >> tensor(-0.8176, dtype=torch.float64, grad_fn=<MulBackward0>)\n",
      "Prob_edges  >> tensor(-125.9164, dtype=torch.float64, grad_fn=<SumBackward0>)\n",
      "Alpha_R_ri  >> tensor(-464.0568, dtype=torch.float64, grad_fn=<MulBackward0>)\n",
      "Alpha       >> tensor(-26.1030, dtype=torch.float64, grad_fn=<MulBackward0>)\n",
      "Alpha_R     >> tensor(32.3456, dtype=torch.float64, grad_fn=<MulBackward0>)\n",
      "P(q_ri)     >> tensor(204.5961, dtype=torch.float64, grad_fn=<MulBackward0>)\n",
      "P(q_phii)   >> tensor(238.9009, dtype=torch.float64, grad_fn=<MulBackward0>)\n",
      "ELBO >>>> tensor(-190.9028, dtype=torch.float64, grad_fn=<AddBackward0>)\n",
      "Epoch 1 | LR: 0.10 | Total loss: 190.90 | Epoch time 0.14\n"
     ]
    },
    {
     "name": "stderr",
     "output_type": "stream",
     "text": [
      "../src/utils.py:126: UserWarning: cosh_dist has 1 in it!\n",
      "  warnings.warn(str('%s has 1 in it!' % variable))\n",
      "../src/utils.py:126: UserWarning: c has 1 in it!\n",
      "  warnings.warn(str('%s has 1 in it!' % variable))\n",
      "../src/utils.py:126: UserWarning: p_raw has 1 in it!\n",
      "  warnings.warn(str('%s has 1 in it!' % variable))\n"
     ]
    },
    {
     "name": "stdout",
     "output_type": "stream",
     "text": [
      "-D_kl(R)    >> tensor(-9.5246, dtype=torch.float64, grad_fn=<MulBackward0>)\n",
      "-D_kl(alpha)>> tensor(-0.6422, dtype=torch.float64, grad_fn=<MulBackward0>)\n",
      "-D_kl(T)    >> tensor(-0.7304, dtype=torch.float64, grad_fn=<MulBackward0>)\n",
      "Prob_edges  >> tensor(-171.6600, dtype=torch.float64, grad_fn=<SumBackward0>)\n",
      "Alpha_R_ri  >> tensor(-232.0563, dtype=torch.float64, grad_fn=<MulBackward0>)\n",
      "Alpha       >> tensor(-11.0497, dtype=torch.float64, grad_fn=<MulBackward0>)\n",
      "Alpha_R     >> tensor(6.3521, dtype=torch.float64, grad_fn=<MulBackward0>)\n",
      "P(q_ri)     >> tensor(268.8714, dtype=torch.float64, grad_fn=<MulBackward0>)\n",
      "P(q_phii)   >> tensor(310.2925, dtype=torch.float64, grad_fn=<MulBackward0>)\n",
      "ELBO >>>> tensor(144.3113, dtype=torch.float64, grad_fn=<AddBackward0>)\n",
      "Epoch 2 | LR: 0.10 | Total loss: -144.31 | Epoch time 0.14\n",
      "-D_kl(R)    >> tensor(-8.0373, dtype=torch.float64, grad_fn=<MulBackward0>)\n",
      "-D_kl(alpha)>> tensor(-0.6983, dtype=torch.float64, grad_fn=<MulBackward0>)\n",
      "-D_kl(T)    >> tensor(-0.6649, dtype=torch.float64, grad_fn=<MulBackward0>)\n",
      "Prob_edges  >> tensor(-152.1694, dtype=torch.float64, grad_fn=<SumBackward0>)\n",
      "Alpha_R_ri  >> tensor(-230.9692, dtype=torch.float64, grad_fn=<MulBackward0>)\n",
      "Alpha       >> tensor(-11.4421, dtype=torch.float64, grad_fn=<MulBackward0>)\n",
      "Alpha_R     >> tensor(9.0910, dtype=torch.float64, grad_fn=<MulBackward0>)\n",
      "P(q_ri)     >> tensor(223.8292, dtype=torch.float64, grad_fn=<MulBackward0>)\n",
      "P(q_phii)   >> tensor(338.6838, dtype=torch.float64, grad_fn=<MulBackward0>)\n",
      "ELBO >>>> tensor(149.3423, dtype=torch.float64, grad_fn=<AddBackward0>)\n",
      "Epoch 3 | LR: 0.10 | Total loss: -149.34 | Epoch time 0.13\n",
      "-D_kl(R)    >> tensor(-7.1408, dtype=torch.float64, grad_fn=<MulBackward0>)\n",
      "-D_kl(alpha)>> tensor(-0.7066, dtype=torch.float64, grad_fn=<MulBackward0>)\n",
      "-D_kl(T)    >> tensor(-0.6208, dtype=torch.float64, grad_fn=<MulBackward0>)\n",
      "Prob_edges  >> tensor(-114.2788, dtype=torch.float64, grad_fn=<SumBackward0>)\n",
      "Alpha_R_ri  >> tensor(-220.4765, dtype=torch.float64, grad_fn=<MulBackward0>)\n",
      "Alpha       >> tensor(-11.2563, dtype=torch.float64, grad_fn=<MulBackward0>)\n",
      "Alpha_R     >> tensor(6.7153, dtype=torch.float64, grad_fn=<MulBackward0>)\n",
      "P(q_ri)     >> tensor(221.3695, dtype=torch.float64, grad_fn=<MulBackward0>)\n",
      "P(q_phii)   >> tensor(366.2690, dtype=torch.float64, grad_fn=<MulBackward0>)\n",
      "ELBO >>>> tensor(223.9694, dtype=torch.float64, grad_fn=<AddBackward0>)\n",
      "Epoch 4 | LR: 0.10 | Total loss: -223.97 | Epoch time 0.13\n",
      "-D_kl(R)    >> tensor(-6.8621, dtype=torch.float64, grad_fn=<MulBackward0>)\n",
      "-D_kl(alpha)>> tensor(-0.7234, dtype=torch.float64, grad_fn=<MulBackward0>)\n",
      "-D_kl(T)    >> tensor(-0.5967, dtype=torch.float64, grad_fn=<MulBackward0>)\n",
      "Prob_edges  >> tensor(-89.6457, dtype=torch.float64, grad_fn=<SumBackward0>)\n",
      "Alpha_R_ri  >> tensor(-427.9668, dtype=torch.float64, grad_fn=<MulBackward0>)\n",
      "Alpha       >> tensor(-8.8373, dtype=torch.float64, grad_fn=<MulBackward0>)\n",
      "Alpha_R     >> tensor(8.0936, dtype=torch.float64, grad_fn=<MulBackward0>)\n",
      "P(q_ri)     >> tensor(233.9135, dtype=torch.float64, grad_fn=<MulBackward0>)\n",
      "P(q_phii)   >> tensor(425.7887, dtype=torch.float64, grad_fn=<MulBackward0>)\n",
      "ELBO >>>> tensor(115.8809, dtype=torch.float64, grad_fn=<AddBackward0>)\n",
      "Epoch 5 | LR: 0.10 | Total loss: -115.88 | Epoch time 0.37\n",
      "-D_kl(R)    >> tensor(-5.5839, dtype=torch.float64, grad_fn=<MulBackward0>)\n",
      "-D_kl(alpha)>> tensor(-0.7978, dtype=torch.float64, grad_fn=<MulBackward0>)\n",
      "-D_kl(T)    >> tensor(-0.5828, dtype=torch.float64, grad_fn=<MulBackward0>)\n",
      "Prob_edges  >> tensor(-74.2476, dtype=torch.float64, grad_fn=<SumBackward0>)\n",
      "Alpha_R_ri  >> tensor(-264.0706, dtype=torch.float64, grad_fn=<MulBackward0>)\n",
      "Alpha       >> tensor(-17.2408, dtype=torch.float64, grad_fn=<MulBackward0>)\n",
      "Alpha_R     >> tensor(17.8710, dtype=torch.float64, grad_fn=<MulBackward0>)\n",
      "P(q_ri)     >> tensor(204.9826, dtype=torch.float64, grad_fn=<MulBackward0>)\n",
      "P(q_phii)   >> tensor(454.6444, dtype=torch.float64, grad_fn=<MulBackward0>)\n",
      "ELBO >>>> tensor(287.9141, dtype=torch.float64, grad_fn=<AddBackward0>)\n",
      "Epoch 6 | LR: 0.10 | Total loss: -287.91 | Epoch time 0.16\n",
      "-D_kl(R)    >> tensor(-6.0499, dtype=torch.float64, grad_fn=<MulBackward0>)\n",
      "-D_kl(alpha)>> tensor(-0.7282, dtype=torch.float64, grad_fn=<MulBackward0>)\n",
      "-D_kl(T)    >> tensor(-0.5713, dtype=torch.float64, grad_fn=<MulBackward0>)\n",
      "Prob_edges  >> tensor(-77.2261, dtype=torch.float64, grad_fn=<SumBackward0>)\n",
      "Alpha_R_ri  >> tensor(-187.6648, dtype=torch.float64, grad_fn=<MulBackward0>)\n",
      "Alpha       >> tensor(-10.8729, dtype=torch.float64, grad_fn=<MulBackward0>)\n",
      "Alpha_R     >> tensor(7.3871, dtype=torch.float64, grad_fn=<MulBackward0>)\n",
      "P(q_ri)     >> tensor(211.4205, dtype=torch.float64, grad_fn=<MulBackward0>)\n",
      "P(q_phii)   >> tensor(500.7527, dtype=torch.float64, grad_fn=<MulBackward0>)\n",
      "ELBO >>>> tensor(419.8705, dtype=torch.float64, grad_fn=<AddBackward0>)\n",
      "Epoch 7 | LR: 0.10 | Total loss: -419.87 | Epoch time 0.13\n",
      "-D_kl(R)    >> tensor(-6.0874, dtype=torch.float64, grad_fn=<MulBackward0>)\n",
      "-D_kl(alpha)>> tensor(-0.7197, dtype=torch.float64, grad_fn=<MulBackward0>)\n",
      "-D_kl(T)    >> tensor(-0.5608, dtype=torch.float64, grad_fn=<MulBackward0>)\n",
      "Prob_edges  >> tensor(-74.2566, dtype=torch.float64, grad_fn=<SumBackward0>)\n",
      "Alpha_R_ri  >> tensor(-187.6821, dtype=torch.float64, grad_fn=<MulBackward0>)\n",
      "Alpha       >> tensor(-10.0212, dtype=torch.float64, grad_fn=<MulBackward0>)\n",
      "Alpha_R     >> tensor(5.9137, dtype=torch.float64, grad_fn=<MulBackward0>)\n",
      "P(q_ri)     >> tensor(219.7832, dtype=torch.float64, grad_fn=<MulBackward0>)\n",
      "P(q_phii)   >> tensor(501.5270, dtype=torch.float64, grad_fn=<MulBackward0>)\n",
      "ELBO >>>> tensor(432.7930, dtype=torch.float64, grad_fn=<AddBackward0>)\n",
      "Epoch 8 | LR: 0.10 | Total loss: -432.79 | Epoch time 0.34\n",
      "-D_kl(R)    >> tensor(-6.0972, dtype=torch.float64, grad_fn=<MulBackward0>)\n",
      "-D_kl(alpha)>> tensor(-0.7266, dtype=torch.float64, grad_fn=<MulBackward0>)\n",
      "-D_kl(T)    >> tensor(-0.5524, dtype=torch.float64, grad_fn=<MulBackward0>)\n",
      "Prob_edges  >> tensor(-86.7457, dtype=torch.float64, grad_fn=<SumBackward0>)\n",
      "Alpha_R_ri  >> tensor(-159.6185, dtype=torch.float64, grad_fn=<MulBackward0>)\n",
      "Alpha       >> tensor(-10.5177, dtype=torch.float64, grad_fn=<MulBackward0>)\n",
      "Alpha_R     >> tensor(6.3537, dtype=torch.float64, grad_fn=<MulBackward0>)\n",
      "P(q_ri)     >> tensor(231.7292, dtype=torch.float64, grad_fn=<MulBackward0>)\n",
      "P(q_phii)   >> tensor(570.5077, dtype=torch.float64, grad_fn=<MulBackward0>)\n",
      "ELBO >>>> tensor(528.7895, dtype=torch.float64, grad_fn=<AddBackward0>)\n",
      "Epoch 9 | LR: 0.10 | Total loss: -528.79 | Epoch time 0.13\n",
      "-D_kl(R)    >> tensor(-6.1356, dtype=torch.float64, grad_fn=<MulBackward0>)\n",
      "-D_kl(alpha)>> tensor(-0.7222, dtype=torch.float64, grad_fn=<MulBackward0>)\n",
      "-D_kl(T)    >> tensor(-0.5440, dtype=torch.float64, grad_fn=<MulBackward0>)\n",
      "Prob_edges  >> tensor(-117.5889, dtype=torch.float64, grad_fn=<SumBackward0>)\n",
      "Alpha_R_ri  >> tensor(-229.0313, dtype=torch.float64, grad_fn=<MulBackward0>)\n",
      "Alpha       >> tensor(-9.1577, dtype=torch.float64, grad_fn=<MulBackward0>)\n",
      "Alpha_R     >> tensor(5.9943, dtype=torch.float64, grad_fn=<MulBackward0>)\n",
      "P(q_ri)     >> tensor(232.5486, dtype=torch.float64, grad_fn=<MulBackward0>)\n",
      "P(q_phii)   >> tensor(546.6060, dtype=torch.float64, grad_fn=<MulBackward0>)\n",
      "ELBO >>>> tensor(406.7854, dtype=torch.float64, grad_fn=<AddBackward0>)\n",
      "Epoch 10 | LR: 0.10 | Total loss: -406.79 | Epoch time 0.10\n",
      "-D_kl(R)    >> tensor(-5.5971, dtype=torch.float64, grad_fn=<MulBackward0>)\n",
      "-D_kl(alpha)>> tensor(-0.7540, dtype=torch.float64, grad_fn=<MulBackward0>)\n",
      "-D_kl(T)    >> tensor(-0.5360, dtype=torch.float64, grad_fn=<MulBackward0>)\n",
      "Prob_edges  >> tensor(-71.7822, dtype=torch.float64, grad_fn=<SumBackward0>)\n",
      "Alpha_R_ri  >> tensor(-356.0113, dtype=torch.float64, grad_fn=<MulBackward0>)\n",
      "Alpha       >> tensor(-21.9563, dtype=torch.float64, grad_fn=<MulBackward0>)\n",
      "Alpha_R     >> tensor(26.7698, dtype=torch.float64, grad_fn=<MulBackward0>)\n",
      "P(q_ri)     >> tensor(204.5076, dtype=torch.float64, grad_fn=<MulBackward0>)\n",
      "P(q_phii)   >> tensor(599.8272, dtype=torch.float64, grad_fn=<MulBackward0>)\n",
      "ELBO >>>> tensor(338.5085, dtype=torch.float64, grad_fn=<AddBackward0>)\n",
      "Epoch 11 | LR: 0.10 | Total loss: -338.51 | Epoch time 0.13\n",
      "-D_kl(R)    >> tensor(-6.1465, dtype=torch.float64, grad_fn=<MulBackward0>)\n",
      "-D_kl(alpha)>> tensor(-0.6652, dtype=torch.float64, grad_fn=<MulBackward0>)\n",
      "-D_kl(T)    >> tensor(-0.5320, dtype=torch.float64, grad_fn=<MulBackward0>)\n",
      "Prob_edges  >> tensor(-69.3110, dtype=torch.float64, grad_fn=<SumBackward0>)\n",
      "Alpha_R_ri  >> tensor(-232.7251, dtype=torch.float64, grad_fn=<MulBackward0>)\n",
      "Alpha       >> tensor(-11.9799, dtype=torch.float64, grad_fn=<MulBackward0>)\n",
      "Alpha_R     >> tensor(9.9569, dtype=torch.float64, grad_fn=<MulBackward0>)\n",
      "P(q_ri)     >> tensor(219.6627, dtype=torch.float64, grad_fn=<MulBackward0>)\n",
      "P(q_phii)   >> tensor(574.6071, dtype=torch.float64, grad_fn=<MulBackward0>)\n",
      "ELBO >>>> tensor(463.7207, dtype=torch.float64, grad_fn=<AddBackward0>)\n",
      "Epoch 12 | LR: 0.10 | Total loss: -463.72 | Epoch time 0.10\n"
     ]
    },
    {
     "name": "stdout",
     "output_type": "stream",
     "text": [
      "-D_kl(R)    >> tensor(-6.3563, dtype=torch.float64, grad_fn=<MulBackward0>)\n",
      "-D_kl(alpha)>> tensor(-0.6537, dtype=torch.float64, grad_fn=<MulBackward0>)\n",
      "-D_kl(T)    >> tensor(-0.5295, dtype=torch.float64, grad_fn=<MulBackward0>)\n",
      "Prob_edges  >> tensor(-84.7364, dtype=torch.float64, grad_fn=<SumBackward0>)\n",
      "Alpha_R_ri  >> tensor(-185.5512, dtype=torch.float64, grad_fn=<MulBackward0>)\n",
      "Alpha       >> tensor(-13.6951, dtype=torch.float64, grad_fn=<MulBackward0>)\n",
      "Alpha_R     >> tensor(10.5479, dtype=torch.float64, grad_fn=<MulBackward0>)\n",
      "P(q_ri)     >> tensor(229.8405, dtype=torch.float64, grad_fn=<MulBackward0>)\n",
      "P(q_phii)   >> tensor(655.1453, dtype=torch.float64, grad_fn=<MulBackward0>)\n",
      "ELBO >>>> tensor(584.2742, dtype=torch.float64, grad_fn=<AddBackward0>)\n",
      "Epoch 13 | LR: 0.10 | Total loss: -584.27 | Epoch time 0.11\n",
      "-D_kl(R)    >> tensor(-6.5376, dtype=torch.float64, grad_fn=<MulBackward0>)\n",
      "-D_kl(alpha)>> tensor(-0.6307, dtype=torch.float64, grad_fn=<MulBackward0>)\n",
      "-D_kl(T)    >> tensor(-0.5266, dtype=torch.float64, grad_fn=<MulBackward0>)\n",
      "Prob_edges  >> tensor(-94.0569, dtype=torch.float64, grad_fn=<SumBackward0>)\n",
      "Alpha_R_ri  >> tensor(-289.9560, dtype=torch.float64, grad_fn=<MulBackward0>)\n",
      "Alpha       >> tensor(-15.9401, dtype=torch.float64, grad_fn=<MulBackward0>)\n",
      "Alpha_R     >> tensor(15.6769, dtype=torch.float64, grad_fn=<MulBackward0>)\n",
      "P(q_ri)     >> tensor(238.9330, dtype=torch.float64, grad_fn=<MulBackward0>)\n",
      "P(q_phii)   >> tensor(689.3020, dtype=torch.float64, grad_fn=<MulBackward0>)\n",
      "ELBO >>>> tensor(511.3977, dtype=torch.float64, grad_fn=<AddBackward0>)\n",
      "Epoch 14 | LR: 0.10 | Total loss: -511.40 | Epoch time 0.10\n",
      "-D_kl(R)    >> tensor(-6.4998, dtype=torch.float64, grad_fn=<MulBackward0>)\n",
      "-D_kl(alpha)>> tensor(-0.6059, dtype=torch.float64, grad_fn=<MulBackward0>)\n",
      "-D_kl(T)    >> tensor(-0.5250, dtype=torch.float64, grad_fn=<MulBackward0>)\n",
      "Prob_edges  >> tensor(-62.6097, dtype=torch.float64, grad_fn=<SumBackward0>)\n",
      "Alpha_R_ri  >> tensor(-378.1951, dtype=torch.float64, grad_fn=<MulBackward0>)\n",
      "Alpha       >> tensor(-16.2676, dtype=torch.float64, grad_fn=<MulBackward0>)\n",
      "Alpha_R     >> tensor(18.3051, dtype=torch.float64, grad_fn=<MulBackward0>)\n",
      "P(q_ri)     >> tensor(224.6587, dtype=torch.float64, grad_fn=<MulBackward0>)\n",
      "P(q_phii)   >> tensor(686.4142, dtype=torch.float64, grad_fn=<MulBackward0>)\n",
      "ELBO >>>> tensor(437.1805, dtype=torch.float64, grad_fn=<AddBackward0>)\n",
      "Epoch 15 | LR: 0.10 | Total loss: -437.18 | Epoch time 0.10\n",
      "-D_kl(R)    >> tensor(-6.5230, dtype=torch.float64, grad_fn=<MulBackward0>)\n",
      "-D_kl(alpha)>> tensor(-0.5866, dtype=torch.float64, grad_fn=<MulBackward0>)\n",
      "-D_kl(T)    >> tensor(-0.5244, dtype=torch.float64, grad_fn=<MulBackward0>)\n",
      "Prob_edges  >> tensor(-59.6746, dtype=torch.float64, grad_fn=<SumBackward0>)\n",
      "Alpha_R_ri  >> tensor(-183.5610, dtype=torch.float64, grad_fn=<MulBackward0>)\n",
      "Alpha       >> tensor(-9.8608, dtype=torch.float64, grad_fn=<MulBackward0>)\n",
      "Alpha_R     >> tensor(5.6737, dtype=torch.float64, grad_fn=<MulBackward0>)\n",
      "P(q_ri)     >> tensor(226.6780, dtype=torch.float64, grad_fn=<MulBackward0>)\n",
      "P(q_phii)   >> tensor(741.6168, dtype=torch.float64, grad_fn=<MulBackward0>)\n",
      "ELBO >>>> tensor(698.3749, dtype=torch.float64, grad_fn=<AddBackward0>)\n",
      "Epoch 16 | LR: 0.10 | Total loss: -698.37 | Epoch time 0.10\n",
      "-D_kl(R)    >> tensor(-6.6790, dtype=torch.float64, grad_fn=<MulBackward0>)\n",
      "-D_kl(alpha)>> tensor(-0.5924, dtype=torch.float64, grad_fn=<MulBackward0>)\n",
      "-D_kl(T)    >> tensor(-0.5241, dtype=torch.float64, grad_fn=<MulBackward0>)\n",
      "Prob_edges  >> tensor(-92.4189, dtype=torch.float64, grad_fn=<SumBackward0>)\n",
      "Alpha_R_ri  >> tensor(-252.2358, dtype=torch.float64, grad_fn=<MulBackward0>)\n",
      "Alpha       >> tensor(-13.9915, dtype=torch.float64, grad_fn=<MulBackward0>)\n",
      "Alpha_R     >> tensor(12.0480, dtype=torch.float64, grad_fn=<MulBackward0>)\n",
      "P(q_ri)     >> tensor(235.9518, dtype=torch.float64, grad_fn=<MulBackward0>)\n",
      "P(q_phii)   >> tensor(727.8445, dtype=torch.float64, grad_fn=<MulBackward0>)\n",
      "ELBO >>>> tensor(588.1652, dtype=torch.float64, grad_fn=<AddBackward0>)\n",
      "Epoch 17 | LR: 0.10 | Total loss: -588.17 | Epoch time 0.13\n",
      "-D_kl(R)    >> tensor(-6.8125, dtype=torch.float64, grad_fn=<MulBackward0>)\n",
      "-D_kl(alpha)>> tensor(-0.5770, dtype=torch.float64, grad_fn=<MulBackward0>)\n",
      "-D_kl(T)    >> tensor(-0.5250, dtype=torch.float64, grad_fn=<MulBackward0>)\n",
      "Prob_edges  >> tensor(-77.9672, dtype=torch.float64, grad_fn=<SumBackward0>)\n",
      "Alpha_R_ri  >> tensor(-186.4156, dtype=torch.float64, grad_fn=<MulBackward0>)\n",
      "Alpha       >> tensor(-10.0326, dtype=torch.float64, grad_fn=<MulBackward0>)\n",
      "Alpha_R     >> tensor(6.5112, dtype=torch.float64, grad_fn=<MulBackward0>)\n",
      "P(q_ri)     >> tensor(220.1559, dtype=torch.float64, grad_fn=<MulBackward0>)\n",
      "P(q_phii)   >> tensor(791.0171, dtype=torch.float64, grad_fn=<MulBackward0>)\n",
      "ELBO >>>> tensor(719.6538, dtype=torch.float64, grad_fn=<AddBackward0>)\n",
      "Epoch 18 | LR: 0.10 | Total loss: -719.65 | Epoch time 0.11\n",
      "-D_kl(R)    >> tensor(-6.6849, dtype=torch.float64, grad_fn=<MulBackward0>)\n",
      "-D_kl(alpha)>> tensor(-0.5813, dtype=torch.float64, grad_fn=<MulBackward0>)\n",
      "-D_kl(T)    >> tensor(-0.5261, dtype=torch.float64, grad_fn=<MulBackward0>)\n",
      "Prob_edges  >> tensor(-74.3794, dtype=torch.float64, grad_fn=<SumBackward0>)\n",
      "Alpha_R_ri  >> tensor(-310.5632, dtype=torch.float64, grad_fn=<MulBackward0>)\n",
      "Alpha       >> tensor(-10.0726, dtype=torch.float64, grad_fn=<MulBackward0>)\n",
      "Alpha_R     >> tensor(8.5905, dtype=torch.float64, grad_fn=<MulBackward0>)\n",
      "P(q_ri)     >> tensor(235.5622, dtype=torch.float64, grad_fn=<MulBackward0>)\n",
      "P(q_phii)   >> tensor(786.8396, dtype=torch.float64, grad_fn=<MulBackward0>)\n",
      "ELBO >>>> tensor(610.4050, dtype=torch.float64, grad_fn=<AddBackward0>)\n",
      "Epoch 19 | LR: 0.10 | Total loss: -610.41 | Epoch time 0.13\n",
      "-D_kl(R)    >> tensor(-6.2363, dtype=torch.float64, grad_fn=<MulBackward0>)\n",
      "-D_kl(alpha)>> tensor(-0.6127, dtype=torch.float64, grad_fn=<MulBackward0>)\n",
      "-D_kl(T)    >> tensor(-0.5273, dtype=torch.float64, grad_fn=<MulBackward0>)\n",
      "Prob_edges  >> tensor(-65.1310, dtype=torch.float64, grad_fn=<SumBackward0>)\n",
      "Alpha_R_ri  >> tensor(-192.7416, dtype=torch.float64, grad_fn=<MulBackward0>)\n",
      "Alpha       >> tensor(-12.0345, dtype=torch.float64, grad_fn=<MulBackward0>)\n",
      "Alpha_R     >> tensor(9.0763, dtype=torch.float64, grad_fn=<MulBackward0>)\n",
      "P(q_ri)     >> tensor(235.8106, dtype=torch.float64, grad_fn=<MulBackward0>)\n",
      "P(q_phii)   >> tensor(815.7019, dtype=torch.float64, grad_fn=<MulBackward0>)\n",
      "ELBO >>>> tensor(765.0396, dtype=torch.float64, grad_fn=<AddBackward0>)\n",
      "Epoch 20 | LR: 0.10 | Total loss: -765.04 | Epoch time 0.36\n",
      "-D_kl(R)    >> tensor(-6.4693, dtype=torch.float64, grad_fn=<MulBackward0>)\n",
      "-D_kl(alpha)>> tensor(-0.6001, dtype=torch.float64, grad_fn=<MulBackward0>)\n",
      "-D_kl(T)    >> tensor(-0.5297, dtype=torch.float64, grad_fn=<MulBackward0>)\n",
      "Prob_edges  >> tensor(-72.7348, dtype=torch.float64, grad_fn=<SumBackward0>)\n",
      "Alpha_R_ri  >> tensor(-211.3742, dtype=torch.float64, grad_fn=<MulBackward0>)\n",
      "Alpha       >> tensor(-10.9778, dtype=torch.float64, grad_fn=<MulBackward0>)\n",
      "Alpha_R     >> tensor(8.1648, dtype=torch.float64, grad_fn=<MulBackward0>)\n",
      "P(q_ri)     >> tensor(236.1937, dtype=torch.float64, grad_fn=<MulBackward0>)\n",
      "P(q_phii)   >> tensor(868.8610, dtype=torch.float64, grad_fn=<MulBackward0>)\n",
      "ELBO >>>> tensor(793.1794, dtype=torch.float64, grad_fn=<AddBackward0>)\n",
      "Epoch 21 | LR: 0.10 | Total loss: -793.18 | Epoch time 0.11\n",
      "-D_kl(R)    >> tensor(-6.4574, dtype=torch.float64, grad_fn=<MulBackward0>)\n",
      "-D_kl(alpha)>> tensor(-0.5980, dtype=torch.float64, grad_fn=<MulBackward0>)\n",
      "-D_kl(T)    >> tensor(-0.5332, dtype=torch.float64, grad_fn=<MulBackward0>)\n",
      "Prob_edges  >> tensor(-65.7324, dtype=torch.float64, grad_fn=<SumBackward0>)\n",
      "Alpha_R_ri  >> tensor(-198.9730, dtype=torch.float64, grad_fn=<MulBackward0>)\n",
      "Alpha       >> tensor(-13.3486, dtype=torch.float64, grad_fn=<MulBackward0>)\n",
      "Alpha_R     >> tensor(10.6254, dtype=torch.float64, grad_fn=<MulBackward0>)\n",
      "P(q_ri)     >> tensor(223.5150, dtype=torch.float64, grad_fn=<MulBackward0>)\n",
      "P(q_phii)   >> tensor(898.0081, dtype=torch.float64, grad_fn=<MulBackward0>)\n",
      "ELBO >>>> tensor(826.6912, dtype=torch.float64, grad_fn=<AddBackward0>)\n",
      "Epoch 22 | LR: 0.10 | Total loss: -826.69 | Epoch time 0.10\n",
      "-D_kl(R)    >> tensor(-6.7578, dtype=torch.float64, grad_fn=<MulBackward0>)\n",
      "-D_kl(alpha)>> tensor(-0.5768, dtype=torch.float64, grad_fn=<MulBackward0>)\n"
     ]
    },
    {
     "name": "stdout",
     "output_type": "stream",
     "text": [
      "-D_kl(T)    >> tensor(-0.5359, dtype=torch.float64, grad_fn=<MulBackward0>)\n",
      "Prob_edges  >> tensor(-59.3837, dtype=torch.float64, grad_fn=<SumBackward0>)\n",
      "Alpha_R_ri  >> tensor(-247.8321, dtype=torch.float64, grad_fn=<MulBackward0>)\n",
      "Alpha       >> tensor(-9.7400, dtype=torch.float64, grad_fn=<MulBackward0>)\n",
      "Alpha_R     >> tensor(8.1815, dtype=torch.float64, grad_fn=<MulBackward0>)\n",
      "P(q_ri)     >> tensor(209.1144, dtype=torch.float64, grad_fn=<MulBackward0>)\n",
      "P(q_phii)   >> tensor(937.1250, dtype=torch.float64, grad_fn=<MulBackward0>)\n",
      "ELBO >>>> tensor(812.2238, dtype=torch.float64, grad_fn=<AddBackward0>)\n",
      "Epoch 23 | LR: 0.10 | Total loss: -812.22 | Epoch time 0.17\n",
      "-D_kl(R)    >> tensor(-6.6315, dtype=torch.float64, grad_fn=<MulBackward0>)\n",
      "-D_kl(alpha)>> tensor(-0.5868, dtype=torch.float64, grad_fn=<MulBackward0>)\n",
      "-D_kl(T)    >> tensor(-0.5379, dtype=torch.float64, grad_fn=<MulBackward0>)\n",
      "Prob_edges  >> tensor(-82.5042, dtype=torch.float64, grad_fn=<SumBackward0>)\n",
      "Alpha_R_ri  >> tensor(-262.6206, dtype=torch.float64, grad_fn=<MulBackward0>)\n",
      "Alpha       >> tensor(-12.5174, dtype=torch.float64, grad_fn=<MulBackward0>)\n",
      "Alpha_R     >> tensor(9.7245, dtype=torch.float64, grad_fn=<MulBackward0>)\n",
      "P(q_ri)     >> tensor(257.9874, dtype=torch.float64, grad_fn=<MulBackward0>)\n",
      "P(q_phii)   >> tensor(971.1058, dtype=torch.float64, grad_fn=<MulBackward0>)\n",
      "ELBO >>>> tensor(854.5054, dtype=torch.float64, grad_fn=<AddBackward0>)\n",
      "Epoch 24 | LR: 0.10 | Total loss: -854.51 | Epoch time 0.20\n",
      "-D_kl(R)    >> tensor(-6.4245, dtype=torch.float64, grad_fn=<MulBackward0>)\n",
      "-D_kl(alpha)>> tensor(-0.5929, dtype=torch.float64, grad_fn=<MulBackward0>)\n",
      "-D_kl(T)    >> tensor(-0.5424, dtype=torch.float64, grad_fn=<MulBackward0>)\n",
      "Prob_edges  >> tensor(-53.3884, dtype=torch.float64, grad_fn=<SumBackward0>)\n",
      "Alpha_R_ri  >> tensor(-226.3452, dtype=torch.float64, grad_fn=<MulBackward0>)\n",
      "Alpha       >> tensor(-11.1828, dtype=torch.float64, grad_fn=<MulBackward0>)\n",
      "Alpha_R     >> tensor(8.8265, dtype=torch.float64, grad_fn=<MulBackward0>)\n",
      "P(q_ri)     >> tensor(240.6928, dtype=torch.float64, grad_fn=<MulBackward0>)\n",
      "P(q_phii)   >> tensor(897.6648, dtype=torch.float64, grad_fn=<MulBackward0>)\n",
      "ELBO >>>> tensor(830.6920, dtype=torch.float64, grad_fn=<AddBackward0>)\n",
      "Epoch 25 | LR: 0.10 | Total loss: -830.69 | Epoch time 0.10\n",
      "-D_kl(R)    >> tensor(-6.5258, dtype=torch.float64, grad_fn=<MulBackward0>)\n",
      "-D_kl(alpha)>> tensor(-0.5934, dtype=torch.float64, grad_fn=<MulBackward0>)\n",
      "-D_kl(T)    >> tensor(-0.5448, dtype=torch.float64, grad_fn=<MulBackward0>)\n",
      "Prob_edges  >> tensor(-58.6722, dtype=torch.float64, grad_fn=<SumBackward0>)\n",
      "Alpha_R_ri  >> tensor(-175.5577, dtype=torch.float64, grad_fn=<MulBackward0>)\n",
      "Alpha       >> tensor(-8.5985, dtype=torch.float64, grad_fn=<MulBackward0>)\n",
      "Alpha_R     >> tensor(3.1025, dtype=torch.float64, grad_fn=<MulBackward0>)\n",
      "P(q_ri)     >> tensor(263.0501, dtype=torch.float64, grad_fn=<MulBackward0>)\n",
      "P(q_phii)   >> tensor(979.2178, dtype=torch.float64, grad_fn=<MulBackward0>)\n",
      "ELBO >>>> tensor(982.5861, dtype=torch.float64, grad_fn=<AddBackward0>)\n",
      "Epoch 26 | LR: 0.10 | Total loss: -982.59 | Epoch time 0.11\n",
      "-D_kl(R)    >> tensor(-6.4219, dtype=torch.float64, grad_fn=<MulBackward0>)\n",
      "-D_kl(alpha)>> tensor(-0.6155, dtype=torch.float64, grad_fn=<MulBackward0>)\n",
      "-D_kl(T)    >> tensor(-0.5467, dtype=torch.float64, grad_fn=<MulBackward0>)\n",
      "Prob_edges  >> tensor(-66.4865, dtype=torch.float64, grad_fn=<SumBackward0>)\n",
      "Alpha_R_ri  >> tensor(-185.9183, dtype=torch.float64, grad_fn=<MulBackward0>)\n",
      "Alpha       >> tensor(-10.2693, dtype=torch.float64, grad_fn=<MulBackward0>)\n",
      "Alpha_R     >> tensor(7.1997, dtype=torch.float64, grad_fn=<MulBackward0>)\n",
      "P(q_ri)     >> tensor(219.6552, dtype=torch.float64, grad_fn=<MulBackward0>)\n",
      "P(q_phii)   >> tensor(1062.2016, dtype=torch.float64, grad_fn=<MulBackward0>)\n",
      "ELBO >>>> tensor(1002.4092, dtype=torch.float64, grad_fn=<AddBackward0>)\n",
      "Epoch 27 | LR: 0.10 | Total loss: -1002.41 | Epoch time 0.10\n",
      "-D_kl(R)    >> tensor(-6.4690, dtype=torch.float64, grad_fn=<MulBackward0>)\n",
      "-D_kl(alpha)>> tensor(-0.6168, dtype=torch.float64, grad_fn=<MulBackward0>)\n",
      "-D_kl(T)    >> tensor(-0.5511, dtype=torch.float64, grad_fn=<MulBackward0>)\n",
      "Prob_edges  >> tensor(-45.1636, dtype=torch.float64, grad_fn=<SumBackward0>)\n",
      "Alpha_R_ri  >> tensor(-196.3579, dtype=torch.float64, grad_fn=<MulBackward0>)\n",
      "Alpha       >> tensor(-8.4932, dtype=torch.float64, grad_fn=<MulBackward0>)\n",
      "Alpha_R     >> tensor(4.8784, dtype=torch.float64, grad_fn=<MulBackward0>)\n",
      "P(q_ri)     >> tensor(238.7112, dtype=torch.float64, grad_fn=<MulBackward0>)\n",
      "P(q_phii)   >> tensor(1094.3489, dtype=torch.float64, grad_fn=<MulBackward0>)\n",
      "ELBO >>>> tensor(1066.2191, dtype=torch.float64, grad_fn=<AddBackward0>)\n",
      "Epoch 28 | LR: 0.10 | Total loss: -1066.22 | Epoch time 0.12\n",
      "-D_kl(R)    >> tensor(-6.5708, dtype=torch.float64, grad_fn=<MulBackward0>)\n",
      "-D_kl(alpha)>> tensor(-0.6312, dtype=torch.float64, grad_fn=<MulBackward0>)\n",
      "-D_kl(T)    >> tensor(-0.5524, dtype=torch.float64, grad_fn=<MulBackward0>)\n",
      "Prob_edges  >> tensor(-68.6610, dtype=torch.float64, grad_fn=<SumBackward0>)\n",
      "Alpha_R_ri  >> tensor(-252.6667, dtype=torch.float64, grad_fn=<MulBackward0>)\n",
      "Alpha       >> tensor(-10.4134, dtype=torch.float64, grad_fn=<MulBackward0>)\n",
      "Alpha_R     >> tensor(7.9891, dtype=torch.float64, grad_fn=<MulBackward0>)\n",
      "P(q_ri)     >> tensor(259.3408, dtype=torch.float64, grad_fn=<MulBackward0>)\n",
      "P(q_phii)   >> tensor(1073.6814, dtype=torch.float64, grad_fn=<MulBackward0>)\n",
      "ELBO >>>> tensor(984.3373, dtype=torch.float64, grad_fn=<AddBackward0>)\n",
      "Epoch 29 | LR: 0.10 | Total loss: -984.34 | Epoch time 0.10\n",
      "-D_kl(R)    >> tensor(-6.3724, dtype=torch.float64, grad_fn=<MulBackward0>)\n",
      "-D_kl(alpha)>> tensor(-0.6459, dtype=torch.float64, grad_fn=<MulBackward0>)\n",
      "-D_kl(T)    >> tensor(-0.5564, dtype=torch.float64, grad_fn=<MulBackward0>)\n",
      "Prob_edges  >> tensor(-42.0875, dtype=torch.float64, grad_fn=<SumBackward0>)\n",
      "Alpha_R_ri  >> tensor(-255.0634, dtype=torch.float64, grad_fn=<MulBackward0>)\n",
      "Alpha       >> tensor(-7.1277, dtype=torch.float64, grad_fn=<MulBackward0>)\n",
      "Alpha_R     >> tensor(4.2737, dtype=torch.float64, grad_fn=<MulBackward0>)\n",
      "P(q_ri)     >> tensor(238.8591, dtype=torch.float64, grad_fn=<MulBackward0>)\n",
      "P(q_phii)   >> tensor(1138.2060, dtype=torch.float64, grad_fn=<MulBackward0>)\n",
      "ELBO >>>> tensor(1056.0225, dtype=torch.float64, grad_fn=<AddBackward0>)\n",
      "Epoch 30 | LR: 0.10 | Total loss: -1056.02 | Epoch time 0.13\n",
      "-D_kl(R)    >> tensor(-6.0621, dtype=torch.float64, grad_fn=<MulBackward0>)\n",
      "-D_kl(alpha)>> tensor(-0.6832, dtype=torch.float64, grad_fn=<MulBackward0>)\n",
      "-D_kl(T)    >> tensor(-0.5583, dtype=torch.float64, grad_fn=<MulBackward0>)\n",
      "Prob_edges  >> tensor(-48.6632, dtype=torch.float64, grad_fn=<SumBackward0>)\n",
      "Alpha_R_ri  >> tensor(-278.3765, dtype=torch.float64, grad_fn=<MulBackward0>)\n",
      "Alpha       >> tensor(-16.0726, dtype=torch.float64, grad_fn=<MulBackward0>)\n",
      "Alpha_R     >> tensor(17.7404, dtype=torch.float64, grad_fn=<MulBackward0>)\n",
      "P(q_ri)     >> tensor(200.9975, dtype=torch.float64, grad_fn=<MulBackward0>)\n",
      "P(q_phii)   >> tensor(1195.3681, dtype=torch.float64, grad_fn=<MulBackward0>)\n",
      "ELBO >>>> tensor(1036.7602, dtype=torch.float64, grad_fn=<AddBackward0>)\n",
      "Epoch 31 | LR: 0.10 | Total loss: -1036.76 | Epoch time 0.10\n",
      "-D_kl(R)    >> tensor(-6.5027, dtype=torch.float64, grad_fn=<MulBackward0>)\n",
      "-D_kl(alpha)>> tensor(-0.6492, dtype=torch.float64, grad_fn=<MulBackward0>)\n",
      "-D_kl(T)    >> tensor(-0.5606, dtype=torch.float64, grad_fn=<MulBackward0>)\n",
      "Prob_edges  >> tensor(-61.1693, dtype=torch.float64, grad_fn=<SumBackward0>)\n",
      "Alpha_R_ri  >> tensor(-171.2237, dtype=torch.float64, grad_fn=<MulBackward0>)\n",
      "Alpha       >> tensor(-8.4756, dtype=torch.float64, grad_fn=<MulBackward0>)\n",
      "Alpha_R     >> tensor(4.4208, dtype=torch.float64, grad_fn=<MulBackward0>)\n",
      "P(q_ri)     >> tensor(237.3248, dtype=torch.float64, grad_fn=<MulBackward0>)\n",
      "P(q_phii)   >> tensor(1219.7021, dtype=torch.float64, grad_fn=<MulBackward0>)\n",
      "ELBO >>>> tensor(1199.2564, dtype=torch.float64, grad_fn=<AddBackward0>)\n",
      "Epoch 32 | LR: 0.10 | Total loss: -1199.26 | Epoch time 0.11\n",
      "-D_kl(R)    >> tensor(-6.4259, dtype=torch.float64, grad_fn=<MulBackward0>)\n",
      "-D_kl(alpha)>> tensor(-0.6622, dtype=torch.float64, grad_fn=<MulBackward0>)\n",
      "-D_kl(T)    >> tensor(-0.5653, dtype=torch.float64, grad_fn=<MulBackward0>)\n",
      "Prob_edges  >> tensor(-53.0728, dtype=torch.float64, grad_fn=<SumBackward0>)\n",
      "Alpha_R_ri  >> tensor(-192.6232, dtype=torch.float64, grad_fn=<MulBackward0>)\n",
      "Alpha       >> tensor(-11.2635, dtype=torch.float64, grad_fn=<MulBackward0>)\n",
      "Alpha_R     >> tensor(8.0918, dtype=torch.float64, grad_fn=<MulBackward0>)\n",
      "P(q_ri)     >> tensor(231.9555, dtype=torch.float64, grad_fn=<MulBackward0>)\n",
      "P(q_phii)   >> tensor(1261.5320, dtype=torch.float64, grad_fn=<MulBackward0>)\n",
      "ELBO >>>> tensor(1219.6852, dtype=torch.float64, grad_fn=<AddBackward0>)\n",
      "Epoch 33 | LR: 0.10 | Total loss: -1219.69 | Epoch time 0.11\n"
     ]
    },
    {
     "name": "stdout",
     "output_type": "stream",
     "text": [
      "-D_kl(R)    >> tensor(-6.5155, dtype=torch.float64, grad_fn=<MulBackward0>)\n",
      "-D_kl(alpha)>> tensor(-0.6605, dtype=torch.float64, grad_fn=<MulBackward0>)\n",
      "-D_kl(T)    >> tensor(-0.5677, dtype=torch.float64, grad_fn=<MulBackward0>)\n",
      "Prob_edges  >> tensor(-52.5331, dtype=torch.float64, grad_fn=<SumBackward0>)\n",
      "Alpha_R_ri  >> tensor(-152.3825, dtype=torch.float64, grad_fn=<MulBackward0>)\n",
      "Alpha       >> tensor(-9.6725, dtype=torch.float64, grad_fn=<MulBackward0>)\n",
      "Alpha_R     >> tensor(5.4615, dtype=torch.float64, grad_fn=<MulBackward0>)\n",
      "P(q_ri)     >> tensor(234.3648, dtype=torch.float64, grad_fn=<MulBackward0>)\n",
      "P(q_phii)   >> tensor(1347.5063, dtype=torch.float64, grad_fn=<MulBackward0>)\n",
      "ELBO >>>> tensor(1350.3499, dtype=torch.float64, grad_fn=<AddBackward0>)\n",
      "Epoch 34 | LR: 0.10 | Total loss: -1350.35 | Epoch time 0.13\n",
      "-D_kl(R)    >> tensor(-6.6908, dtype=torch.float64, grad_fn=<MulBackward0>)\n",
      "-D_kl(alpha)>> tensor(-0.6616, dtype=torch.float64, grad_fn=<MulBackward0>)\n",
      "-D_kl(T)    >> tensor(-0.5708, dtype=torch.float64, grad_fn=<MulBackward0>)\n",
      "Prob_edges  >> tensor(-66.7612, dtype=torch.float64, grad_fn=<SumBackward0>)\n",
      "Alpha_R_ri  >> tensor(-239.0244, dtype=torch.float64, grad_fn=<MulBackward0>)\n",
      "Alpha       >> tensor(-13.6320, dtype=torch.float64, grad_fn=<MulBackward0>)\n",
      "Alpha_R     >> tensor(11.0785, dtype=torch.float64, grad_fn=<MulBackward0>)\n",
      "P(q_ri)     >> tensor(245.9767, dtype=torch.float64, grad_fn=<MulBackward0>)\n",
      "P(q_phii)   >> tensor(1352.0243, dtype=torch.float64, grad_fn=<MulBackward0>)\n",
      "ELBO >>>> tensor(1261.4709, dtype=torch.float64, grad_fn=<AddBackward0>)\n",
      "Epoch 35 | LR: 0.10 | Total loss: -1261.47 | Epoch time 0.10\n",
      "-D_kl(R)    >> tensor(-6.7379, dtype=torch.float64, grad_fn=<MulBackward0>)\n",
      "-D_kl(alpha)>> tensor(-0.6506, dtype=torch.float64, grad_fn=<MulBackward0>)\n",
      "-D_kl(T)    >> tensor(-0.5766, dtype=torch.float64, grad_fn=<MulBackward0>)\n",
      "Prob_edges  >> tensor(-57.2611, dtype=torch.float64, grad_fn=<SumBackward0>)\n",
      "Alpha_R_ri  >> tensor(-156.7678, dtype=torch.float64, grad_fn=<MulBackward0>)\n",
      "Alpha       >> tensor(-7.6244, dtype=torch.float64, grad_fn=<MulBackward0>)\n",
      "Alpha_R     >> tensor(2.6465, dtype=torch.float64, grad_fn=<MulBackward0>)\n",
      "P(q_ri)     >> tensor(239.8316, dtype=torch.float64, grad_fn=<MulBackward0>)\n",
      "P(q_phii)   >> tensor(1373.9491, dtype=torch.float64, grad_fn=<MulBackward0>)\n",
      "ELBO >>>> tensor(1374.9730, dtype=torch.float64, grad_fn=<AddBackward0>)\n",
      "Epoch 36 | LR: 0.10 | Total loss: -1374.97 | Epoch time 0.29\n",
      "-D_kl(R)    >> tensor(-6.6449, dtype=torch.float64, grad_fn=<MulBackward0>)\n",
      "-D_kl(alpha)>> tensor(-0.6683, dtype=torch.float64, grad_fn=<MulBackward0>)\n",
      "-D_kl(T)    >> tensor(-0.5796, dtype=torch.float64, grad_fn=<MulBackward0>)\n",
      "Prob_edges  >> tensor(-58.3190, dtype=torch.float64, grad_fn=<SumBackward0>)\n",
      "Alpha_R_ri  >> tensor(-267.4289, dtype=torch.float64, grad_fn=<MulBackward0>)\n",
      "Alpha       >> tensor(-10.6090, dtype=torch.float64, grad_fn=<MulBackward0>)\n",
      "Alpha_R     >> tensor(9.7359, dtype=torch.float64, grad_fn=<MulBackward0>)\n",
      "P(q_ri)     >> tensor(249.6996, dtype=torch.float64, grad_fn=<MulBackward0>)\n",
      "P(q_phii)   >> tensor(1424.0271, dtype=torch.float64, grad_fn=<MulBackward0>)\n",
      "ELBO >>>> tensor(1320.2876, dtype=torch.float64, grad_fn=<AddBackward0>)\n",
      "Epoch 37 | LR: 0.10 | Total loss: -1320.29 | Epoch time 0.13\n",
      "-D_kl(R)    >> tensor(-6.4311, dtype=torch.float64, grad_fn=<MulBackward0>)\n",
      "-D_kl(alpha)>> tensor(-0.6809, dtype=torch.float64, grad_fn=<MulBackward0>)\n",
      "-D_kl(T)    >> tensor(-0.5844, dtype=torch.float64, grad_fn=<MulBackward0>)\n",
      "Prob_edges  >> tensor(-63.0126, dtype=torch.float64, grad_fn=<SumBackward0>)\n",
      "Alpha_R_ri  >> tensor(-200.7403, dtype=torch.float64, grad_fn=<MulBackward0>)\n",
      "Alpha       >> tensor(-11.4811, dtype=torch.float64, grad_fn=<MulBackward0>)\n",
      "Alpha_R     >> tensor(8.5169, dtype=torch.float64, grad_fn=<MulBackward0>)\n",
      "P(q_ri)     >> tensor(259.7903, dtype=torch.float64, grad_fn=<MulBackward0>)\n",
      "P(q_phii)   >> tensor(1420.1097, dtype=torch.float64, grad_fn=<MulBackward0>)\n",
      "ELBO >>>> tensor(1387.7803, dtype=torch.float64, grad_fn=<AddBackward0>)\n",
      "Epoch 38 | LR: 0.10 | Total loss: -1387.78 | Epoch time 0.10\n",
      "-D_kl(R)    >> tensor(-6.4961, dtype=torch.float64, grad_fn=<MulBackward0>)\n",
      "-D_kl(alpha)>> tensor(-0.6763, dtype=torch.float64, grad_fn=<MulBackward0>)\n",
      "-D_kl(T)    >> tensor(-0.5877, dtype=torch.float64, grad_fn=<MulBackward0>)\n",
      "Prob_edges  >> tensor(-76.5291, dtype=torch.float64, grad_fn=<SumBackward0>)\n",
      "Alpha_R_ri  >> tensor(-209.9561, dtype=torch.float64, grad_fn=<MulBackward0>)\n",
      "Alpha       >> tensor(-6.8279, dtype=torch.float64, grad_fn=<MulBackward0>)\n",
      "Alpha_R     >> tensor(2.6630, dtype=torch.float64, grad_fn=<MulBackward0>)\n",
      "P(q_ri)     >> tensor(266.4565, dtype=torch.float64, grad_fn=<MulBackward0>)\n",
      "P(q_phii)   >> tensor(1571.0663, dtype=torch.float64, grad_fn=<MulBackward0>)\n",
      "ELBO >>>> tensor(1527.2602, dtype=torch.float64, grad_fn=<AddBackward0>)\n"
     ]
    },
    {
     "name": "stderr",
     "output_type": "stream",
     "text": [
      "../src/utils.py:124: UserWarning: cosh_dist has 0 in it!\n",
      "  warnings.warn(str('%s has 0 in it!' % variable))\n",
      "../src/utils.py:124: UserWarning: c has 0 in it!\n",
      "  warnings.warn(str('%s has 0 in it!' % variable))\n",
      "../src/utils.py:124: UserWarning: temp1 has 0 in it!\n",
      "  warnings.warn(str('%s has 0 in it!' % variable))\n",
      "sys:1: RuntimeWarning: Traceback of forward call that caused the error:\n",
      "  File \"/home/mo/anaconda3/lib/python3.7/runpy.py\", line 193, in _run_module_as_main\n",
      "    \"__main__\", mod_spec)\n",
      "  File \"/home/mo/anaconda3/lib/python3.7/runpy.py\", line 85, in _run_code\n",
      "    exec(code, run_globals)\n",
      "  File \"/home/mo/anaconda3/lib/python3.7/site-packages/ipykernel_launcher.py\", line 16, in <module>\n",
      "    app.launch_new_instance()\n",
      "  File \"/home/mo/anaconda3/lib/python3.7/site-packages/traitlets/config/application.py\", line 658, in launch_instance\n",
      "    app.start()\n",
      "  File \"/home/mo/anaconda3/lib/python3.7/site-packages/ipykernel/kernelapp.py\", line 505, in start\n",
      "    self.io_loop.start()\n",
      "  File \"/home/mo/anaconda3/lib/python3.7/site-packages/tornado/platform/asyncio.py\", line 148, in start\n",
      "    self.asyncio_loop.run_forever()\n",
      "  File \"/home/mo/anaconda3/lib/python3.7/asyncio/base_events.py\", line 539, in run_forever\n",
      "    self._run_once()\n",
      "  File \"/home/mo/anaconda3/lib/python3.7/asyncio/base_events.py\", line 1775, in _run_once\n",
      "    handle._run()\n",
      "  File \"/home/mo/anaconda3/lib/python3.7/asyncio/events.py\", line 88, in _run\n",
      "    self._context.run(self._callback, *self._args)\n",
      "  File \"/home/mo/anaconda3/lib/python3.7/site-packages/tornado/ioloop.py\", line 690, in <lambda>\n",
      "    lambda f: self._run_callback(functools.partial(callback, future))\n",
      "  File \"/home/mo/anaconda3/lib/python3.7/site-packages/tornado/ioloop.py\", line 743, in _run_callback\n",
      "    ret = callback()\n",
      "  File \"/home/mo/anaconda3/lib/python3.7/site-packages/tornado/gen.py\", line 787, in inner\n",
      "    self.run()\n",
      "  File \"/home/mo/anaconda3/lib/python3.7/site-packages/tornado/gen.py\", line 748, in run\n",
      "    yielded = self.gen.send(value)\n",
      "  File \"/home/mo/anaconda3/lib/python3.7/site-packages/ipykernel/kernelbase.py\", line 378, in dispatch_queue\n",
      "    yield self.process_one()\n",
      "  File \"/home/mo/anaconda3/lib/python3.7/site-packages/tornado/gen.py\", line 225, in wrapper\n",
      "    runner = Runner(result, future, yielded)\n",
      "  File \"/home/mo/anaconda3/lib/python3.7/site-packages/tornado/gen.py\", line 714, in __init__\n",
      "    self.run()\n",
      "  File \"/home/mo/anaconda3/lib/python3.7/site-packages/tornado/gen.py\", line 748, in run\n",
      "    yielded = self.gen.send(value)\n",
      "  File \"/home/mo/anaconda3/lib/python3.7/site-packages/ipykernel/kernelbase.py\", line 365, in process_one\n",
      "    yield gen.maybe_future(dispatch(*args))\n",
      "  File \"/home/mo/anaconda3/lib/python3.7/site-packages/tornado/gen.py\", line 209, in wrapper\n",
      "    yielded = next(result)\n",
      "  File \"/home/mo/anaconda3/lib/python3.7/site-packages/ipykernel/kernelbase.py\", line 272, in dispatch_shell\n",
      "    yield gen.maybe_future(handler(stream, idents, msg))\n",
      "  File \"/home/mo/anaconda3/lib/python3.7/site-packages/tornado/gen.py\", line 209, in wrapper\n",
      "    yielded = next(result)\n",
      "  File \"/home/mo/anaconda3/lib/python3.7/site-packages/ipykernel/kernelbase.py\", line 542, in execute_request\n",
      "    user_expressions, allow_stdin,\n",
      "  File \"/home/mo/anaconda3/lib/python3.7/site-packages/tornado/gen.py\", line 209, in wrapper\n",
      "    yielded = next(result)\n",
      "  File \"/home/mo/anaconda3/lib/python3.7/site-packages/ipykernel/ipkernel.py\", line 294, in do_execute\n",
      "    res = shell.run_cell(code, store_history=store_history, silent=silent)\n",
      "  File \"/home/mo/anaconda3/lib/python3.7/site-packages/ipykernel/zmqshell.py\", line 536, in run_cell\n",
      "    return super(ZMQInteractiveShell, self).run_cell(*args, **kwargs)\n",
      "  File \"/home/mo/anaconda3/lib/python3.7/site-packages/IPython/core/interactiveshell.py\", line 2854, in run_cell\n",
      "    raw_cell, store_history, silent, shell_futures)\n",
      "  File \"/home/mo/anaconda3/lib/python3.7/site-packages/IPython/core/interactiveshell.py\", line 2880, in _run_cell\n",
      "    return runner(coro)\n",
      "  File \"/home/mo/anaconda3/lib/python3.7/site-packages/IPython/core/async_helpers.py\", line 68, in _pseudo_sync_runner\n",
      "    coro.send(None)\n",
      "  File \"/home/mo/anaconda3/lib/python3.7/site-packages/IPython/core/interactiveshell.py\", line 3057, in run_cell_async\n",
      "    interactivity=interactivity, compiler=compiler, result=result)\n",
      "  File \"/home/mo/anaconda3/lib/python3.7/site-packages/IPython/core/interactiveshell.py\", line 3248, in run_ast_nodes\n",
      "    if (await self.run_code(code, result,  async_=asy)):\n",
      "  File \"/home/mo/anaconda3/lib/python3.7/site-packages/IPython/core/interactiveshell.py\", line 3325, in run_code\n",
      "    exec(code_obj, self.user_global_ns, self.user_ns)\n",
      "  File \"<ipython-input-12-0274d5090b06>\", line 2, in <module>\n",
      "    vi.train(dataloader, lrs=0.1, debug=True, epochs=50)\n",
      "  File \"../src/vi_hrg_approx.py\", line 438, in train\n",
      "    curr_loss = self.train_(epoch_counter, debug)\n",
      "  File \"../src/vi_hrg_approx.py\", line 374, in train_\n",
      "    loss = - self.elbo(idx1, idx2, data, debug)\n",
      "  File \"../src/vi_hrg_approx.py\", line 310, in elbo\n",
      "    p_raw = p_app_warn(warn_tensor(cosh_dist,'cosh_dist'), R_samples.expand(L,self.num_samples).t(), T_samples.expand(L,self.num_samples).t())\n",
      "  File \"../src/vi_hrg_approx.py\", line 298, in p_app_warn\n",
      "    temp1 = (2* warn_tensor(c, 'c')).pow(1./(2.*T))\n",
      "\n"
     ]
    },
    {
     "ename": "RuntimeError",
     "evalue": "Function 'PowBackward1' returned nan values in its 1th output.",
     "output_type": "error",
     "traceback": [
      "\u001b[0;31m---------------------------------------------------------------------------\u001b[0m",
      "\u001b[0;31mRuntimeError\u001b[0m                              Traceback (most recent call last)",
      "\u001b[0;32m<ipython-input-12-0274d5090b06>\u001b[0m in \u001b[0;36m<module>\u001b[0;34m\u001b[0m\n\u001b[1;32m      1\u001b[0m \u001b[0;32mwith\u001b[0m \u001b[0mautograd\u001b[0m\u001b[0;34m.\u001b[0m\u001b[0mdetect_anomaly\u001b[0m\u001b[0;34m(\u001b[0m\u001b[0;34m)\u001b[0m\u001b[0;34m:\u001b[0m\u001b[0;34m\u001b[0m\u001b[0;34m\u001b[0m\u001b[0m\n\u001b[0;32m----> 2\u001b[0;31m     \u001b[0mvi\u001b[0m\u001b[0;34m.\u001b[0m\u001b[0mtrain\u001b[0m\u001b[0;34m(\u001b[0m\u001b[0mdataloader\u001b[0m\u001b[0;34m,\u001b[0m \u001b[0mlrs\u001b[0m\u001b[0;34m=\u001b[0m\u001b[0;36m0.1\u001b[0m\u001b[0;34m,\u001b[0m \u001b[0mdebug\u001b[0m\u001b[0;34m=\u001b[0m\u001b[0;32mTrue\u001b[0m\u001b[0;34m,\u001b[0m \u001b[0mepochs\u001b[0m\u001b[0;34m=\u001b[0m\u001b[0;36m50\u001b[0m\u001b[0;34m)\u001b[0m\u001b[0;34m\u001b[0m\u001b[0;34m\u001b[0m\u001b[0m\n\u001b[0m",
      "\u001b[0;32m~/git/VIRGMo/src/vi_hrg_approx.py\u001b[0m in \u001b[0;36mtrain\u001b[0;34m(self, dataloader, optimizer, lrs, epochs, momentum, debug)\u001b[0m\n\u001b[1;32m    436\u001b[0m             \u001b[0mself\u001b[0m\u001b[0;34m.\u001b[0m\u001b[0moptimizer\u001b[0m\u001b[0;34m.\u001b[0m\u001b[0mlr\u001b[0m\u001b[0;34m=\u001b[0m\u001b[0mself\u001b[0m\u001b[0;34m.\u001b[0m\u001b[0mlrs\u001b[0m\u001b[0;34m\u001b[0m\u001b[0;34m\u001b[0m\u001b[0m\n\u001b[1;32m    437\u001b[0m             \u001b[0;32mfor\u001b[0m \u001b[0me\u001b[0m \u001b[0;32min\u001b[0m \u001b[0mrange\u001b[0m\u001b[0;34m(\u001b[0m\u001b[0mself\u001b[0m\u001b[0;34m.\u001b[0m\u001b[0mepochs\u001b[0m\u001b[0;34m)\u001b[0m\u001b[0;34m:\u001b[0m\u001b[0;34m\u001b[0m\u001b[0;34m\u001b[0m\u001b[0m\n\u001b[0;32m--> 438\u001b[0;31m                    \u001b[0mcurr_loss\u001b[0m \u001b[0;34m=\u001b[0m \u001b[0mself\u001b[0m\u001b[0;34m.\u001b[0m\u001b[0mtrain_\u001b[0m\u001b[0;34m(\u001b[0m\u001b[0mepoch_counter\u001b[0m\u001b[0;34m,\u001b[0m \u001b[0mdebug\u001b[0m\u001b[0;34m)\u001b[0m\u001b[0;34m\u001b[0m\u001b[0;34m\u001b[0m\u001b[0m\n\u001b[0m\u001b[1;32m    439\u001b[0m                    \u001b[0mepoch_counter\u001b[0m \u001b[0;34m+=\u001b[0m\u001b[0;36m1\u001b[0m\u001b[0;34m\u001b[0m\u001b[0;34m\u001b[0m\u001b[0m\n\u001b[1;32m    440\u001b[0m                    \u001b[0mself\u001b[0m\u001b[0;34m.\u001b[0m\u001b[0mloss_list\u001b[0m\u001b[0;34m.\u001b[0m\u001b[0mappend\u001b[0m\u001b[0;34m(\u001b[0m\u001b[0mcurr_loss\u001b[0m\u001b[0;34m)\u001b[0m\u001b[0;34m\u001b[0m\u001b[0;34m\u001b[0m\u001b[0m\n",
      "\u001b[0;32m~/git/VIRGMo/src/vi_hrg_approx.py\u001b[0m in \u001b[0;36mtrain_\u001b[0;34m(self, epoch_num, debug)\u001b[0m\n\u001b[1;32m    374\u001b[0m             \u001b[0mloss\u001b[0m \u001b[0;34m=\u001b[0m \u001b[0;34m-\u001b[0m \u001b[0mself\u001b[0m\u001b[0;34m.\u001b[0m\u001b[0melbo\u001b[0m\u001b[0;34m(\u001b[0m\u001b[0midx1\u001b[0m\u001b[0;34m,\u001b[0m \u001b[0midx2\u001b[0m\u001b[0;34m,\u001b[0m \u001b[0mdata\u001b[0m\u001b[0;34m,\u001b[0m \u001b[0mdebug\u001b[0m\u001b[0;34m)\u001b[0m\u001b[0;34m\u001b[0m\u001b[0;34m\u001b[0m\u001b[0m\n\u001b[1;32m    375\u001b[0m             \u001b[0mself\u001b[0m\u001b[0;34m.\u001b[0m\u001b[0moptimizer\u001b[0m\u001b[0;34m.\u001b[0m\u001b[0mzero_grad\u001b[0m\u001b[0;34m(\u001b[0m\u001b[0;34m)\u001b[0m\u001b[0;34m\u001b[0m\u001b[0;34m\u001b[0m\u001b[0m\n\u001b[0;32m--> 376\u001b[0;31m             \u001b[0mloss\u001b[0m\u001b[0;34m.\u001b[0m\u001b[0mbackward\u001b[0m\u001b[0;34m(\u001b[0m\u001b[0mretain_graph\u001b[0m\u001b[0;34m=\u001b[0m\u001b[0;32mFalse\u001b[0m\u001b[0;34m)\u001b[0m\u001b[0;34m\u001b[0m\u001b[0;34m\u001b[0m\u001b[0m\n\u001b[0m\u001b[1;32m    377\u001b[0m             \u001b[0mself\u001b[0m\u001b[0;34m.\u001b[0m\u001b[0moptimizer\u001b[0m\u001b[0;34m.\u001b[0m\u001b[0mstep\u001b[0m\u001b[0;34m(\u001b[0m\u001b[0;34m)\u001b[0m\u001b[0;34m\u001b[0m\u001b[0;34m\u001b[0m\u001b[0m\n\u001b[1;32m    378\u001b[0m             \u001b[0mtotal_loss\u001b[0m \u001b[0;34m+=\u001b[0m \u001b[0mloss\u001b[0m\u001b[0;34m\u001b[0m\u001b[0;34m\u001b[0m\u001b[0m\n",
      "\u001b[0;32m~/anaconda3/lib/python3.7/site-packages/torch/tensor.py\u001b[0m in \u001b[0;36mbackward\u001b[0;34m(self, gradient, retain_graph, create_graph)\u001b[0m\n\u001b[1;32m    105\u001b[0m                 \u001b[0mproducts\u001b[0m\u001b[0;34m.\u001b[0m \u001b[0mDefaults\u001b[0m \u001b[0mto\u001b[0m\u001b[0;31m \u001b[0m\u001b[0;31m`\u001b[0m\u001b[0;31m`\u001b[0m\u001b[0;32mFalse\u001b[0m\u001b[0;31m`\u001b[0m\u001b[0;31m`\u001b[0m\u001b[0;34m.\u001b[0m\u001b[0;34m\u001b[0m\u001b[0;34m\u001b[0m\u001b[0m\n\u001b[1;32m    106\u001b[0m         \"\"\"\n\u001b[0;32m--> 107\u001b[0;31m         \u001b[0mtorch\u001b[0m\u001b[0;34m.\u001b[0m\u001b[0mautograd\u001b[0m\u001b[0;34m.\u001b[0m\u001b[0mbackward\u001b[0m\u001b[0;34m(\u001b[0m\u001b[0mself\u001b[0m\u001b[0;34m,\u001b[0m \u001b[0mgradient\u001b[0m\u001b[0;34m,\u001b[0m \u001b[0mretain_graph\u001b[0m\u001b[0;34m,\u001b[0m \u001b[0mcreate_graph\u001b[0m\u001b[0;34m)\u001b[0m\u001b[0;34m\u001b[0m\u001b[0;34m\u001b[0m\u001b[0m\n\u001b[0m\u001b[1;32m    108\u001b[0m \u001b[0;34m\u001b[0m\u001b[0m\n\u001b[1;32m    109\u001b[0m     \u001b[0;32mdef\u001b[0m \u001b[0mregister_hook\u001b[0m\u001b[0;34m(\u001b[0m\u001b[0mself\u001b[0m\u001b[0;34m,\u001b[0m \u001b[0mhook\u001b[0m\u001b[0;34m)\u001b[0m\u001b[0;34m:\u001b[0m\u001b[0;34m\u001b[0m\u001b[0;34m\u001b[0m\u001b[0m\n",
      "\u001b[0;32m~/anaconda3/lib/python3.7/site-packages/torch/autograd/__init__.py\u001b[0m in \u001b[0;36mbackward\u001b[0;34m(tensors, grad_tensors, retain_graph, create_graph, grad_variables)\u001b[0m\n\u001b[1;32m     91\u001b[0m     Variable._execution_engine.run_backward(\n\u001b[1;32m     92\u001b[0m         \u001b[0mtensors\u001b[0m\u001b[0;34m,\u001b[0m \u001b[0mgrad_tensors\u001b[0m\u001b[0;34m,\u001b[0m \u001b[0mretain_graph\u001b[0m\u001b[0;34m,\u001b[0m \u001b[0mcreate_graph\u001b[0m\u001b[0;34m,\u001b[0m\u001b[0;34m\u001b[0m\u001b[0;34m\u001b[0m\u001b[0m\n\u001b[0;32m---> 93\u001b[0;31m         allow_unreachable=True)  # allow_unreachable flag\n\u001b[0m\u001b[1;32m     94\u001b[0m \u001b[0;34m\u001b[0m\u001b[0m\n\u001b[1;32m     95\u001b[0m \u001b[0;34m\u001b[0m\u001b[0m\n",
      "\u001b[0;31mRuntimeError\u001b[0m: Function 'PowBackward1' returned nan values in its 1th output."
     ]
    }
   ],
   "source": [
    "with autograd.detect_anomaly():\n",
    "    vi.train(dataloader, lrs=0.1, debug=True, epochs=50)"
   ]
  },
  {
   "cell_type": "code",
   "execution_count": null,
   "metadata": {},
   "outputs": [],
   "source": [
    "vi.alpha_conc.exp(), vi.alpha_scale.exp()"
   ]
  },
  {
   "cell_type": "code",
   "execution_count": null,
   "metadata": {},
   "outputs": [],
   "source": [
    "vi.rs_loc, vi.rs_scale.exp()"
   ]
  },
  {
   "cell_type": "code",
   "execution_count": null,
   "metadata": {},
   "outputs": [],
   "source": [
    "post_r = Radius(vi.rs_loc, vi.rs_scale.exp(), torch.ones([N]).double()*R)"
   ]
  },
  {
   "cell_type": "code",
   "execution_count": null,
   "metadata": {},
   "outputs": [],
   "source": []
  },
  {
   "cell_type": "code",
   "execution_count": null,
   "metadata": {},
   "outputs": [],
   "source": [
    "Radius(vi.rs_loc, vi.rs_scale.exp(), torch.ones([N])*R).entropy()"
   ]
  },
  {
   "cell_type": "code",
   "execution_count": null,
   "metadata": {},
   "outputs": [],
   "source": [
    "vi.r_i_samples"
   ]
  },
  {
   "cell_type": "code",
   "execution_count": null,
   "metadata": {},
   "outputs": [],
   "source": [
    "vi.R_conc.exp(), vi.R_scale.exp()"
   ]
  },
  {
   "cell_type": "code",
   "execution_count": null,
   "metadata": {},
   "outputs": [],
   "source": [
    "p_hd_ = lambda d,R,T: (1.+((d-R)/(2.*T)).exp()).reciprocal()\n",
    "phd = lambda d,R,T: 0.5 + 0.5*(-(d-R)/(4*T)).tanh()"
   ]
  },
  {
   "cell_type": "code",
   "execution_count": null,
   "metadata": {},
   "outputs": [],
   "source": [
    "p_hd_(torch.tensor(-np.inf),R,T)"
   ]
  },
  {
   "cell_type": "code",
   "execution_count": null,
   "metadata": {},
   "outputs": [],
   "source": [
    "phd(torch.tensor(5.1),R,T)"
   ]
  },
  {
   "cell_type": "code",
   "execution_count": null,
   "metadata": {},
   "outputs": [],
   "source": [
    "torch.tensor([0.1,10.0]).log()"
   ]
  },
  {
   "cell_type": "code",
   "execution_count": null,
   "metadata": {},
   "outputs": [],
   "source": [
    "x = torch.arange(0.,1.,.01)\n",
    "plt.plot(x, torch.sigmoid(logit(x)))\n",
    "plt.show()"
   ]
  },
  {
   "cell_type": "code",
   "execution_count": null,
   "metadata": {},
   "outputs": [],
   "source": [
    "logit(torch.tensor(0.))"
   ]
  },
  {
   "cell_type": "code",
   "execution_count": null,
   "metadata": {},
   "outputs": [],
   "source": [
    "l, n, m = 3, 4, 5\n",
    "broadcast = torch.ones([l,n])"
   ]
  },
  {
   "cell_type": "code",
   "execution_count": null,
   "metadata": {},
   "outputs": [],
   "source": [
    "torch.rand(m).expand(n,m).t()"
   ]
  },
  {
   "cell_type": "code",
   "execution_count": null,
   "metadata": {},
   "outputs": [],
   "source": [
    "torch.arange(n).expand(m,n)"
   ]
  },
  {
   "cell_type": "code",
   "execution_count": null,
   "metadata": {},
   "outputs": [],
   "source": [
    "torch.tensor(0.).mean()"
   ]
  },
  {
   "cell_type": "code",
   "execution_count": null,
   "metadata": {},
   "outputs": [],
   "source": [
    "arcosh = lambda x: (torch.clamp(x, min=1.) + (torch.clamp(x, min=1.)**2 - 1).sqrt())\n",
    "arcosh(torch.arange(0.,2., .1))"
   ]
  },
  {
   "cell_type": "code",
   "execution_count": null,
   "metadata": {},
   "outputs": [],
   "source": [
    "torch.clamp(x, min=1.)"
   ]
  },
  {
   "cell_type": "code",
   "execution_count": null,
   "metadata": {},
   "outputs": [],
   "source": [
    "np.log(5)"
   ]
  },
  {
   "cell_type": "code",
   "execution_count": null,
   "metadata": {},
   "outputs": [],
   "source": []
  }
 ],
 "metadata": {
  "@webio": {
   "lastCommId": null,
   "lastKernelId": null
  },
  "kernelspec": {
   "display_name": "Python 3",
   "language": "python",
   "name": "python3"
  },
  "language_info": {
   "codemirror_mode": {
    "name": "ipython",
    "version": 3
   },
   "file_extension": ".py",
   "mimetype": "text/x-python",
   "name": "python",
   "nbconvert_exporter": "python",
   "pygments_lexer": "ipython3",
   "version": "3.7.3"
  }
 },
 "nbformat": 4,
 "nbformat_minor": 2
}
