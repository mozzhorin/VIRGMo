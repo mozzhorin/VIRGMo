{
 "cells": [
  {
   "cell_type": "code",
   "execution_count": 1,
   "metadata": {},
   "outputs": [],
   "source": [
    "import sys\n",
    "sys.path.append('../src/')\n",
    "from vi_hrg_gamma import *\n",
    "from utils import c2d, hyperdist, p_hd, polar2cart, warn_tensor\n",
    "from torch import autograd"
   ]
  },
  {
   "cell_type": "code",
   "execution_count": 2,
   "metadata": {},
   "outputs": [],
   "source": [
    "def noise_r(x, R, rel_var=0.1):\n",
    "    rs = torch.distributions.normal.Normal(x, R*rel_var).sample() \n",
    "    return torch.where(rs>R, torch.ones(rs.size()).double()*R*0.999, rs)"
   ]
  },
  {
   "cell_type": "code",
   "execution_count": 3,
   "metadata": {},
   "outputs": [],
   "source": [
    "def noise_phi(x, rel_var=0.1):\n",
    "    phis = torch.distributions.normal.Normal(x, 2*np.pi*rel_var).sample()\n",
    "    return phis % (2*np.pi)"
   ]
  },
  {
   "cell_type": "code",
   "execution_count": 4,
   "metadata": {},
   "outputs": [],
   "source": [
    "logit = lambda x: (x/(1-x)).log()"
   ]
  },
  {
   "cell_type": "code",
   "execution_count": 5,
   "metadata": {},
   "outputs": [],
   "source": [
    "def grad_transform(grad):\n",
    "    return 2*np.pi*grad/360\n",
    "\n",
    "def plot_embedding(coord_file, links_file, data_file='../data/EBA_Pi.csv'):\n",
    "    df_coord = pd.read_csv(coord_file, sep='\\t', header=None)\n",
    "    df_links = pd.read_csv(links_file, sep='\\t', header=None)\n",
    "    df_pi = pd.read_csv(data_file)\n",
    "    col_coord = ['id', 'r', 'phi']\n",
    "    df_coord.columns=col_coord \n",
    "    df_coord['phi'] = grad_transform(df_coord['phi'])\n",
    "    banks = df_pi['bank_id'].unique()\n",
    "    assets = df_pi['asset'].unique()\n",
    "    df_banks = df_coord[df_coord['id'].isin(banks)]\n",
    "    df_assets = df_coord[df_coord['id'].isin(assets)]\n",
    "    banks_coord = np.array(df_banks)\n",
    "    assets_coord = np.array(df_assets)\n",
    "    nodes_coord = np.array(df_coord)\n",
    "    links = np.array(df_links)\n",
    "    \n",
    "    fig = plt.figure(figsize=(12,12))\n",
    "    ax = plt.subplot(111, projection='polar')\n",
    "    b = ax.scatter(banks_coord[:,2], banks_coord[:,1], label='banks', color='red')\n",
    "    a = ax.scatter(assets_coord[:,2], assets_coord[:,1], label='assets', color='blue')\n",
    "    for i in links:\n",
    "        n = np.where(df_coord['id']==i[0])[0].item()\n",
    "        m = np.where(df_coord['id']==i[1])[0].item()\n",
    "        ax.plot(nodes_coord[[n,m],2], nodes_coord[[n,m],1], color='gray', alpha=0.05)\n",
    "    ax.set_rmax(df_coord['r'].max()*1.02)\n",
    "    ax.set_rticks([]) \n",
    "    ax.legend()\n",
    "    plt.show()   "
   ]
  },
  {
   "cell_type": "code",
   "execution_count": 6,
   "metadata": {},
   "outputs": [
    {
     "data": {
      "text/plain": [
       "tensor([[0., 1., 1., 1., 1., 1., 1.],\n",
       "        [1., 0., 0., 0., 0., 0., 0.],\n",
       "        [1., 0., 0., 0., 0., 0., 0.],\n",
       "        [1., 0., 0., 0., 0., 0., 0.],\n",
       "        [1., 0., 0., 0., 0., 0., 0.],\n",
       "        [1., 0., 0., 0., 0., 0., 0.],\n",
       "        [1., 0., 0., 0., 0., 0., 0.]])"
      ]
     },
     "execution_count": 6,
     "metadata": {},
     "output_type": "execute_result"
    }
   ],
   "source": [
    "A_ = torch.zeros(7,7)\n",
    "A_[1:,0]=1.\n",
    "A_[0,1:]=1.\n",
    "A_"
   ]
  },
  {
   "cell_type": "code",
   "execution_count": 7,
   "metadata": {},
   "outputs": [
    {
     "data": {
      "image/png": "[encoded data removed]",
      "text/plain": [
       "<Figure size 432x432 with 2 Axes>"
      ]
     },
     "metadata": {
      "needs_background": "light"
     },
     "output_type": "display_data"
    },
    {
     "data": {
      "image/png": "[encoded data removed]",
      "text/plain": [
       "<Figure size 432x432 with 1 Axes>"
      ]
     },
     "metadata": {
      "needs_background": "light"
     },
     "output_type": "display_data"
    }
   ],
   "source": [
    "\n",
    "R = torch.tensor([5.0]).double()\n",
    "alpha = 1.1\n",
    "T = 0.1\n",
    "\n",
    "G = HRG(R=R, alpha=alpha, T=T)\n",
    "\n",
    "r = torch.cat((torch.tensor([.0]).double(),\n",
    "               torch.ones(6).double()*R*0.8), dim=0)\n",
    "#r = torch.cat((r, torch.ones(12)*.99*R), dim=0)\n",
    "theta = torch.cat((torch.tensor([.0]),\n",
    "                     torch.arange(0,2*np.pi,np.pi/3)), dim=0)\n",
    "#theta = torch.cat((theta,\n",
    "#                     torch.arange(np.pi/12,2*np.pi,np.pi/6)), dim=0)\n",
    "\n",
    "N = len(r)\n",
    "r_, th_, A_ = G.generate(N, r, theta)\n",
    "G.show()\n",
    "G.plot()"
   ]
  },
  {
   "cell_type": "code",
   "execution_count": 8,
   "metadata": {},
   "outputs": [
    {
     "data": {
      "text/plain": [
       "torch.Size([7, 3])"
      ]
     },
     "execution_count": 8,
     "metadata": {},
     "output_type": "execute_result"
    }
   ],
   "source": [
    "r_loc_init = logit(noise_r(r_, R, rel_var=0.05)/R)*R\n",
    "r_scale_init = torch.ones([N]).double()\n",
    "phi_loc_init = torch.cat((polar2cart(1, noise_phi(th_, 0.02)),  torch.zeros([N,1]).double()), dim=-1)\n",
    "phi_loc_init.shape"
   ]
  },
  {
   "cell_type": "code",
   "execution_count": 9,
   "metadata": {},
   "outputs": [],
   "source": [
    "R_conc_init = torch.tensor(1.).log()\n",
    "R_scale_init = torch.tensor(1.).log()\n",
    "alpha_conc_init = torch.tensor(.5).log()\n",
    "alpha_scale_init = torch.tensor(.5).log()\n",
    "T_init = torch.tensor([0.1,10.]).log()"
   ]
  },
  {
   "cell_type": "code",
   "execution_count": 10,
   "metadata": {},
   "outputs": [],
   "source": [
    "dataloader = DataLoader(EdgesDataset(A_), batch_size=49, shuffle=True, num_workers=0)\n",
    "vi = VI_HRG(7,20, init_values={'rs_loc':r_loc_init,\n",
    "                                'rs_scale':r_scale_init,\n",
    "                              'phis_loc':phi_loc_init,\n",
    "                              'phis_scale':None, \n",
    "                              'R_conc':R_conc_init, \n",
    "                              'R_scale':R_scale_init,\n",
    "                              'alpha_conc':alpha_conc_init,\n",
    "                              'alpha_scale':alpha_scale_init,\n",
    "                              'T':T_init})\n",
    "vi.dataloader = dataloader\n",
    "vi.optimizer = torch.optim.RMSprop(vi.parameters())"
   ]
  },
  {
   "cell_type": "code",
   "execution_count": 11,
   "metadata": {
    "scrolled": false
   },
   "outputs": [
    {
     "name": "stderr",
     "output_type": "stream",
     "text": [
      "../src/utils.py:120: UserWarning: dist_ has NaN in it!\n",
      "  warnings.warn(str('%s has NaN in it!' % variable))\n",
      "../src/utils.py:126: UserWarning: dist_ has 1 in it!\n",
      "  warnings.warn(str('%s has 1 in it!' % variable))\n",
      "../src/utils.py:120: UserWarning: dist has NaN in it!\n",
      "  warnings.warn(str('%s has NaN in it!' % variable))\n",
      "../src/utils.py:120: UserWarning: p_ has NaN in it!\n",
      "  warnings.warn(str('%s has NaN in it!' % variable))\n",
      "../src/utils.py:124: UserWarning: p_ has 0 in it!\n",
      "  warnings.warn(str('%s has 0 in it!' % variable))\n",
      "../src/utils.py:126: UserWarning: p_ has 1 in it!\n",
      "  warnings.warn(str('%s has 1 in it!' % variable))\n",
      "../src/utils.py:120: UserWarning: p_dist has NaN in it!\n",
      "  warnings.warn(str('%s has NaN in it!' % variable))\n",
      "../src/utils.py:120: UserWarning: log_pA has NaN in it!\n",
      "  warnings.warn(str('%s has NaN in it!' % variable))\n"
     ]
    },
    {
     "ename": "RuntimeError",
     "evalue": "Function 'DivBackward0' returned nan values in its 1th output.",
     "output_type": "error",
     "traceback": [
      "\u001b[0;31m---------------------------------------------------------------------------\u001b[0m",
      "\u001b[0;31mRuntimeError\u001b[0m                              Traceback (most recent call last)",
      "\u001b[0;32m<ipython-input-11-3b92993c549a>\u001b[0m in \u001b[0;36m<module>\u001b[0;34m\u001b[0m\n\u001b[1;32m      5\u001b[0m         \u001b[0mloss\u001b[0m \u001b[0;34m=\u001b[0m \u001b[0;34m-\u001b[0m \u001b[0mvi\u001b[0m\u001b[0;34m.\u001b[0m\u001b[0melbo\u001b[0m\u001b[0;34m(\u001b[0m\u001b[0midx1\u001b[0m\u001b[0;34m,\u001b[0m \u001b[0midx2\u001b[0m\u001b[0;34m,\u001b[0m \u001b[0mdata\u001b[0m\u001b[0;34m)\u001b[0m\u001b[0;34m\u001b[0m\u001b[0m\n\u001b[1;32m      6\u001b[0m         \u001b[0mvi\u001b[0m\u001b[0;34m.\u001b[0m\u001b[0moptimizer\u001b[0m\u001b[0;34m.\u001b[0m\u001b[0mzero_grad\u001b[0m\u001b[0;34m(\u001b[0m\u001b[0;34m)\u001b[0m\u001b[0;34m\u001b[0m\u001b[0m\n\u001b[0;32m----> 7\u001b[0;31m         \u001b[0mloss\u001b[0m\u001b[0;34m.\u001b[0m\u001b[0mbackward\u001b[0m\u001b[0;34m(\u001b[0m\u001b[0;34m)\u001b[0m\u001b[0;34m\u001b[0m\u001b[0m\n\u001b[0m\u001b[1;32m      8\u001b[0m         \u001b[0mvi\u001b[0m\u001b[0;34m.\u001b[0m\u001b[0moptimizer\u001b[0m\u001b[0;34m.\u001b[0m\u001b[0mstep\u001b[0m\u001b[0;34m(\u001b[0m\u001b[0;34m)\u001b[0m\u001b[0;34m\u001b[0m\u001b[0m\n\u001b[1;32m      9\u001b[0m         \u001b[0mprint\u001b[0m\u001b[0;34m(\u001b[0m\u001b[0;34m'>>>>'\u001b[0m\u001b[0;34m,\u001b[0m \u001b[0mloss\u001b[0m\u001b[0;34m)\u001b[0m\u001b[0;34m\u001b[0m\u001b[0m\n",
      "\u001b[0;32m~/.local/lib/python3.5/site-packages/torch/tensor.py\u001b[0m in \u001b[0;36mbackward\u001b[0;34m(self, gradient, retain_graph, create_graph)\u001b[0m\n\u001b[1;32m    193\u001b[0m                 \u001b[0mproducts\u001b[0m\u001b[0;34m.\u001b[0m \u001b[0mDefaults\u001b[0m \u001b[0mto\u001b[0m\u001b[0;31m \u001b[0m\u001b[0;31m`\u001b[0m\u001b[0;31m`\u001b[0m\u001b[0;32mFalse\u001b[0m\u001b[0;31m`\u001b[0m\u001b[0;31m`\u001b[0m\u001b[0;34m.\u001b[0m\u001b[0;34m\u001b[0m\u001b[0m\n\u001b[1;32m    194\u001b[0m         \"\"\"\n\u001b[0;32m--> 195\u001b[0;31m         \u001b[0mtorch\u001b[0m\u001b[0;34m.\u001b[0m\u001b[0mautograd\u001b[0m\u001b[0;34m.\u001b[0m\u001b[0mbackward\u001b[0m\u001b[0;34m(\u001b[0m\u001b[0mself\u001b[0m\u001b[0;34m,\u001b[0m \u001b[0mgradient\u001b[0m\u001b[0;34m,\u001b[0m \u001b[0mretain_graph\u001b[0m\u001b[0;34m,\u001b[0m \u001b[0mcreate_graph\u001b[0m\u001b[0;34m)\u001b[0m\u001b[0;34m\u001b[0m\u001b[0m\n\u001b[0m\u001b[1;32m    196\u001b[0m \u001b[0;34m\u001b[0m\u001b[0m\n\u001b[1;32m    197\u001b[0m     \u001b[0;32mdef\u001b[0m \u001b[0mregister_hook\u001b[0m\u001b[0;34m(\u001b[0m\u001b[0mself\u001b[0m\u001b[0;34m,\u001b[0m \u001b[0mhook\u001b[0m\u001b[0;34m)\u001b[0m\u001b[0;34m:\u001b[0m\u001b[0;34m\u001b[0m\u001b[0m\n",
      "\u001b[0;32m~/.local/lib/python3.5/site-packages/torch/autograd/__init__.py\u001b[0m in \u001b[0;36mbackward\u001b[0;34m(tensors, grad_tensors, retain_graph, create_graph, grad_variables)\u001b[0m\n\u001b[1;32m     97\u001b[0m     Variable._execution_engine.run_backward(\n\u001b[1;32m     98\u001b[0m         \u001b[0mtensors\u001b[0m\u001b[0;34m,\u001b[0m \u001b[0mgrad_tensors\u001b[0m\u001b[0;34m,\u001b[0m \u001b[0mretain_graph\u001b[0m\u001b[0;34m,\u001b[0m \u001b[0mcreate_graph\u001b[0m\u001b[0;34m,\u001b[0m\u001b[0;34m\u001b[0m\u001b[0m\n\u001b[0;32m---> 99\u001b[0;31m         allow_unreachable=True)  # allow_unreachable flag\n\u001b[0m\u001b[1;32m    100\u001b[0m \u001b[0;34m\u001b[0m\u001b[0m\n\u001b[1;32m    101\u001b[0m \u001b[0;34m\u001b[0m\u001b[0m\n",
      "\u001b[0;31mRuntimeError\u001b[0m: Function 'DivBackward0' returned nan values in its 1th output."
     ]
    }
   ],
   "source": [
    "total_loss = 0\n",
    "with autograd.detect_anomaly():\n",
    "    #print(torch.is_anomaly_enabled())\n",
    "    for idx1, idx2, data in dataloader:\n",
    "        loss = - vi.elbo(idx1, idx2, data)\n",
    "        vi.optimizer.zero_grad()\n",
    "        loss.backward()\n",
    "        vi.optimizer.step()\n",
    "        print('>>>>', loss)\n",
    "        total_loss += loss"
   ]
  },
  {
   "cell_type": "code",
   "execution_count": null,
   "metadata": {},
   "outputs": [],
   "source": [
    "vi.train(dataloader, epochs=60)"
   ]
  },
  {
   "cell_type": "code",
   "execution_count": null,
   "metadata": {},
   "outputs": [],
   "source": [
    "vi.alpha_conc.exp(), vi.alpha_scale.exp()"
   ]
  },
  {
   "cell_type": "code",
   "execution_count": null,
   "metadata": {},
   "outputs": [],
   "source": [
    "vi.rs_loc, vi.rs_scale.exp()"
   ]
  },
  {
   "cell_type": "code",
   "execution_count": null,
   "metadata": {},
   "outputs": [],
   "source": [
    "Radius(vi.rs_loc, vi.rs_scale.exp(), torch.ones([N])*R).mean"
   ]
  },
  {
   "cell_type": "code",
   "execution_count": null,
   "metadata": {},
   "outputs": [],
   "source": [
    "vi.r_i_samples"
   ]
  },
  {
   "cell_type": "code",
   "execution_count": null,
   "metadata": {},
   "outputs": [],
   "source": [
    "vi.R_conc.exp(), vi.R_scale.exp()"
   ]
  },
  {
   "cell_type": "code",
   "execution_count": null,
   "metadata": {},
   "outputs": [],
   "source": [
    "p_hd_ = lambda d,R,T: (1.+((d-R)/(2.*T)).exp()).reciprocal()\n",
    "phd = lambda d,R,T: 0.5 + 0.5*(-(d-R)/(4*T)).tanh()"
   ]
  },
  {
   "cell_type": "code",
   "execution_count": null,
   "metadata": {},
   "outputs": [],
   "source": [
    "p_hd_(torch.tensor(-np.inf),R,T)"
   ]
  },
  {
   "cell_type": "code",
   "execution_count": null,
   "metadata": {},
   "outputs": [],
   "source": [
    "phd(torch.tensor(5.1),R,T)"
   ]
  },
  {
   "cell_type": "code",
   "execution_count": null,
   "metadata": {},
   "outputs": [],
   "source": [
    "torch.tensor([0.1,10.0]).log()"
   ]
  },
  {
   "cell_type": "code",
   "execution_count": null,
   "metadata": {},
   "outputs": [],
   "source": [
    "x = torch.arange(0.,1.,.01)\n",
    "plt.plot(x, torch.sigmoid(logit(x)))\n",
    "plt.show()"
   ]
  },
  {
   "cell_type": "code",
   "execution_count": null,
   "metadata": {},
   "outputs": [],
   "source": [
    "logit(torch.tensor(0.))"
   ]
  },
  {
   "cell_type": "code",
   "execution_count": null,
   "metadata": {},
   "outputs": [],
   "source": [
    "l, n, m = 3, 4, 5\n",
    "broadcast = torch.ones([l,n])"
   ]
  },
  {
   "cell_type": "code",
   "execution_count": null,
   "metadata": {},
   "outputs": [],
   "source": [
    "torch.rand(m).expand(n,m).shape"
   ]
  },
  {
   "cell_type": "code",
   "execution_count": null,
   "metadata": {},
   "outputs": [],
   "source": [
    "torch.arange(n).expand(m,n)"
   ]
  },
  {
   "cell_type": "code",
   "execution_count": null,
   "metadata": {},
   "outputs": [],
   "source": [
    "torch.ones([l,n])"
   ]
  },
  {
   "cell_type": "code",
   "execution_count": null,
   "metadata": {},
   "outputs": [],
   "source": []
  },
  {
   "cell_type": "code",
   "execution_count": null,
   "metadata": {},
   "outputs": [],
   "source": [
    "torch.tensor(np.pi*2).log()"
   ]
  },
  {
   "cell_type": "code",
   "execution_count": null,
   "metadata": {},
   "outputs": [],
   "source": [
    "arcosh = lambda x: (torch.clamp(x, min=1.) + (torch.clamp(x, min=1.)**2 - 1).sqrt())\n",
    "arcosh(torch.arange(0.,2., .1))"
   ]
  },
  {
   "cell_type": "code",
   "execution_count": null,
   "metadata": {},
   "outputs": [],
   "source": [
    "torch.clamp(x, min=1.)"
   ]
  },
  {
   "cell_type": "code",
   "execution_count": null,
   "metadata": {},
   "outputs": [],
   "source": []
  }
 ],
 "metadata": {
  "kernelspec": {
   "display_name": "Python 3",
   "language": "python",
   "name": "python3"
  },
  "language_info": {
   "codemirror_mode": {
    "name": "ipython",
    "version": 3
   },
   "file_extension": ".py",
   "mimetype": "text/x-python",
   "name": "python",
   "nbconvert_exporter": "python",
   "pygments_lexer": "ipython3",
   "version": "3.5.2"
  }
 },
 "nbformat": 4,
 "nbformat_minor": 2
}
