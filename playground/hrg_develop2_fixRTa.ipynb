{
 "cells": [
  {
   "cell_type": "code",
   "execution_count": 1,
   "metadata": {},
   "outputs": [
    {
     "data": {
      "text/plain": [
       "<torch._C.Generator at 0x7f1b3150f110>"
      ]
     },
     "execution_count": 1,
     "metadata": {},
     "output_type": "execute_result"
    }
   ],
   "source": [
    "import sys\n",
    "sys.path.append('../src/')\n",
    "from vi_hrg_fixRTalpha import *\n",
    "from utils import c2d, hyperdist, p_hd, polar2cart, warn_tensor\n",
    "from torch import autograd\n",
    "torch.manual_seed(4)"
   ]
  },
  {
   "cell_type": "code",
   "execution_count": 2,
   "metadata": {},
   "outputs": [],
   "source": [
    "def noise_r(x, R, rel_var=0.1, epsilon=1e-4):\n",
    "    rs = torch.distributions.normal.Normal(x, R*rel_var).sample() \n",
    "    return torch.clamp(rs, min=0+epsilon, max=R.item()-epsilon)"
   ]
  },
  {
   "cell_type": "code",
   "execution_count": 3,
   "metadata": {},
   "outputs": [],
   "source": [
    "def noise_phi(x, rel_var=0.1):\n",
    "    phis = torch.distributions.normal.Normal(x, 2*np.pi*rel_var).sample()\n",
    "    return phis % (2*np.pi)"
   ]
  },
  {
   "cell_type": "code",
   "execution_count": 4,
   "metadata": {},
   "outputs": [],
   "source": [
    "logit = lambda x: (x/(1-x)).log()"
   ]
  },
  {
   "cell_type": "code",
   "execution_count": 5,
   "metadata": {},
   "outputs": [],
   "source": [
    "N = 75\n",
    "R = torch.tensor([5.0]).double()\n",
    "alpha = 1.1\n",
    "T = 0.1\n",
    "\n",
    "G = HRG(R=R, alpha=alpha, T=T)\n",
    "r, theta, A = G.generate(N)\n",
    "#G.show()\n",
    "#G.plot()"
   ]
  },
  {
   "cell_type": "code",
   "execution_count": 6,
   "metadata": {},
   "outputs": [
    {
     "data": {
      "text/plain": [
       "tensor(60.5496, dtype=torch.float64)"
      ]
     },
     "execution_count": 6,
     "metadata": {},
     "output_type": "execute_result"
    }
   ],
   "source": [
    "no = noise_r(r, R, rel_var=0.2)/R\n",
    "no.sum()"
   ]
  },
  {
   "cell_type": "code",
   "execution_count": 7,
   "metadata": {},
   "outputs": [
    {
     "data": {
      "text/plain": [
       "tensor([  2.6746,   2.9183,   1.3132,   0.6718,   1.2477,  -0.5310,   2.2771,\n",
       "          1.7808,   1.5798,   0.8254,   2.1920,   0.5540,  10.8198,  10.8198,\n",
       "         10.8198,  10.8198,   2.9095,  -0.1835,   0.7180,   0.8373,  10.8198,\n",
       "          0.1590,   0.5464,   0.3894,   1.7198,  10.8198,  10.8198,  10.8198,\n",
       "          5.2910,   0.6381,  10.8198,   2.4758,   0.2960,  10.8198,   0.9693,\n",
       "          0.6524,   0.3752,  10.8198,  10.8198,   3.0857,  10.8198,   1.4461,\n",
       "         10.8198,   0.8689,   1.2596,   5.1957,   2.3141,   2.1058,   1.2496,\n",
       "          1.4135,   2.3126,   1.6948,  10.8198,  -0.0887, -10.8198,   2.5612,\n",
       "          1.8634,  10.8198,  10.8198,   4.0200,   1.4320,  10.8198, -10.8198,\n",
       "         10.8198,   2.3117,   1.1346,   0.7262,   0.8638,  10.8198,   1.4715,\n",
       "         10.8198,   0.7079,   1.0100,   0.2759,  -0.1412], dtype=torch.float64)"
      ]
     },
     "execution_count": 7,
     "metadata": {},
     "output_type": "execute_result"
    }
   ],
   "source": [
    "logit(no)"
   ]
  },
  {
   "cell_type": "code",
   "execution_count": 8,
   "metadata": {},
   "outputs": [
    {
     "data": {
      "text/plain": [
       "torch.Size([75, 3])"
      ]
     },
     "execution_count": 8,
     "metadata": {},
     "output_type": "execute_result"
    }
   ],
   "source": [
    "r_loc_init = logit(noise_r(r, R, rel_var=0.2)/R)*R\n",
    "r_scale_init = torch.ones([N]).double()\n",
    "phi_loc_init = torch.cat((polar2cart(1, noise_phi(theta, 0.1)),  torch.zeros([N,1]).double()), dim=-1)\n",
    "phi_loc_init.shape"
   ]
  },
  {
   "cell_type": "code",
   "execution_count": 9,
   "metadata": {},
   "outputs": [
    {
     "data": {
      "text/plain": [
       "tensor([ 5.4099e+01,  3.5383e+00, -3.4698e+00,  3.8693e+00, -8.6157e+00,\n",
       "         2.6317e+00,  5.4099e+01,  9.9548e+00, -4.6567e-01,  1.2732e+01,\n",
       "         4.8921e+00, -1.6192e+00,  1.0127e+01,  6.5123e+00,  5.4099e+01,\n",
       "         4.1010e+00,  5.4099e+01, -3.2952e+00,  1.0673e+01, -8.2810e-01,\n",
       "         5.4099e+01,  5.5356e+00,  5.4099e+01,  1.1559e+00,  5.4099e+01,\n",
       "         5.4099e+01,  1.0585e+01,  3.4178e-01,  1.1671e+01,  5.3209e+00,\n",
       "         5.4099e+01,  1.0937e+01,  3.4221e+00,  1.3904e+01,  8.9842e+00,\n",
       "        -5.3171e+00,  1.2897e+00,  5.4099e+01,  2.2897e+00,  1.7119e+01,\n",
       "         1.1662e+00,  5.4099e+01,  1.4320e+01,  3.7737e+00,  4.4501e+00,\n",
       "         7.7525e+00,  5.4099e+01,  2.7599e+01,  2.9212e+00,  1.0144e+01,\n",
       "         1.2338e+00,  5.4099e+01,  3.8892e+00, -6.8353e+00, -1.6286e+00,\n",
       "         5.4099e+01,  5.4099e+01,  5.4099e+01,  5.4099e+01,  1.0347e+01,\n",
       "         1.1233e+00,  6.9845e+00, -5.2302e+00,  5.4099e+01,  6.0655e+00,\n",
       "         1.1749e+01,  2.0045e+00, -2.2764e-02,  5.4099e+01,  1.8248e+01,\n",
       "         5.4099e+01, -1.6349e+00, -5.2763e+00,  3.1588e+00,  5.0398e+00],\n",
       "       dtype=torch.float64)"
      ]
     },
     "execution_count": 9,
     "metadata": {},
     "output_type": "execute_result"
    }
   ],
   "source": [
    "r_loc_init"
   ]
  },
  {
   "cell_type": "code",
   "execution_count": 10,
   "metadata": {},
   "outputs": [],
   "source": [
    "R_conc_init = torch.tensor(5.).log()\n",
    "R_scale_init = torch.tensor(1.).log()\n",
    "alpha_conc_init = torch.tensor(1.1).log()\n",
    "alpha_scale_init = torch.tensor(.5).log()\n",
    "T_init = torch.tensor([0.1,10.]).log()"
   ]
  },
  {
   "cell_type": "code",
   "execution_count": 11,
   "metadata": {},
   "outputs": [],
   "source": [
    "dataloader = DataLoader(EdgesDataset(A), batch_size=128, shuffle=True, num_workers=0)\n",
    "vi = VI_HRG(75,50, init_values={'rs_loc':r_loc_init,\n",
    "                                'rs_scale':r_scale_init,\n",
    "                              'phis_loc':phi_loc_init,\n",
    "                              'phis_scale':None, \n",
    "                              'R_conc':R_conc_init, \n",
    "                              'R_scale':R_scale_init,\n",
    "                              'alpha_conc':alpha_conc_init,\n",
    "                              'alpha_scale':alpha_scale_init,\n",
    "                              'T':T_init})\n",
    "vi.dataloader = dataloader\n",
    "vi.optimizer = torch.optim.RMSprop(vi.parameters())\n",
    "#vi.optimizer.lr"
   ]
  },
  {
   "cell_type": "code",
   "execution_count": 14,
   "metadata": {
    "scrolled": true
   },
   "outputs": [
    {
     "name": "stdout",
     "output_type": "stream",
     "text": [
      "Prob_edges  >> tensor(-265.7391, dtype=torch.float64, grad_fn=<SumBackward0>)\n",
      "Alpha_R_ri  >> tensor(1.2856, dtype=torch.float64, grad_fn=<MulBackward0>)\n",
      "Alpha       >> tensor(0.1627, dtype=torch.float64)\n",
      "Alpha_R     >> tensor(0.0140, dtype=torch.float64)\n",
      "P(q_ri)     >> tensor(175.0371, dtype=torch.float64, grad_fn=<MulBackward0>)\n",
      "P(q_phii)   >> tensor(3.6811, dtype=torch.float64, grad_fn=<MulBackward0>)\n",
      ">>>> tensor(88.6953, dtype=torch.float64, grad_fn=<NegBackward>)\n",
      "Prob_edges  >> tensor(-309.5678, dtype=torch.float64, grad_fn=<SumBackward0>)\n",
      "Alpha_R_ri  >> tensor(1.2475, dtype=torch.float64, grad_fn=<MulBackward0>)\n",
      "Alpha       >> tensor(0.1627, dtype=torch.float64)\n",
      "Alpha_R     >> tensor(0.0140, dtype=torch.float64)\n",
      "P(q_ri)     >> tensor(214.5072, dtype=torch.float64, grad_fn=<MulBackward0>)\n",
      "P(q_phii)   >> tensor(3.7603, dtype=torch.float64, grad_fn=<MulBackward0>)\n",
      ">>>> tensor(93.0129, dtype=torch.float64, grad_fn=<NegBackward>)\n",
      "Prob_edges  >> tensor(-220.7003, dtype=torch.float64, grad_fn=<SumBackward0>)\n",
      "Alpha_R_ri  >> tensor(1.0875, dtype=torch.float64, grad_fn=<MulBackward0>)\n",
      "Alpha       >> tensor(0.1627, dtype=torch.float64)\n",
      "Alpha_R     >> tensor(0.0140, dtype=torch.float64)\n",
      "P(q_ri)     >> tensor(250.2161, dtype=torch.float64, grad_fn=<MulBackward0>)\n",
      "P(q_phii)   >> tensor(3.7171, dtype=torch.float64, grad_fn=<MulBackward0>)\n",
      ">>>> tensor(-31.3604, dtype=torch.float64, grad_fn=<NegBackward>)\n",
      "Prob_edges  >> tensor(-241.8035, dtype=torch.float64, grad_fn=<SumBackward0>)\n",
      "Alpha_R_ri  >> tensor(1.0866, dtype=torch.float64, grad_fn=<MulBackward0>)\n",
      "Alpha       >> tensor(0.1627, dtype=torch.float64)\n",
      "Alpha_R     >> tensor(0.0140, dtype=torch.float64)\n",
      "P(q_ri)     >> tensor(238.5947, dtype=torch.float64, grad_fn=<MulBackward0>)\n",
      "P(q_phii)   >> tensor(3.7044, dtype=torch.float64, grad_fn=<MulBackward0>)\n",
      ">>>> tensor(1.3777, dtype=torch.float64, grad_fn=<NegBackward>)\n",
      "Prob_edges  >> tensor(-398.7585, dtype=torch.float64, grad_fn=<SumBackward0>)\n",
      "Alpha_R_ri  >> tensor(1.2955, dtype=torch.float64, grad_fn=<MulBackward0>)\n",
      "Alpha       >> tensor(0.1627, dtype=torch.float64)\n",
      "Alpha_R     >> tensor(0.0140, dtype=torch.float64)\n",
      "P(q_ri)     >> tensor(271.7362, dtype=torch.float64, grad_fn=<MulBackward0>)\n",
      "P(q_phii)   >> tensor(3.7498, dtype=torch.float64, grad_fn=<MulBackward0>)\n",
      ">>>> tensor(124.9370, dtype=torch.float64, grad_fn=<NegBackward>)\n",
      "Prob_edges  >> tensor(-287.5866, dtype=torch.float64, grad_fn=<SumBackward0>)\n",
      "Alpha_R_ri  >> tensor(1.4088, dtype=torch.float64, grad_fn=<MulBackward0>)\n",
      "Alpha       >> tensor(0.1627, dtype=torch.float64)\n",
      "Alpha_R     >> tensor(0.0140, dtype=torch.float64)\n",
      "P(q_ri)     >> tensor(305.6667, dtype=torch.float64, grad_fn=<MulBackward0>)\n",
      "P(q_phii)   >> tensor(3.6549, dtype=torch.float64, grad_fn=<MulBackward0>)\n",
      ">>>> tensor(-20.1838, dtype=torch.float64, grad_fn=<NegBackward>)\n",
      "Prob_edges  >> tensor(-247.4936, dtype=torch.float64, grad_fn=<SumBackward0>)\n",
      "Alpha_R_ri  >> tensor(1.2184, dtype=torch.float64, grad_fn=<MulBackward0>)\n",
      "Alpha       >> tensor(0.1627, dtype=torch.float64)\n",
      "Alpha_R     >> tensor(0.0140, dtype=torch.float64)\n",
      "P(q_ri)     >> tensor(281.3955, dtype=torch.float64, grad_fn=<MulBackward0>)\n",
      "P(q_phii)   >> tensor(3.6867, dtype=torch.float64, grad_fn=<MulBackward0>)\n",
      ">>>> tensor(-35.8469, dtype=torch.float64, grad_fn=<NegBackward>)\n",
      "Prob_edges  >> tensor(-257.6939, dtype=torch.float64, grad_fn=<SumBackward0>)\n",
      "Alpha_R_ri  >> tensor(0.9021, dtype=torch.float64, grad_fn=<MulBackward0>)\n",
      "Alpha       >> tensor(0.1627, dtype=torch.float64)\n",
      "Alpha_R     >> tensor(0.0140, dtype=torch.float64)\n",
      "P(q_ri)     >> tensor(272.2288, dtype=torch.float64, grad_fn=<MulBackward0>)\n",
      "P(q_phii)   >> tensor(3.7291, dtype=torch.float64, grad_fn=<MulBackward0>)\n",
      ">>>> tensor(-16.2061, dtype=torch.float64, grad_fn=<NegBackward>)\n",
      "Prob_edges  >> tensor(-257.5521, dtype=torch.float64, grad_fn=<SumBackward0>)\n",
      "Alpha_R_ri  >> tensor(0.8617, dtype=torch.float64, grad_fn=<MulBackward0>)\n",
      "Alpha       >> tensor(0.1627, dtype=torch.float64)\n",
      "Alpha_R     >> tensor(0.0140, dtype=torch.float64)\n",
      "P(q_ri)     >> tensor(313.4686, dtype=torch.float64, grad_fn=<MulBackward0>)\n",
      "P(q_phii)   >> tensor(3.6908, dtype=torch.float64, grad_fn=<MulBackward0>)\n",
      ">>>> tensor(-57.5090, dtype=torch.float64, grad_fn=<NegBackward>)\n",
      "Prob_edges  >> tensor(-300.1236, dtype=torch.float64, grad_fn=<SumBackward0>)\n",
      "Alpha_R_ri  >> tensor(1.1888, dtype=torch.float64, grad_fn=<MulBackward0>)\n",
      "Alpha       >> tensor(0.1627, dtype=torch.float64)\n",
      "Alpha_R     >> tensor(0.0140, dtype=torch.float64)\n",
      "P(q_ri)     >> tensor(306.9860, dtype=torch.float64, grad_fn=<MulBackward0>)\n",
      "P(q_phii)   >> tensor(3.7112, dtype=torch.float64, grad_fn=<MulBackward0>)\n",
      ">>>> tensor(-8.8023, dtype=torch.float64, grad_fn=<NegBackward>)\n",
      "Prob_edges  >> tensor(-263.3617, dtype=torch.float64, grad_fn=<SumBackward0>)\n",
      "Alpha_R_ri  >> tensor(1.1212, dtype=torch.float64, grad_fn=<MulBackward0>)\n",
      "Alpha       >> tensor(0.1627, dtype=torch.float64)\n",
      "Alpha_R     >> tensor(0.0140, dtype=torch.float64)\n",
      "P(q_ri)     >> tensor(375.5106, dtype=torch.float64, grad_fn=<MulBackward0>)\n",
      "P(q_phii)   >> tensor(3.7195, dtype=torch.float64, grad_fn=<MulBackward0>)\n",
      ">>>> tensor(-114.0296, dtype=torch.float64, grad_fn=<NegBackward>)\n",
      "Prob_edges  >> tensor(-229.2144, dtype=torch.float64, grad_fn=<SumBackward0>)\n",
      "Alpha_R_ri  >> tensor(1.0310, dtype=torch.float64, grad_fn=<MulBackward0>)\n",
      "Alpha       >> tensor(0.1627, dtype=torch.float64)\n",
      "Alpha_R     >> tensor(0.0140, dtype=torch.float64)\n",
      "P(q_ri)     >> tensor(431.9237, dtype=torch.float64, grad_fn=<MulBackward0>)\n",
      "P(q_phii)   >> tensor(3.7363, dtype=torch.float64, grad_fn=<MulBackward0>)\n",
      ">>>> tensor(-204.5166, dtype=torch.float64, grad_fn=<NegBackward>)\n",
      "Prob_edges  >> tensor(-316.3828, dtype=torch.float64, grad_fn=<SumBackward0>)\n",
      "Alpha_R_ri  >> tensor(1.0361, dtype=torch.float64, grad_fn=<MulBackward0>)\n",
      "Alpha       >> tensor(0.1627, dtype=torch.float64)\n",
      "Alpha_R     >> tensor(0.0140, dtype=torch.float64)\n",
      "P(q_ri)     >> tensor(493.5394, dtype=torch.float64, grad_fn=<MulBackward0>)\n",
      "P(q_phii)   >> tensor(3.7058, dtype=torch.float64, grad_fn=<MulBackward0>)\n",
      ">>>> tensor(-178.9385, dtype=torch.float64, grad_fn=<NegBackward>)\n",
      "Prob_edges  >> tensor(-248.6856, dtype=torch.float64, grad_fn=<SumBackward0>)\n",
      "Alpha_R_ri  >> tensor(1.0135, dtype=torch.float64, grad_fn=<MulBackward0>)\n",
      "Alpha       >> tensor(0.1627, dtype=torch.float64)\n",
      "Alpha_R     >> tensor(0.0140, dtype=torch.float64)\n",
      "P(q_ri)     >> tensor(311.8540, dtype=torch.float64, grad_fn=<MulBackward0>)\n",
      "P(q_phii)   >> tensor(3.6934, dtype=torch.float64, grad_fn=<MulBackward0>)\n",
      ">>>> tensor(-64.9153, dtype=torch.float64, grad_fn=<NegBackward>)\n",
      "Prob_edges  >> tensor(-163.6597, dtype=torch.float64, grad_fn=<SumBackward0>)\n",
      "Alpha_R_ri  >> tensor(0.9511, dtype=torch.float64, grad_fn=<MulBackward0>)\n",
      "Alpha       >> tensor(0.1627, dtype=torch.float64)\n",
      "Alpha_R     >> tensor(0.0140, dtype=torch.float64)\n",
      "P(q_ri)     >> tensor(420.1050, dtype=torch.float64, grad_fn=<MulBackward0>)\n",
      "P(q_phii)   >> tensor(3.6915, dtype=torch.float64, grad_fn=<MulBackward0>)\n",
      ">>>> tensor(-258.1279, dtype=torch.float64, grad_fn=<NegBackward>)\n",
      "Prob_edges  >> tensor(-274.1120, dtype=torch.float64, grad_fn=<SumBackward0>)\n",
      "Alpha_R_ri  >> tensor(0.9903, dtype=torch.float64, grad_fn=<MulBackward0>)\n",
      "Alpha       >> tensor(0.1627, dtype=torch.float64)\n",
      "Alpha_R     >> tensor(0.0140, dtype=torch.float64)\n",
      "P(q_ri)     >> tensor(561.9217, dtype=torch.float64, grad_fn=<MulBackward0>)\n",
      "P(q_phii)   >> tensor(3.6174, dtype=torch.float64, grad_fn=<MulBackward0>)\n",
      ">>>> tensor(-289.4574, dtype=torch.float64, grad_fn=<NegBackward>)\n",
      "Prob_edges  >> tensor(-342.2058, dtype=torch.float64, grad_fn=<SumBackward0>)\n",
      "Alpha_R_ri  >> tensor(0.9739, dtype=torch.float64, grad_fn=<MulBackward0>)\n",
      "Alpha       >> tensor(0.1627, dtype=torch.float64)\n",
      "Alpha_R     >> tensor(0.0140, dtype=torch.float64)\n",
      "P(q_ri)     >> tensor(553.0800, dtype=torch.float64, grad_fn=<MulBackward0>)\n",
      "P(q_phii)   >> tensor(3.5473, dtype=torch.float64, grad_fn=<MulBackward0>)\n",
      ">>>> tensor(-212.4353, dtype=torch.float64, grad_fn=<NegBackward>)\n",
      "Prob_edges  >> tensor(-320.8318, dtype=torch.float64, grad_fn=<SumBackward0>)\n",
      "Alpha_R_ri  >> tensor(0.9482, dtype=torch.float64, grad_fn=<MulBackward0>)\n",
      "Alpha       >> tensor(0.1627, dtype=torch.float64)\n",
      "Alpha_R     >> tensor(0.0140, dtype=torch.float64)\n",
      "P(q_ri)     >> tensor(630.1549, dtype=torch.float64, grad_fn=<MulBackward0>)\n",
      "P(q_phii)   >> tensor(3.7393, dtype=torch.float64, grad_fn=<MulBackward0>)\n",
      ">>>> tensor(-311.0506, dtype=torch.float64, grad_fn=<NegBackward>)\n",
      "Prob_edges  >> tensor(-254.6728, dtype=torch.float64, grad_fn=<SumBackward0>)\n"
     ]
    },
    {
     "name": "stdout",
     "output_type": "stream",
     "text": [
      "Alpha_R_ri  >> tensor(1.0194, dtype=torch.float64, grad_fn=<MulBackward0>)\n",
      "Alpha       >> tensor(0.1627, dtype=torch.float64)\n",
      "Alpha_R     >> tensor(0.0140, dtype=torch.float64)\n",
      "P(q_ri)     >> tensor(580.1964, dtype=torch.float64, grad_fn=<MulBackward0>)\n",
      "P(q_phii)   >> tensor(3.7895, dtype=torch.float64, grad_fn=<MulBackward0>)\n",
      ">>>> tensor(-327.3725, dtype=torch.float64, grad_fn=<NegBackward>)\n",
      "Prob_edges  >> tensor(-229.3619, dtype=torch.float64, grad_fn=<SumBackward0>)\n",
      "Alpha_R_ri  >> tensor(1.0306, dtype=torch.float64, grad_fn=<MulBackward0>)\n",
      "Alpha       >> tensor(0.1627, dtype=torch.float64)\n",
      "Alpha_R     >> tensor(0.0140, dtype=torch.float64)\n",
      "P(q_ri)     >> tensor(978.3303, dtype=torch.float64, grad_fn=<MulBackward0>)\n",
      "P(q_phii)   >> tensor(3.6414, dtype=torch.float64, grad_fn=<MulBackward0>)\n",
      ">>>> tensor(-750.6804, dtype=torch.float64, grad_fn=<NegBackward>)\n",
      "Prob_edges  >> tensor(-257.0310, dtype=torch.float64, grad_fn=<SumBackward0>)\n",
      "Alpha_R_ri  >> tensor(1.0458, dtype=torch.float64, grad_fn=<MulBackward0>)\n",
      "Alpha       >> tensor(0.1627, dtype=torch.float64)\n",
      "Alpha_R     >> tensor(0.0140, dtype=torch.float64)\n",
      "P(q_ri)     >> tensor(626.2768, dtype=torch.float64, grad_fn=<MulBackward0>)\n",
      "P(q_phii)   >> tensor(3.6371, dtype=torch.float64, grad_fn=<MulBackward0>)\n",
      ">>>> tensor(-370.9687, dtype=torch.float64, grad_fn=<NegBackward>)\n",
      "Prob_edges  >> tensor(-203.9324, dtype=torch.float64, grad_fn=<SumBackward0>)\n",
      "Alpha_R_ri  >> tensor(0.9662, dtype=torch.float64, grad_fn=<MulBackward0>)\n",
      "Alpha       >> tensor(0.1627, dtype=torch.float64)\n",
      "Alpha_R     >> tensor(0.0140, dtype=torch.float64)\n",
      "P(q_ri)     >> tensor(1076.1699, dtype=torch.float64, grad_fn=<MulBackward0>)\n",
      "P(q_phii)   >> tensor(3.7345, dtype=torch.float64, grad_fn=<MulBackward0>)\n",
      ">>>> tensor(-873.9782, dtype=torch.float64, grad_fn=<NegBackward>)\n",
      "Prob_edges  >> tensor(-347.1924, dtype=torch.float64, grad_fn=<SumBackward0>)\n",
      "Alpha_R_ri  >> tensor(1.0574, dtype=torch.float64, grad_fn=<MulBackward0>)\n",
      "Alpha       >> tensor(0.1627, dtype=torch.float64)\n",
      "Alpha_R     >> tensor(0.0140, dtype=torch.float64)\n",
      "P(q_ri)     >> tensor(796.1503, dtype=torch.float64, grad_fn=<MulBackward0>)\n",
      "P(q_phii)   >> tensor(3.5998, dtype=torch.float64, grad_fn=<MulBackward0>)\n",
      ">>>> tensor(-450.6551, dtype=torch.float64, grad_fn=<NegBackward>)\n",
      "Prob_edges  >> tensor(-228.9138, dtype=torch.float64, grad_fn=<SumBackward0>)\n",
      "Alpha_R_ri  >> tensor(0.6628, dtype=torch.float64, grad_fn=<MulBackward0>)\n",
      "Alpha       >> tensor(0.1627, dtype=torch.float64)\n",
      "Alpha_R     >> tensor(0.0140, dtype=torch.float64)\n",
      "P(q_ri)     >> tensor(934.5721, dtype=torch.float64, grad_fn=<MulBackward0>)\n",
      "P(q_phii)   >> tensor(3.7149, dtype=torch.float64, grad_fn=<MulBackward0>)\n",
      ">>>> tensor(-707.0761, dtype=torch.float64, grad_fn=<NegBackward>)\n",
      "Prob_edges  >> tensor(-242.9563, dtype=torch.float64, grad_fn=<SumBackward0>)\n",
      "Alpha_R_ri  >> tensor(1.3631, dtype=torch.float64, grad_fn=<MulBackward0>)\n",
      "Alpha       >> tensor(0.1627, dtype=torch.float64)\n",
      "Alpha_R     >> tensor(0.0140, dtype=torch.float64)\n",
      "P(q_ri)     >> tensor(761.1163, dtype=torch.float64, grad_fn=<MulBackward0>)\n",
      "P(q_phii)   >> tensor(3.6811, dtype=torch.float64, grad_fn=<MulBackward0>)\n",
      ">>>> tensor(-520.2441, dtype=torch.float64, grad_fn=<NegBackward>)\n",
      "Prob_edges  >> tensor(-318.6829, dtype=torch.float64, grad_fn=<SumBackward0>)\n",
      "Alpha_R_ri  >> tensor(1.0554, dtype=torch.float64, grad_fn=<MulBackward0>)\n",
      "Alpha       >> tensor(0.1627, dtype=torch.float64)\n",
      "Alpha_R     >> tensor(0.0140, dtype=torch.float64)\n",
      "P(q_ri)     >> tensor(947.1927, dtype=torch.float64, grad_fn=<MulBackward0>)\n",
      "P(q_phii)   >> tensor(3.7105, dtype=torch.float64, grad_fn=<MulBackward0>)\n",
      ">>>> tensor(-630.3158, dtype=torch.float64, grad_fn=<NegBackward>)\n",
      "Prob_edges  >> tensor(-275.7438, dtype=torch.float64, grad_fn=<SumBackward0>)\n",
      "Alpha_R_ri  >> tensor(0.8607, dtype=torch.float64, grad_fn=<MulBackward0>)\n",
      "Alpha       >> tensor(0.1627, dtype=torch.float64)\n",
      "Alpha_R     >> tensor(0.0140, dtype=torch.float64)\n",
      "P(q_ri)     >> tensor(831.9053, dtype=torch.float64, grad_fn=<MulBackward0>)\n",
      "P(q_phii)   >> tensor(3.7055, dtype=torch.float64, grad_fn=<MulBackward0>)\n",
      ">>>> tensor(-557.7678, dtype=torch.float64, grad_fn=<NegBackward>)\n",
      "Prob_edges  >> tensor(-204.7979, dtype=torch.float64, grad_fn=<SumBackward0>)\n",
      "Alpha_R_ri  >> tensor(1.0434, dtype=torch.float64, grad_fn=<MulBackward0>)\n",
      "Alpha       >> tensor(0.1627, dtype=torch.float64)\n",
      "Alpha_R     >> tensor(0.0140, dtype=torch.float64)\n",
      "P(q_ri)     >> tensor(1033.5639, dtype=torch.float64, grad_fn=<MulBackward0>)\n",
      "P(q_phii)   >> tensor(3.7577, dtype=torch.float64, grad_fn=<MulBackward0>)\n",
      ">>>> tensor(-830.6071, dtype=torch.float64, grad_fn=<NegBackward>)\n",
      "Prob_edges  >> tensor(-359.7234, dtype=torch.float64, grad_fn=<SumBackward0>)\n",
      "Alpha_R_ri  >> tensor(1.2691, dtype=torch.float64, grad_fn=<MulBackward0>)\n",
      "Alpha       >> tensor(0.1627, dtype=torch.float64)\n",
      "Alpha_R     >> tensor(0.0140, dtype=torch.float64)\n",
      "P(q_ri)     >> tensor(1247.3956, dtype=torch.float64, grad_fn=<MulBackward0>)\n",
      "P(q_phii)   >> tensor(3.6878, dtype=torch.float64, grad_fn=<MulBackward0>)\n",
      ">>>> tensor(-889.6690, dtype=torch.float64, grad_fn=<NegBackward>)\n",
      "Prob_edges  >> tensor(-314.5322, dtype=torch.float64, grad_fn=<SumBackward0>)\n",
      "Alpha_R_ri  >> tensor(1.2089, dtype=torch.float64, grad_fn=<MulBackward0>)\n",
      "Alpha       >> tensor(0.1627, dtype=torch.float64)\n",
      "Alpha_R     >> tensor(0.0140, dtype=torch.float64)\n",
      "P(q_ri)     >> tensor(700.9664, dtype=torch.float64, grad_fn=<MulBackward0>)\n",
      "P(q_phii)   >> tensor(3.6918, dtype=torch.float64, grad_fn=<MulBackward0>)\n",
      ">>>> tensor(-388.3749, dtype=torch.float64, grad_fn=<NegBackward>)\n",
      "Prob_edges  >> tensor(-313.5387, dtype=torch.float64, grad_fn=<SumBackward0>)\n",
      "Alpha_R_ri  >> tensor(1.3198, dtype=torch.float64, grad_fn=<MulBackward0>)\n",
      "Alpha       >> tensor(0.1627, dtype=torch.float64)\n",
      "Alpha_R     >> tensor(0.0140, dtype=torch.float64)\n",
      "P(q_ri)     >> tensor(1231.8724, dtype=torch.float64, grad_fn=<MulBackward0>)\n",
      "P(q_phii)   >> tensor(3.6589, dtype=torch.float64, grad_fn=<MulBackward0>)\n",
      ">>>> tensor(-920.3524, dtype=torch.float64, grad_fn=<NegBackward>)\n",
      "Prob_edges  >> tensor(-253.0253, dtype=torch.float64, grad_fn=<SumBackward0>)\n",
      "Alpha_R_ri  >> tensor(1.4921, dtype=torch.float64, grad_fn=<MulBackward0>)\n",
      "Alpha       >> tensor(0.1627, dtype=torch.float64)\n",
      "Alpha_R     >> tensor(0.0140, dtype=torch.float64)\n",
      "P(q_ri)     >> tensor(1389.6066, dtype=torch.float64, grad_fn=<MulBackward0>)\n",
      "P(q_phii)   >> tensor(3.6284, dtype=torch.float64, grad_fn=<MulBackward0>)\n",
      ">>>> tensor(-1138.7417, dtype=torch.float64, grad_fn=<NegBackward>)\n",
      "Prob_edges  >> tensor(-335.8472, dtype=torch.float64, grad_fn=<SumBackward0>)\n",
      "Alpha_R_ri  >> tensor(1.0520, dtype=torch.float64, grad_fn=<MulBackward0>)\n",
      "Alpha       >> tensor(0.1627, dtype=torch.float64)\n",
      "Alpha_R     >> tensor(0.0140, dtype=torch.float64)\n",
      "P(q_ri)     >> tensor(1207.0838, dtype=torch.float64, grad_fn=<MulBackward0>)\n",
      "P(q_phii)   >> tensor(3.7065, dtype=torch.float64, grad_fn=<MulBackward0>)\n",
      ">>>> tensor(-873.0352, dtype=torch.float64, grad_fn=<NegBackward>)\n",
      "Prob_edges  >> tensor(-231.3171, dtype=torch.float64, grad_fn=<SumBackward0>)\n",
      "Alpha_R_ri  >> tensor(0.9120, dtype=torch.float64, grad_fn=<MulBackward0>)\n",
      "Alpha       >> tensor(0.1627, dtype=torch.float64)\n",
      "Alpha_R     >> tensor(0.0140, dtype=torch.float64)\n",
      "P(q_ri)     >> tensor(1233.0789, dtype=torch.float64, grad_fn=<MulBackward0>)\n",
      "P(q_phii)   >> tensor(3.6279, dtype=torch.float64, grad_fn=<MulBackward0>)\n",
      ">>>> tensor(-1003.3417, dtype=torch.float64, grad_fn=<NegBackward>)\n",
      "Prob_edges  >> tensor(-265.6359, dtype=torch.float64, grad_fn=<SumBackward0>)\n",
      "Alpha_R_ri  >> tensor(1.1138, dtype=torch.float64, grad_fn=<MulBackward0>)\n",
      "Alpha       >> tensor(0.1627, dtype=torch.float64)\n",
      "Alpha_R     >> tensor(0.0140, dtype=torch.float64)\n",
      "P(q_ri)     >> tensor(1264.2593, dtype=torch.float64, grad_fn=<MulBackward0>)\n",
      "P(q_phii)   >> tensor(3.7456, dtype=torch.float64, grad_fn=<MulBackward0>)\n",
      ">>>> tensor(-1000.5228, dtype=torch.float64, grad_fn=<NegBackward>)\n",
      "Prob_edges  >> tensor(-294.5066, dtype=torch.float64, grad_fn=<SumBackward0>)\n",
      "Alpha_R_ri  >> tensor(0.8184, dtype=torch.float64, grad_fn=<MulBackward0>)\n",
      "Alpha       >> tensor(0.1627, dtype=torch.float64)\n",
      "Alpha_R     >> tensor(0.0140, dtype=torch.float64)\n",
      "P(q_ri)     >> tensor(1774.2136, dtype=torch.float64, grad_fn=<MulBackward0>)\n",
      "P(q_phii)   >> tensor(3.6291, dtype=torch.float64, grad_fn=<MulBackward0>)\n"
     ]
    },
    {
     "name": "stdout",
     "output_type": "stream",
     "text": [
      ">>>> tensor(-1481.1945, dtype=torch.float64, grad_fn=<NegBackward>)\n",
      "Prob_edges  >> tensor(-229.7128, dtype=torch.float64, grad_fn=<SumBackward0>)\n",
      "Alpha_R_ri  >> tensor(1.0703, dtype=torch.float64, grad_fn=<MulBackward0>)\n",
      "Alpha       >> tensor(0.1627, dtype=torch.float64)\n",
      "Alpha_R     >> tensor(0.0140, dtype=torch.float64)\n",
      "P(q_ri)     >> tensor(2108.1708, dtype=torch.float64, grad_fn=<MulBackward0>)\n",
      "P(q_phii)   >> tensor(3.6577, dtype=torch.float64, grad_fn=<MulBackward0>)\n",
      ">>>> tensor(-1880.2259, dtype=torch.float64, grad_fn=<NegBackward>)\n",
      "Prob_edges  >> tensor(-278.0809, dtype=torch.float64, grad_fn=<SumBackward0>)\n",
      "Alpha_R_ri  >> tensor(1.3374, dtype=torch.float64, grad_fn=<MulBackward0>)\n",
      "Alpha       >> tensor(0.1627, dtype=torch.float64)\n",
      "Alpha_R     >> tensor(0.0140, dtype=torch.float64)\n",
      "P(q_ri)     >> tensor(1528.2272, dtype=torch.float64, grad_fn=<MulBackward0>)\n",
      "P(q_phii)   >> tensor(3.7318, dtype=torch.float64, grad_fn=<MulBackward0>)\n",
      ">>>> tensor(-1252.2554, dtype=torch.float64, grad_fn=<NegBackward>)\n",
      "Prob_edges  >> tensor(-289.2213, dtype=torch.float64, grad_fn=<SumBackward0>)\n",
      "Alpha_R_ri  >> tensor(1.1935, dtype=torch.float64, grad_fn=<MulBackward0>)\n",
      "Alpha       >> tensor(0.1627, dtype=torch.float64)\n",
      "Alpha_R     >> tensor(0.0140, dtype=torch.float64)\n",
      "P(q_ri)     >> tensor(1791.6351, dtype=torch.float64, grad_fn=<MulBackward0>)\n",
      "P(q_phii)   >> tensor(3.7365, dtype=torch.float64, grad_fn=<MulBackward0>)\n",
      ">>>> tensor(-1504.3838, dtype=torch.float64, grad_fn=<NegBackward>)\n",
      "Prob_edges  >> tensor(-238.8119, dtype=torch.float64, grad_fn=<SumBackward0>)\n",
      "Alpha_R_ri  >> tensor(1.2651, dtype=torch.float64, grad_fn=<MulBackward0>)\n",
      "Alpha       >> tensor(0.1627, dtype=torch.float64)\n",
      "Alpha_R     >> tensor(0.0140, dtype=torch.float64)\n",
      "P(q_ri)     >> tensor(1851.4901, dtype=torch.float64, grad_fn=<MulBackward0>)\n",
      "P(q_phii)   >> tensor(3.6572, dtype=torch.float64, grad_fn=<MulBackward0>)\n",
      ">>>> tensor(-1614.6405, dtype=torch.float64, grad_fn=<NegBackward>)\n",
      "Prob_edges  >> tensor(-347.7735, dtype=torch.float64, grad_fn=<SumBackward0>)\n",
      "Alpha_R_ri  >> tensor(1.3722, dtype=torch.float64, grad_fn=<MulBackward0>)\n",
      "Alpha       >> tensor(0.1627, dtype=torch.float64)\n",
      "Alpha_R     >> tensor(0.0140, dtype=torch.float64)\n",
      "P(q_ri)     >> tensor(1625.1360, dtype=torch.float64, grad_fn=<MulBackward0>)\n",
      "P(q_phii)   >> tensor(3.8185, dtype=torch.float64, grad_fn=<MulBackward0>)\n",
      ">>>> tensor(-1279.5931, dtype=torch.float64, grad_fn=<NegBackward>)\n",
      "Prob_edges  >> tensor(-239.3541, dtype=torch.float64, grad_fn=<SumBackward0>)\n",
      "Alpha_R_ri  >> tensor(1.0614, dtype=torch.float64, grad_fn=<MulBackward0>)\n",
      "Alpha       >> tensor(0.1627, dtype=torch.float64)\n",
      "Alpha_R     >> tensor(0.0140, dtype=torch.float64)\n",
      "P(q_ri)     >> tensor(2178.0415, dtype=torch.float64, grad_fn=<MulBackward0>)\n",
      "P(q_phii)   >> tensor(3.7688, dtype=torch.float64, grad_fn=<MulBackward0>)\n",
      ">>>> tensor(-1940.5577, dtype=torch.float64, grad_fn=<NegBackward>)\n",
      "Prob_edges  >> tensor(-269.9875, dtype=torch.float64, grad_fn=<SumBackward0>)\n",
      "Alpha_R_ri  >> tensor(1.0192, dtype=torch.float64, grad_fn=<MulBackward0>)\n",
      "Alpha       >> tensor(0.1627, dtype=torch.float64)\n",
      "Alpha_R     >> tensor(0.0140, dtype=torch.float64)\n",
      "P(q_ri)     >> tensor(2503.9077, dtype=torch.float64, grad_fn=<MulBackward0>)\n",
      "P(q_phii)   >> tensor(3.7031, dtype=torch.float64, grad_fn=<MulBackward0>)\n",
      ">>>> tensor(-2235.6825, dtype=torch.float64, grad_fn=<NegBackward>)\n",
      "Prob_edges  >> tensor(-256.0182, dtype=torch.float64, grad_fn=<SumBackward0>)\n",
      "Alpha_R_ri  >> tensor(1.0906, dtype=torch.float64, grad_fn=<MulBackward0>)\n",
      "Alpha       >> tensor(0.1538, dtype=torch.float64)\n",
      "Alpha_R     >> tensor(0.0132, dtype=torch.float64)\n",
      "P(q_ri)     >> tensor(2574.7864, dtype=torch.float64, grad_fn=<MulBackward0>)\n",
      "P(q_phii)   >> tensor(3.4299, dtype=torch.float64, grad_fn=<MulBackward0>)\n",
      ">>>> tensor(-2320.4907, dtype=torch.float64, grad_fn=<NegBackward>)\n"
     ]
    },
    {
     "data": {
      "text/plain": [
       "tensor(-29238.0845, dtype=torch.float64, grad_fn=<AddBackward0>)"
      ]
     },
     "execution_count": 14,
     "metadata": {},
     "output_type": "execute_result"
    }
   ],
   "source": [
    "total_loss = 0\n",
    "with autograd.detect_anomaly():\n",
    "    #print(torch.is_anomaly_enabled())\n",
    "    for idx1, idx2, data in dataloader:\n",
    "        loss = - vi.elbo(idx1, idx2, data, debug=True)\n",
    "        vi.optimizer.zero_grad()\n",
    "        loss.backward()\n",
    "        vi.optimizer.step()\n",
    "        print('>>>>', loss)\n",
    "        total_loss += loss\n",
    "total_loss        "
   ]
  },
  {
   "cell_type": "code",
   "execution_count": 13,
   "metadata": {},
   "outputs": [
    {
     "data": {
      "text/plain": [
       "tensor(10253.7785, dtype=torch.float64, grad_fn=<AddBackward0>)"
      ]
     },
     "execution_count": 13,
     "metadata": {},
     "output_type": "execute_result"
    }
   ],
   "source": [
    "total_loss"
   ]
  },
  {
   "cell_type": "code",
   "execution_count": 12,
   "metadata": {},
   "outputs": [
    {
     "name": "stdout",
     "output_type": "stream",
     "text": [
      ">>>>>>>>>>>> Start training...\n"
     ]
    },
    {
     "name": "stderr",
     "output_type": "stream",
     "text": [
      "../src/utils.py:126: UserWarning: cosh_dist has 1 in it!\n",
      "  warnings.warn(str('%s has 1 in it!' % variable))\n"
     ]
    },
    {
     "name": "stdout",
     "output_type": "stream",
     "text": [
      "Epoch 1 | LR: 0.01 | Total loss: 10253.78 | Epoch time 4.79\n",
      "Epoch 2 | LR: 0.01 | Total loss: -29238.08 | Epoch time 4.68\n",
      "Epoch 3 | LR: 0.01 | Total loss: -477261.05 | Epoch time 4.82\n",
      "Epoch 4 | LR: 0.01 | Total loss: -5646630.46 | Epoch time 4.96\n"
     ]
    },
    {
     "ename": "KeyboardInterrupt",
     "evalue": "",
     "output_type": "error",
     "traceback": [
      "\u001b[0;31m---------------------------------------------------------------------------\u001b[0m",
      "\u001b[0;31mKeyboardInterrupt\u001b[0m                         Traceback (most recent call last)",
      "\u001b[0;32m<ipython-input-12-b61e684b70e7>\u001b[0m in \u001b[0;36m<module>\u001b[0;34m\u001b[0m\n\u001b[1;32m      1\u001b[0m \u001b[0;32mwith\u001b[0m \u001b[0mautograd\u001b[0m\u001b[0;34m.\u001b[0m\u001b[0mdetect_anomaly\u001b[0m\u001b[0;34m(\u001b[0m\u001b[0;34m)\u001b[0m\u001b[0;34m:\u001b[0m\u001b[0;34m\u001b[0m\u001b[0m\n\u001b[0;32m----> 2\u001b[0;31m     \u001b[0mvi\u001b[0m\u001b[0;34m.\u001b[0m\u001b[0mtrain\u001b[0m\u001b[0;34m(\u001b[0m\u001b[0mdataloader\u001b[0m\u001b[0;34m,\u001b[0m \u001b[0mlrs\u001b[0m\u001b[0;34m=\u001b[0m\u001b[0;36m0.01\u001b[0m\u001b[0;34m)\u001b[0m\u001b[0;34m\u001b[0m\u001b[0m\n\u001b[0m",
      "\u001b[0;32m~/git/Network_models/src/vi_hrg_fixRTalpha.py\u001b[0m in \u001b[0;36mtrain\u001b[0;34m(self, dataloader, optimizer, lrs, epochs, momentum)\u001b[0m\n\u001b[1;32m    417\u001b[0m             \u001b[0mself\u001b[0m\u001b[0;34m.\u001b[0m\u001b[0moptimizer\u001b[0m\u001b[0;34m.\u001b[0m\u001b[0mlr\u001b[0m\u001b[0;34m=\u001b[0m\u001b[0mself\u001b[0m\u001b[0;34m.\u001b[0m\u001b[0mlrs\u001b[0m\u001b[0;34m\u001b[0m\u001b[0m\n\u001b[1;32m    418\u001b[0m             \u001b[0;32mfor\u001b[0m \u001b[0me\u001b[0m \u001b[0;32min\u001b[0m \u001b[0mrange\u001b[0m\u001b[0;34m(\u001b[0m\u001b[0mself\u001b[0m\u001b[0;34m.\u001b[0m\u001b[0mepochs\u001b[0m\u001b[0;34m)\u001b[0m\u001b[0;34m:\u001b[0m\u001b[0;34m\u001b[0m\u001b[0m\n\u001b[0;32m--> 419\u001b[0;31m                    \u001b[0mcurr_loss\u001b[0m \u001b[0;34m=\u001b[0m \u001b[0mself\u001b[0m\u001b[0;34m.\u001b[0m\u001b[0mtrain_\u001b[0m\u001b[0;34m(\u001b[0m\u001b[0mepoch_counter\u001b[0m\u001b[0;34m)\u001b[0m\u001b[0;34m\u001b[0m\u001b[0m\n\u001b[0m\u001b[1;32m    420\u001b[0m                    \u001b[0mepoch_counter\u001b[0m \u001b[0;34m+=\u001b[0m\u001b[0;36m1\u001b[0m\u001b[0;34m\u001b[0m\u001b[0m\n\u001b[1;32m    421\u001b[0m                    \u001b[0mself\u001b[0m\u001b[0;34m.\u001b[0m\u001b[0mloss_list\u001b[0m\u001b[0;34m.\u001b[0m\u001b[0mappend\u001b[0m\u001b[0;34m(\u001b[0m\u001b[0mcurr_loss\u001b[0m\u001b[0;34m)\u001b[0m\u001b[0;34m\u001b[0m\u001b[0m\n",
      "\u001b[0;32m~/git/Network_models/src/vi_hrg_fixRTalpha.py\u001b[0m in \u001b[0;36mtrain_\u001b[0;34m(self, epoch_num)\u001b[0m\n\u001b[1;32m    353\u001b[0m         \u001b[0;32mfor\u001b[0m \u001b[0midx1\u001b[0m\u001b[0;34m,\u001b[0m \u001b[0midx2\u001b[0m\u001b[0;34m,\u001b[0m \u001b[0mdata\u001b[0m \u001b[0;32min\u001b[0m \u001b[0mself\u001b[0m\u001b[0;34m.\u001b[0m\u001b[0mdataloader\u001b[0m\u001b[0;34m:\u001b[0m\u001b[0;34m\u001b[0m\u001b[0m\n\u001b[1;32m    354\u001b[0m             \u001b[0midx1\u001b[0m\u001b[0;34m,\u001b[0m \u001b[0midx2\u001b[0m\u001b[0;34m,\u001b[0m \u001b[0mdata\u001b[0m \u001b[0;34m=\u001b[0m \u001b[0midx1\u001b[0m\u001b[0;34m.\u001b[0m\u001b[0mto\u001b[0m\u001b[0;34m(\u001b[0m\u001b[0mself\u001b[0m\u001b[0;34m.\u001b[0m\u001b[0mdevice\u001b[0m\u001b[0;34m)\u001b[0m\u001b[0;34m,\u001b[0m \u001b[0midx2\u001b[0m\u001b[0;34m.\u001b[0m\u001b[0mto\u001b[0m\u001b[0;34m(\u001b[0m\u001b[0mself\u001b[0m\u001b[0;34m.\u001b[0m\u001b[0mdevice\u001b[0m\u001b[0;34m)\u001b[0m\u001b[0;34m,\u001b[0m \u001b[0mdata\u001b[0m\u001b[0;34m.\u001b[0m\u001b[0mto\u001b[0m\u001b[0;34m(\u001b[0m\u001b[0mself\u001b[0m\u001b[0;34m.\u001b[0m\u001b[0mdevice\u001b[0m\u001b[0;34m)\u001b[0m\u001b[0;34m\u001b[0m\u001b[0m\n\u001b[0;32m--> 355\u001b[0;31m             \u001b[0mloss\u001b[0m \u001b[0;34m=\u001b[0m \u001b[0;34m-\u001b[0m \u001b[0mself\u001b[0m\u001b[0;34m.\u001b[0m\u001b[0melbo\u001b[0m\u001b[0;34m(\u001b[0m\u001b[0midx1\u001b[0m\u001b[0;34m,\u001b[0m \u001b[0midx2\u001b[0m\u001b[0;34m,\u001b[0m \u001b[0mdata\u001b[0m\u001b[0;34m)\u001b[0m\u001b[0;34m\u001b[0m\u001b[0m\n\u001b[0m\u001b[1;32m    356\u001b[0m             \u001b[0mself\u001b[0m\u001b[0;34m.\u001b[0m\u001b[0moptimizer\u001b[0m\u001b[0;34m.\u001b[0m\u001b[0mzero_grad\u001b[0m\u001b[0;34m(\u001b[0m\u001b[0;34m)\u001b[0m\u001b[0;34m\u001b[0m\u001b[0m\n\u001b[1;32m    357\u001b[0m             \u001b[0mloss\u001b[0m\u001b[0;34m.\u001b[0m\u001b[0mbackward\u001b[0m\u001b[0;34m(\u001b[0m\u001b[0mretain_graph\u001b[0m\u001b[0;34m=\u001b[0m\u001b[0;32mFalse\u001b[0m\u001b[0;34m)\u001b[0m\u001b[0;34m\u001b[0m\u001b[0m\n",
      "\u001b[0;32m~/git/Network_models/src/vi_hrg_fixRTalpha.py\u001b[0m in \u001b[0;36melbo\u001b[0;34m(self, idx1, idx2, weights, debug)\u001b[0m\n\u001b[1;32m    295\u001b[0m \u001b[0;34m\u001b[0m\u001b[0m\n\u001b[1;32m    296\u001b[0m         cosh_dist = cd(warn_tensor(r_samples[:,idx1], 'r_samples_1'), \n\u001b[0;32m--> 297\u001b[0;31m                        \u001b[0mwarn_tensor\u001b[0m\u001b[0;34m(\u001b[0m\u001b[0mr_samples\u001b[0m\u001b[0;34m[\u001b[0m\u001b[0;34m:\u001b[0m\u001b[0;34m,\u001b[0m\u001b[0midx2\u001b[0m\u001b[0;34m]\u001b[0m\u001b[0;34m,\u001b[0m \u001b[0;34m'r_samples_2'\u001b[0m\u001b[0;34m)\u001b[0m\u001b[0;34m,\u001b[0m\u001b[0;34m\u001b[0m\u001b[0m\n\u001b[0m\u001b[1;32m    298\u001b[0m                        \u001b[0mwarn_tensor\u001b[0m\u001b[0;34m(\u001b[0m\u001b[0mc2d\u001b[0m\u001b[0;34m(\u001b[0m\u001b[0mphi_samples\u001b[0m\u001b[0;34m[\u001b[0m\u001b[0;34m:\u001b[0m\u001b[0;34m,\u001b[0m\u001b[0midx1\u001b[0m\u001b[0;34m]\u001b[0m\u001b[0;34m)\u001b[0m\u001b[0;34m,\u001b[0m \u001b[0;34m'phi_samples_1'\u001b[0m\u001b[0;34m)\u001b[0m\u001b[0;34m,\u001b[0m\u001b[0;34m\u001b[0m\u001b[0m\n\u001b[1;32m    299\u001b[0m                        warn_tensor(c2d(phi_samples[:,idx2]), 'phi_samples_2')) \n",
      "\u001b[0;32m/usr/lib/python3.5/traceback.py\u001b[0m in \u001b[0;36mformat_stack\u001b[0;34m(f, limit)\u001b[0m\n\u001b[1;32m    191\u001b[0m     \u001b[0;32mif\u001b[0m \u001b[0mf\u001b[0m \u001b[0;32mis\u001b[0m \u001b[0;32mNone\u001b[0m\u001b[0;34m:\u001b[0m\u001b[0;34m\u001b[0m\u001b[0m\n\u001b[1;32m    192\u001b[0m         \u001b[0mf\u001b[0m \u001b[0;34m=\u001b[0m \u001b[0msys\u001b[0m\u001b[0;34m.\u001b[0m\u001b[0m_getframe\u001b[0m\u001b[0;34m(\u001b[0m\u001b[0;34m)\u001b[0m\u001b[0;34m.\u001b[0m\u001b[0mf_back\u001b[0m\u001b[0;34m\u001b[0m\u001b[0m\n\u001b[0;32m--> 193\u001b[0;31m     \u001b[0;32mreturn\u001b[0m \u001b[0mformat_list\u001b[0m\u001b[0;34m(\u001b[0m\u001b[0mextract_stack\u001b[0m\u001b[0;34m(\u001b[0m\u001b[0mf\u001b[0m\u001b[0;34m,\u001b[0m \u001b[0mlimit\u001b[0m\u001b[0;34m=\u001b[0m\u001b[0mlimit\u001b[0m\u001b[0;34m)\u001b[0m\u001b[0;34m)\u001b[0m\u001b[0;34m\u001b[0m\u001b[0m\n\u001b[0m\u001b[1;32m    194\u001b[0m \u001b[0;34m\u001b[0m\u001b[0m\n\u001b[1;32m    195\u001b[0m \u001b[0;34m\u001b[0m\u001b[0m\n",
      "\u001b[0;32m/usr/lib/python3.5/traceback.py\u001b[0m in \u001b[0;36mextract_stack\u001b[0;34m(f, limit)\u001b[0m\n\u001b[1;32m    205\u001b[0m     \u001b[0;32mif\u001b[0m \u001b[0mf\u001b[0m \u001b[0;32mis\u001b[0m \u001b[0;32mNone\u001b[0m\u001b[0;34m:\u001b[0m\u001b[0;34m\u001b[0m\u001b[0m\n\u001b[1;32m    206\u001b[0m         \u001b[0mf\u001b[0m \u001b[0;34m=\u001b[0m \u001b[0msys\u001b[0m\u001b[0;34m.\u001b[0m\u001b[0m_getframe\u001b[0m\u001b[0;34m(\u001b[0m\u001b[0;34m)\u001b[0m\u001b[0;34m.\u001b[0m\u001b[0mf_back\u001b[0m\u001b[0;34m\u001b[0m\u001b[0m\n\u001b[0;32m--> 207\u001b[0;31m     \u001b[0mstack\u001b[0m \u001b[0;34m=\u001b[0m \u001b[0mStackSummary\u001b[0m\u001b[0;34m.\u001b[0m\u001b[0mextract\u001b[0m\u001b[0;34m(\u001b[0m\u001b[0mwalk_stack\u001b[0m\u001b[0;34m(\u001b[0m\u001b[0mf\u001b[0m\u001b[0;34m)\u001b[0m\u001b[0;34m,\u001b[0m \u001b[0mlimit\u001b[0m\u001b[0;34m=\u001b[0m\u001b[0mlimit\u001b[0m\u001b[0;34m)\u001b[0m\u001b[0;34m\u001b[0m\u001b[0m\n\u001b[0m\u001b[1;32m    208\u001b[0m     \u001b[0mstack\u001b[0m\u001b[0;34m.\u001b[0m\u001b[0mreverse\u001b[0m\u001b[0;34m(\u001b[0m\u001b[0;34m)\u001b[0m\u001b[0;34m\u001b[0m\u001b[0m\n\u001b[1;32m    209\u001b[0m     \u001b[0;32mreturn\u001b[0m \u001b[0mstack\u001b[0m\u001b[0;34m\u001b[0m\u001b[0m\n",
      "\u001b[0;32m/usr/lib/python3.5/traceback.py\u001b[0m in \u001b[0;36mextract\u001b[0;34m(klass, frame_gen, limit, lookup_lines, capture_locals)\u001b[0m\n\u001b[1;32m    352\u001b[0m                 filename, lineno, name, lookup_line=False, locals=f_locals))\n\u001b[1;32m    353\u001b[0m         \u001b[0;32mfor\u001b[0m \u001b[0mfilename\u001b[0m \u001b[0;32min\u001b[0m \u001b[0mfnames\u001b[0m\u001b[0;34m:\u001b[0m\u001b[0;34m\u001b[0m\u001b[0m\n\u001b[0;32m--> 354\u001b[0;31m             \u001b[0mlinecache\u001b[0m\u001b[0;34m.\u001b[0m\u001b[0mcheckcache\u001b[0m\u001b[0;34m(\u001b[0m\u001b[0mfilename\u001b[0m\u001b[0;34m)\u001b[0m\u001b[0;34m\u001b[0m\u001b[0m\n\u001b[0m\u001b[1;32m    355\u001b[0m         \u001b[0;31m# If immediate lookup was desired, trigger lookups now.\u001b[0m\u001b[0;34m\u001b[0m\u001b[0;34m\u001b[0m\u001b[0m\n\u001b[1;32m    356\u001b[0m         \u001b[0;32mif\u001b[0m \u001b[0mlookup_lines\u001b[0m\u001b[0;34m:\u001b[0m\u001b[0;34m\u001b[0m\u001b[0m\n",
      "\u001b[0;32m~/.local/lib/python3.5/site-packages/IPython/core/compilerop.py\u001b[0m in \u001b[0;36mcheck_linecache_ipython\u001b[0;34m(*args)\u001b[0m\n\u001b[1;32m    139\u001b[0m     \"\"\"\n\u001b[1;32m    140\u001b[0m     \u001b[0;31m# First call the original checkcache as intended\u001b[0m\u001b[0;34m\u001b[0m\u001b[0;34m\u001b[0m\u001b[0m\n\u001b[0;32m--> 141\u001b[0;31m     \u001b[0mlinecache\u001b[0m\u001b[0;34m.\u001b[0m\u001b[0m_checkcache_ori\u001b[0m\u001b[0;34m(\u001b[0m\u001b[0;34m*\u001b[0m\u001b[0margs\u001b[0m\u001b[0;34m)\u001b[0m\u001b[0;34m\u001b[0m\u001b[0m\n\u001b[0m\u001b[1;32m    142\u001b[0m     \u001b[0;31m# Then, update back the cache with our data, so that tracebacks related\u001b[0m\u001b[0;34m\u001b[0m\u001b[0;34m\u001b[0m\u001b[0m\n\u001b[1;32m    143\u001b[0m     \u001b[0;31m# to our compiled codes can be produced.\u001b[0m\u001b[0;34m\u001b[0m\u001b[0;34m\u001b[0m\u001b[0m\n",
      "\u001b[0;32m/usr/lib/python3.5/linecache.py\u001b[0m in \u001b[0;36mcheckcache\u001b[0;34m(filename)\u001b[0m\n\u001b[1;32m     72\u001b[0m             \u001b[0;32mcontinue\u001b[0m   \u001b[0;31m# no-op for files loaded via a __loader__\u001b[0m\u001b[0;34m\u001b[0m\u001b[0m\n\u001b[1;32m     73\u001b[0m         \u001b[0;32mtry\u001b[0m\u001b[0;34m:\u001b[0m\u001b[0;34m\u001b[0m\u001b[0m\n\u001b[0;32m---> 74\u001b[0;31m             \u001b[0mstat\u001b[0m \u001b[0;34m=\u001b[0m \u001b[0mos\u001b[0m\u001b[0;34m.\u001b[0m\u001b[0mstat\u001b[0m\u001b[0;34m(\u001b[0m\u001b[0mfullname\u001b[0m\u001b[0;34m)\u001b[0m\u001b[0;34m\u001b[0m\u001b[0m\n\u001b[0m\u001b[1;32m     75\u001b[0m         \u001b[0;32mexcept\u001b[0m \u001b[0mOSError\u001b[0m\u001b[0;34m:\u001b[0m\u001b[0;34m\u001b[0m\u001b[0m\n\u001b[1;32m     76\u001b[0m             \u001b[0;32mdel\u001b[0m \u001b[0mcache\u001b[0m\u001b[0;34m[\u001b[0m\u001b[0mfilename\u001b[0m\u001b[0;34m]\u001b[0m\u001b[0;34m\u001b[0m\u001b[0m\n",
      "\u001b[0;31mKeyboardInterrupt\u001b[0m: "
     ]
    }
   ],
   "source": [
    "with autograd.detect_anomaly():\n",
    "    vi.train(dataloader, lrs=0.01)"
   ]
  },
  {
   "cell_type": "code",
   "execution_count": null,
   "metadata": {},
   "outputs": [],
   "source": [
    "r_loc_init"
   ]
  },
  {
   "cell_type": "code",
   "execution_count": null,
   "metadata": {},
   "outputs": [],
   "source": [
    "vi.alpha_conc.exp(), vi.alpha_scale.exp()"
   ]
  },
  {
   "cell_type": "code",
   "execution_count": 15,
   "metadata": {},
   "outputs": [
    {
     "data": {
      "text/plain": [
       "(Parameter containing:\n",
       " tensor([56.9091,  3.9635, -3.9122,  3.8555, -8.3715,  1.5815, 56.8032,  9.0537,\n",
       "          0.8439, 11.6298,  5.0097, -1.3852,  9.2850,  6.9896, 56.5487,  4.5372,\n",
       "         56.6321, -3.3019, 10.2364, -1.4149, 56.7479,  5.9424, 56.7463,  2.0818,\n",
       "         56.7598, 56.4430,  9.3889,  1.5549, 10.5041,  5.6808, 56.5357,  9.9711,\n",
       "          3.8809, 12.5731,  8.3478, -5.2546,  1.8356, 56.4930,  2.4963, 15.9257,\n",
       "          2.3456, 56.7916, 13.1642,  3.2455,  4.0737,  7.5471, 56.7527, 26.3773,\n",
       "          3.0373,  9.1823,  1.4093, 56.4141,  4.2777, -6.5819, -2.8102, 56.7080,\n",
       "         56.9363, 56.8791, 56.7144,  9.2963,  0.5525,  7.1836, -5.6121, 56.8700,\n",
       "          6.3156, 10.7857,  2.5535,  1.0002, 56.8336, 17.0014, 56.6810, -2.4243,\n",
       "         -5.2065,  2.9432,  4.8724], dtype=torch.float64, requires_grad=True),\n",
       " tensor([0.1596, 1.5768, 1.6087, 2.2316, 2.1865, 6.5008, 0.1776, 2.4938, 3.5170,\n",
       "         2.9182, 1.9397, 3.1396, 2.3758, 1.5585, 0.2289, 1.6529, 0.2104, 2.4660,\n",
       "         3.1382, 1.2514, 0.1873, 1.5616, 0.1874, 1.1734, 0.1843, 0.2547, 2.4944,\n",
       "         1.1234, 2.6521, 1.8270, 0.2321, 2.5456, 1.4648, 4.2387, 2.2431, 2.4499,\n",
       "         1.2992, 0.2422, 1.8178, 4.5039, 0.9942, 0.1793, 3.3220, 3.9311, 3.2713,\n",
       "         1.6888, 0.1866, 9.0188, 2.0101, 2.3255, 1.7082, 0.2614, 1.6277, 1.7978,\n",
       "         0.9305, 0.1952, 0.1550, 0.1644, 0.1938, 2.6419, 1.6417, 1.8030, 1.5732,\n",
       "         0.1657, 1.8594, 3.3262, 1.4189, 1.3333, 0.1717, 5.4977, 0.2000, 1.1661,\n",
       "         2.4195, 2.8170, 2.5278], dtype=torch.float64, grad_fn=<ExpBackward>))"
      ]
     },
     "execution_count": 15,
     "metadata": {},
     "output_type": "execute_result"
    }
   ],
   "source": [
    "vi.rs_loc, vi.rs_scale.exp()"
   ]
  },
  {
   "cell_type": "code",
   "execution_count": 16,
   "metadata": {},
   "outputs": [
    {
     "data": {
      "text/plain": [
       "tensor([5.0000e+00, 4.9068e+00, 9.8019e-02, 4.8964e+00, 1.1565e-03, 4.1471e+00,\n",
       "        5.0000e+00, 4.9994e+00, 3.4965e+00, 5.0000e+00, 4.9669e+00, 1.0009e+00,\n",
       "        4.9995e+00, 4.9954e+00, 5.0000e+00, 4.9471e+00, 5.0000e+00, 1.7753e-01,\n",
       "        4.9998e+00, 9.7734e-01, 5.0000e+00, 4.9869e+00, 5.0000e+00, 4.4456e+00,\n",
       "        5.0000e+00, 5.0000e+00, 4.9996e+00, 4.1281e+00, 4.9999e+00, 4.9830e+00,\n",
       "        5.0000e+00, 4.9998e+00, 4.8989e+00, 5.0000e+00, 4.9988e+00, 2.5983e-02,\n",
       "        4.3121e+00, 5.0000e+00, 4.6194e+00, 5.0000e+00, 4.5629e+00, 5.0000e+00,\n",
       "        5.0000e+00, 4.8126e+00, 4.9163e+00, 4.9974e+00, 5.0000e+00, 5.0000e+00,\n",
       "        4.7712e+00, 4.9995e+00, 4.0183e+00, 5.0000e+00, 4.9316e+00, 6.9168e-03,\n",
       "        2.8387e-01, 5.0000e+00, 5.0000e+00, 5.0000e+00, 5.0000e+00, 4.9995e+00,\n",
       "        3.1736e+00, 4.9962e+00, 1.8201e-02, 5.0000e+00, 4.9910e+00, 4.9999e+00,\n",
       "        4.6390e+00, 3.6555e+00, 5.0000e+00, 5.0000e+00, 5.0000e+00, 4.0668e-01,\n",
       "        2.7256e-02, 4.7497e+00, 4.9620e+00], dtype=torch.float64,\n",
       "       grad_fn=<MulBackward0>)"
      ]
     },
     "execution_count": 16,
     "metadata": {},
     "output_type": "execute_result"
    }
   ],
   "source": [
    "Radius(vi.rs_loc, vi.rs_scale.exp(), torch.ones([N])*R).mean"
   ]
  },
  {
   "cell_type": "code",
   "execution_count": null,
   "metadata": {},
   "outputs": [],
   "source": [
    "vi.r_i_samples"
   ]
  },
  {
   "cell_type": "code",
   "execution_count": null,
   "metadata": {},
   "outputs": [],
   "source": [
    "vi.R_conc.exp(), vi.R_scale.exp()"
   ]
  },
  {
   "cell_type": "code",
   "execution_count": null,
   "metadata": {},
   "outputs": [],
   "source": [
    "p_hd_ = lambda d,R,T: (1.+((d-R)/(2.*T)).exp()).reciprocal()\n",
    "phd = lambda d,R,T: 0.5 + 0.5*(-(d-R)/(4*T)).tanh()"
   ]
  },
  {
   "cell_type": "code",
   "execution_count": null,
   "metadata": {},
   "outputs": [],
   "source": [
    "p_hd_(torch.tensor(-np.inf),R,T)"
   ]
  },
  {
   "cell_type": "code",
   "execution_count": null,
   "metadata": {},
   "outputs": [],
   "source": [
    "phd(torch.tensor(5.1),R,T)"
   ]
  },
  {
   "cell_type": "code",
   "execution_count": null,
   "metadata": {},
   "outputs": [],
   "source": [
    "torch.tensor([0.1,10.0]).log()"
   ]
  },
  {
   "cell_type": "code",
   "execution_count": null,
   "metadata": {},
   "outputs": [],
   "source": [
    "x = torch.arange(0.,1.,.01)\n",
    "plt.plot(x, torch.sigmoid(logit(x)))\n",
    "plt.show()"
   ]
  },
  {
   "cell_type": "code",
   "execution_count": null,
   "metadata": {},
   "outputs": [],
   "source": [
    "logit(torch.tensor(0.))"
   ]
  },
  {
   "cell_type": "code",
   "execution_count": null,
   "metadata": {},
   "outputs": [],
   "source": [
    "l, n, m = 3, 4, 5\n",
    "broadcast = torch.ones([l,n])"
   ]
  },
  {
   "cell_type": "code",
   "execution_count": null,
   "metadata": {},
   "outputs": [],
   "source": [
    "torch.rand(m).expand(n,m).t()"
   ]
  },
  {
   "cell_type": "code",
   "execution_count": null,
   "metadata": {},
   "outputs": [],
   "source": [
    "torch.arange(n).expand(m,n)"
   ]
  },
  {
   "cell_type": "code",
   "execution_count": null,
   "metadata": {},
   "outputs": [],
   "source": [
    "torch.tensor(0.).mean()"
   ]
  },
  {
   "cell_type": "code",
   "execution_count": null,
   "metadata": {},
   "outputs": [],
   "source": [
    "arcosh = lambda x: (torch.clamp(x, min=1.) + (torch.clamp(x, min=1.)**2 - 1).sqrt())\n",
    "arcosh(torch.arange(0.,2., .1))"
   ]
  },
  {
   "cell_type": "code",
   "execution_count": null,
   "metadata": {},
   "outputs": [],
   "source": [
    "torch.clamp(x, min=1.)"
   ]
  },
  {
   "cell_type": "code",
   "execution_count": null,
   "metadata": {},
   "outputs": [],
   "source": []
  }
 ],
 "metadata": {
  "kernelspec": {
   "display_name": "Python 3",
   "language": "python",
   "name": "python3"
  },
  "language_info": {
   "codemirror_mode": {
    "name": "ipython",
    "version": 3
   },
   "file_extension": ".py",
   "mimetype": "text/x-python",
   "name": "python",
   "nbconvert_exporter": "python",
   "pygments_lexer": "ipython3",
   "version": "3.5.2"
  }
 },
 "nbformat": 4,
 "nbformat_minor": 2
}
